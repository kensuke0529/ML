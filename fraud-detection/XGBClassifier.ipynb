{
 "cells": [
  {
   "cell_type": "code",
   "execution_count": 1,
   "id": "059f1f86",
   "metadata": {},
   "outputs": [],
   "source": [
    "import pandas as pd \n",
    "import matplotlib.pyplot as plt\n",
    "import seaborn as sns\n",
    "\n",
    "df = pd.read_csv('creditcard.csv')"
   ]
  },
  {
   "cell_type": "code",
   "execution_count": 2,
   "id": "79671207",
   "metadata": {},
   "outputs": [
    {
     "name": "stdout",
     "output_type": "stream",
     "text": [
      "<class 'pandas.core.frame.DataFrame'>\n",
      "RangeIndex: 284807 entries, 0 to 284806\n",
      "Data columns (total 31 columns):\n",
      " #   Column  Non-Null Count   Dtype  \n",
      "---  ------  --------------   -----  \n",
      " 0   Time    284807 non-null  float64\n",
      " 1   V1      284807 non-null  float64\n",
      " 2   V2      284807 non-null  float64\n",
      " 3   V3      284807 non-null  float64\n",
      " 4   V4      284807 non-null  float64\n",
      " 5   V5      284807 non-null  float64\n",
      " 6   V6      284807 non-null  float64\n",
      " 7   V7      284807 non-null  float64\n",
      " 8   V8      284807 non-null  float64\n",
      " 9   V9      284807 non-null  float64\n",
      " 10  V10     284807 non-null  float64\n",
      " 11  V11     284807 non-null  float64\n",
      " 12  V12     284807 non-null  float64\n",
      " 13  V13     284807 non-null  float64\n",
      " 14  V14     284807 non-null  float64\n",
      " 15  V15     284807 non-null  float64\n",
      " 16  V16     284807 non-null  float64\n",
      " 17  V17     284807 non-null  float64\n",
      " 18  V18     284807 non-null  float64\n",
      " 19  V19     284807 non-null  float64\n",
      " 20  V20     284807 non-null  float64\n",
      " 21  V21     284807 non-null  float64\n",
      " 22  V22     284807 non-null  float64\n",
      " 23  V23     284807 non-null  float64\n",
      " 24  V24     284807 non-null  float64\n",
      " 25  V25     284807 non-null  float64\n",
      " 26  V26     284807 non-null  float64\n",
      " 27  V27     284807 non-null  float64\n",
      " 28  V28     284807 non-null  float64\n",
      " 29  Amount  284807 non-null  float64\n",
      " 30  Class   284807 non-null  int64  \n",
      "dtypes: float64(30), int64(1)\n",
      "memory usage: 67.4 MB\n"
     ]
    }
   ],
   "source": [
    "df.info()"
   ]
  },
  {
   "cell_type": "code",
   "execution_count": 3,
   "id": "637ed942",
   "metadata": {},
   "outputs": [
    {
     "data": {
      "text/html": [
       "<div>\n",
       "<style scoped>\n",
       "    .dataframe tbody tr th:only-of-type {\n",
       "        vertical-align: middle;\n",
       "    }\n",
       "\n",
       "    .dataframe tbody tr th {\n",
       "        vertical-align: top;\n",
       "    }\n",
       "\n",
       "    .dataframe thead th {\n",
       "        text-align: right;\n",
       "    }\n",
       "</style>\n",
       "<table border=\"1\" class=\"dataframe\">\n",
       "  <thead>\n",
       "    <tr style=\"text-align: right;\">\n",
       "      <th></th>\n",
       "      <th>Time</th>\n",
       "      <th>V1</th>\n",
       "      <th>V2</th>\n",
       "      <th>V3</th>\n",
       "      <th>V4</th>\n",
       "      <th>V5</th>\n",
       "      <th>V6</th>\n",
       "      <th>V7</th>\n",
       "      <th>V8</th>\n",
       "      <th>V9</th>\n",
       "      <th>...</th>\n",
       "      <th>V21</th>\n",
       "      <th>V22</th>\n",
       "      <th>V23</th>\n",
       "      <th>V24</th>\n",
       "      <th>V25</th>\n",
       "      <th>V26</th>\n",
       "      <th>V27</th>\n",
       "      <th>V28</th>\n",
       "      <th>Amount</th>\n",
       "      <th>Class</th>\n",
       "    </tr>\n",
       "  </thead>\n",
       "  <tbody>\n",
       "    <tr>\n",
       "      <th>0</th>\n",
       "      <td>0.0</td>\n",
       "      <td>-1.359807</td>\n",
       "      <td>-0.072781</td>\n",
       "      <td>2.536347</td>\n",
       "      <td>1.378155</td>\n",
       "      <td>-0.338321</td>\n",
       "      <td>0.462388</td>\n",
       "      <td>0.239599</td>\n",
       "      <td>0.098698</td>\n",
       "      <td>0.363787</td>\n",
       "      <td>...</td>\n",
       "      <td>-0.018307</td>\n",
       "      <td>0.277838</td>\n",
       "      <td>-0.110474</td>\n",
       "      <td>0.066928</td>\n",
       "      <td>0.128539</td>\n",
       "      <td>-0.189115</td>\n",
       "      <td>0.133558</td>\n",
       "      <td>-0.021053</td>\n",
       "      <td>149.62</td>\n",
       "      <td>0</td>\n",
       "    </tr>\n",
       "    <tr>\n",
       "      <th>1</th>\n",
       "      <td>0.0</td>\n",
       "      <td>1.191857</td>\n",
       "      <td>0.266151</td>\n",
       "      <td>0.166480</td>\n",
       "      <td>0.448154</td>\n",
       "      <td>0.060018</td>\n",
       "      <td>-0.082361</td>\n",
       "      <td>-0.078803</td>\n",
       "      <td>0.085102</td>\n",
       "      <td>-0.255425</td>\n",
       "      <td>...</td>\n",
       "      <td>-0.225775</td>\n",
       "      <td>-0.638672</td>\n",
       "      <td>0.101288</td>\n",
       "      <td>-0.339846</td>\n",
       "      <td>0.167170</td>\n",
       "      <td>0.125895</td>\n",
       "      <td>-0.008983</td>\n",
       "      <td>0.014724</td>\n",
       "      <td>2.69</td>\n",
       "      <td>0</td>\n",
       "    </tr>\n",
       "    <tr>\n",
       "      <th>2</th>\n",
       "      <td>1.0</td>\n",
       "      <td>-1.358354</td>\n",
       "      <td>-1.340163</td>\n",
       "      <td>1.773209</td>\n",
       "      <td>0.379780</td>\n",
       "      <td>-0.503198</td>\n",
       "      <td>1.800499</td>\n",
       "      <td>0.791461</td>\n",
       "      <td>0.247676</td>\n",
       "      <td>-1.514654</td>\n",
       "      <td>...</td>\n",
       "      <td>0.247998</td>\n",
       "      <td>0.771679</td>\n",
       "      <td>0.909412</td>\n",
       "      <td>-0.689281</td>\n",
       "      <td>-0.327642</td>\n",
       "      <td>-0.139097</td>\n",
       "      <td>-0.055353</td>\n",
       "      <td>-0.059752</td>\n",
       "      <td>378.66</td>\n",
       "      <td>0</td>\n",
       "    </tr>\n",
       "    <tr>\n",
       "      <th>3</th>\n",
       "      <td>1.0</td>\n",
       "      <td>-0.966272</td>\n",
       "      <td>-0.185226</td>\n",
       "      <td>1.792993</td>\n",
       "      <td>-0.863291</td>\n",
       "      <td>-0.010309</td>\n",
       "      <td>1.247203</td>\n",
       "      <td>0.237609</td>\n",
       "      <td>0.377436</td>\n",
       "      <td>-1.387024</td>\n",
       "      <td>...</td>\n",
       "      <td>-0.108300</td>\n",
       "      <td>0.005274</td>\n",
       "      <td>-0.190321</td>\n",
       "      <td>-1.175575</td>\n",
       "      <td>0.647376</td>\n",
       "      <td>-0.221929</td>\n",
       "      <td>0.062723</td>\n",
       "      <td>0.061458</td>\n",
       "      <td>123.50</td>\n",
       "      <td>0</td>\n",
       "    </tr>\n",
       "    <tr>\n",
       "      <th>4</th>\n",
       "      <td>2.0</td>\n",
       "      <td>-1.158233</td>\n",
       "      <td>0.877737</td>\n",
       "      <td>1.548718</td>\n",
       "      <td>0.403034</td>\n",
       "      <td>-0.407193</td>\n",
       "      <td>0.095921</td>\n",
       "      <td>0.592941</td>\n",
       "      <td>-0.270533</td>\n",
       "      <td>0.817739</td>\n",
       "      <td>...</td>\n",
       "      <td>-0.009431</td>\n",
       "      <td>0.798278</td>\n",
       "      <td>-0.137458</td>\n",
       "      <td>0.141267</td>\n",
       "      <td>-0.206010</td>\n",
       "      <td>0.502292</td>\n",
       "      <td>0.219422</td>\n",
       "      <td>0.215153</td>\n",
       "      <td>69.99</td>\n",
       "      <td>0</td>\n",
       "    </tr>\n",
       "  </tbody>\n",
       "</table>\n",
       "<p>5 rows × 31 columns</p>\n",
       "</div>"
      ],
      "text/plain": [
       "   Time        V1        V2        V3        V4        V5        V6        V7  \\\n",
       "0   0.0 -1.359807 -0.072781  2.536347  1.378155 -0.338321  0.462388  0.239599   \n",
       "1   0.0  1.191857  0.266151  0.166480  0.448154  0.060018 -0.082361 -0.078803   \n",
       "2   1.0 -1.358354 -1.340163  1.773209  0.379780 -0.503198  1.800499  0.791461   \n",
       "3   1.0 -0.966272 -0.185226  1.792993 -0.863291 -0.010309  1.247203  0.237609   \n",
       "4   2.0 -1.158233  0.877737  1.548718  0.403034 -0.407193  0.095921  0.592941   \n",
       "\n",
       "         V8        V9  ...       V21       V22       V23       V24       V25  \\\n",
       "0  0.098698  0.363787  ... -0.018307  0.277838 -0.110474  0.066928  0.128539   \n",
       "1  0.085102 -0.255425  ... -0.225775 -0.638672  0.101288 -0.339846  0.167170   \n",
       "2  0.247676 -1.514654  ...  0.247998  0.771679  0.909412 -0.689281 -0.327642   \n",
       "3  0.377436 -1.387024  ... -0.108300  0.005274 -0.190321 -1.175575  0.647376   \n",
       "4 -0.270533  0.817739  ... -0.009431  0.798278 -0.137458  0.141267 -0.206010   \n",
       "\n",
       "        V26       V27       V28  Amount  Class  \n",
       "0 -0.189115  0.133558 -0.021053  149.62      0  \n",
       "1  0.125895 -0.008983  0.014724    2.69      0  \n",
       "2 -0.139097 -0.055353 -0.059752  378.66      0  \n",
       "3 -0.221929  0.062723  0.061458  123.50      0  \n",
       "4  0.502292  0.219422  0.215153   69.99      0  \n",
       "\n",
       "[5 rows x 31 columns]"
      ]
     },
     "execution_count": 3,
     "metadata": {},
     "output_type": "execute_result"
    }
   ],
   "source": [
    "df.head()"
   ]
  },
  {
   "cell_type": "code",
   "execution_count": 4,
   "id": "77798bae",
   "metadata": {},
   "outputs": [
    {
     "data": {
      "image/png": "[encoded data removed]",
      "text/plain": [
       "<Figure size 640x480 with 1 Axes>"
      ]
     },
     "metadata": {},
     "output_type": "display_data"
    }
   ],
   "source": [
    "sns.histplot(df['Amount'], bins=100)\n",
    "plt.show()"
   ]
  },
  {
   "cell_type": "code",
   "execution_count": 5,
   "id": "b11185f4",
   "metadata": {},
   "outputs": [
    {
     "data": {
      "image/png": "[encoded data removed]",
      "text/plain": [
       "<Figure size 640x480 with 1 Axes>"
      ]
     },
     "metadata": {},
     "output_type": "display_data"
    }
   ],
   "source": [
    "sns.histplot(df['Time'], bins=100)\n",
    "plt.show()"
   ]
  },
  {
   "cell_type": "code",
   "execution_count": 6,
   "id": "0fd38692",
   "metadata": {},
   "outputs": [
    {
     "data": {
      "image/png": "[encoded data removed]",
      "text/plain": [
       "<Figure size 640x480 with 1 Axes>"
      ]
     },
     "metadata": {},
     "output_type": "display_data"
    }
   ],
   "source": [
    "# log Amount \n",
    "import numpy as np\n",
    "df['Amount_log'] = np.log1p(df['Amount'])\n",
    "sns.histplot(df['Amount_log'], bins=100)\n",
    "plt.show()"
   ]
  },
  {
   "cell_type": "code",
   "execution_count": 7,
   "id": "c6fd00f1",
   "metadata": {},
   "outputs": [],
   "source": [
    "count = df['Class'].value_counts() / len(df) * 100\n",
    "ratio_positive = count[0] / count[1]"
   ]
  },
  {
   "cell_type": "code",
   "execution_count": 8,
   "id": "c39da266",
   "metadata": {},
   "outputs": [
    {
     "data": {
      "text/html": [
       "<div>\n",
       "<style scoped>\n",
       "    .dataframe tbody tr th:only-of-type {\n",
       "        vertical-align: middle;\n",
       "    }\n",
       "\n",
       "    .dataframe tbody tr th {\n",
       "        vertical-align: top;\n",
       "    }\n",
       "\n",
       "    .dataframe thead th {\n",
       "        text-align: right;\n",
       "    }\n",
       "</style>\n",
       "<table border=\"1\" class=\"dataframe\">\n",
       "  <thead>\n",
       "    <tr style=\"text-align: right;\">\n",
       "      <th></th>\n",
       "      <th>Time</th>\n",
       "      <th>V1</th>\n",
       "      <th>V2</th>\n",
       "      <th>V3</th>\n",
       "      <th>V4</th>\n",
       "      <th>V5</th>\n",
       "      <th>V6</th>\n",
       "      <th>V7</th>\n",
       "      <th>V8</th>\n",
       "      <th>V9</th>\n",
       "      <th>...</th>\n",
       "      <th>V21</th>\n",
       "      <th>V22</th>\n",
       "      <th>V23</th>\n",
       "      <th>V24</th>\n",
       "      <th>V25</th>\n",
       "      <th>V26</th>\n",
       "      <th>V27</th>\n",
       "      <th>V28</th>\n",
       "      <th>Class</th>\n",
       "      <th>Amount_log</th>\n",
       "    </tr>\n",
       "  </thead>\n",
       "  <tbody>\n",
       "    <tr>\n",
       "      <th>0</th>\n",
       "      <td>0.0</td>\n",
       "      <td>-1.359807</td>\n",
       "      <td>-0.072781</td>\n",
       "      <td>2.536347</td>\n",
       "      <td>1.378155</td>\n",
       "      <td>-0.338321</td>\n",
       "      <td>0.462388</td>\n",
       "      <td>0.239599</td>\n",
       "      <td>0.098698</td>\n",
       "      <td>0.363787</td>\n",
       "      <td>...</td>\n",
       "      <td>-0.018307</td>\n",
       "      <td>0.277838</td>\n",
       "      <td>-0.110474</td>\n",
       "      <td>0.066928</td>\n",
       "      <td>0.128539</td>\n",
       "      <td>-0.189115</td>\n",
       "      <td>0.133558</td>\n",
       "      <td>-0.021053</td>\n",
       "      <td>0</td>\n",
       "      <td>5.014760</td>\n",
       "    </tr>\n",
       "    <tr>\n",
       "      <th>1</th>\n",
       "      <td>0.0</td>\n",
       "      <td>1.191857</td>\n",
       "      <td>0.266151</td>\n",
       "      <td>0.166480</td>\n",
       "      <td>0.448154</td>\n",
       "      <td>0.060018</td>\n",
       "      <td>-0.082361</td>\n",
       "      <td>-0.078803</td>\n",
       "      <td>0.085102</td>\n",
       "      <td>-0.255425</td>\n",
       "      <td>...</td>\n",
       "      <td>-0.225775</td>\n",
       "      <td>-0.638672</td>\n",
       "      <td>0.101288</td>\n",
       "      <td>-0.339846</td>\n",
       "      <td>0.167170</td>\n",
       "      <td>0.125895</td>\n",
       "      <td>-0.008983</td>\n",
       "      <td>0.014724</td>\n",
       "      <td>0</td>\n",
       "      <td>1.305626</td>\n",
       "    </tr>\n",
       "    <tr>\n",
       "      <th>2</th>\n",
       "      <td>1.0</td>\n",
       "      <td>-1.358354</td>\n",
       "      <td>-1.340163</td>\n",
       "      <td>1.773209</td>\n",
       "      <td>0.379780</td>\n",
       "      <td>-0.503198</td>\n",
       "      <td>1.800499</td>\n",
       "      <td>0.791461</td>\n",
       "      <td>0.247676</td>\n",
       "      <td>-1.514654</td>\n",
       "      <td>...</td>\n",
       "      <td>0.247998</td>\n",
       "      <td>0.771679</td>\n",
       "      <td>0.909412</td>\n",
       "      <td>-0.689281</td>\n",
       "      <td>-0.327642</td>\n",
       "      <td>-0.139097</td>\n",
       "      <td>-0.055353</td>\n",
       "      <td>-0.059752</td>\n",
       "      <td>0</td>\n",
       "      <td>5.939276</td>\n",
       "    </tr>\n",
       "    <tr>\n",
       "      <th>3</th>\n",
       "      <td>1.0</td>\n",
       "      <td>-0.966272</td>\n",
       "      <td>-0.185226</td>\n",
       "      <td>1.792993</td>\n",
       "      <td>-0.863291</td>\n",
       "      <td>-0.010309</td>\n",
       "      <td>1.247203</td>\n",
       "      <td>0.237609</td>\n",
       "      <td>0.377436</td>\n",
       "      <td>-1.387024</td>\n",
       "      <td>...</td>\n",
       "      <td>-0.108300</td>\n",
       "      <td>0.005274</td>\n",
       "      <td>-0.190321</td>\n",
       "      <td>-1.175575</td>\n",
       "      <td>0.647376</td>\n",
       "      <td>-0.221929</td>\n",
       "      <td>0.062723</td>\n",
       "      <td>0.061458</td>\n",
       "      <td>0</td>\n",
       "      <td>4.824306</td>\n",
       "    </tr>\n",
       "    <tr>\n",
       "      <th>4</th>\n",
       "      <td>2.0</td>\n",
       "      <td>-1.158233</td>\n",
       "      <td>0.877737</td>\n",
       "      <td>1.548718</td>\n",
       "      <td>0.403034</td>\n",
       "      <td>-0.407193</td>\n",
       "      <td>0.095921</td>\n",
       "      <td>0.592941</td>\n",
       "      <td>-0.270533</td>\n",
       "      <td>0.817739</td>\n",
       "      <td>...</td>\n",
       "      <td>-0.009431</td>\n",
       "      <td>0.798278</td>\n",
       "      <td>-0.137458</td>\n",
       "      <td>0.141267</td>\n",
       "      <td>-0.206010</td>\n",
       "      <td>0.502292</td>\n",
       "      <td>0.219422</td>\n",
       "      <td>0.215153</td>\n",
       "      <td>0</td>\n",
       "      <td>4.262539</td>\n",
       "    </tr>\n",
       "  </tbody>\n",
       "</table>\n",
       "<p>5 rows × 31 columns</p>\n",
       "</div>"
      ],
      "text/plain": [
       "   Time        V1        V2        V3        V4        V5        V6        V7  \\\n",
       "0   0.0 -1.359807 -0.072781  2.536347  1.378155 -0.338321  0.462388  0.239599   \n",
       "1   0.0  1.191857  0.266151  0.166480  0.448154  0.060018 -0.082361 -0.078803   \n",
       "2   1.0 -1.358354 -1.340163  1.773209  0.379780 -0.503198  1.800499  0.791461   \n",
       "3   1.0 -0.966272 -0.185226  1.792993 -0.863291 -0.010309  1.247203  0.237609   \n",
       "4   2.0 -1.158233  0.877737  1.548718  0.403034 -0.407193  0.095921  0.592941   \n",
       "\n",
       "         V8        V9  ...       V21       V22       V23       V24       V25  \\\n",
       "0  0.098698  0.363787  ... -0.018307  0.277838 -0.110474  0.066928  0.128539   \n",
       "1  0.085102 -0.255425  ... -0.225775 -0.638672  0.101288 -0.339846  0.167170   \n",
       "2  0.247676 -1.514654  ...  0.247998  0.771679  0.909412 -0.689281 -0.327642   \n",
       "3  0.377436 -1.387024  ... -0.108300  0.005274 -0.190321 -1.175575  0.647376   \n",
       "4 -0.270533  0.817739  ... -0.009431  0.798278 -0.137458  0.141267 -0.206010   \n",
       "\n",
       "        V26       V27       V28  Class  Amount_log  \n",
       "0 -0.189115  0.133558 -0.021053      0    5.014760  \n",
       "1  0.125895 -0.008983  0.014724      0    1.305626  \n",
       "2 -0.139097 -0.055353 -0.059752      0    5.939276  \n",
       "3 -0.221929  0.062723  0.061458      0    4.824306  \n",
       "4  0.502292  0.219422  0.215153      0    4.262539  \n",
       "\n",
       "[5 rows x 31 columns]"
      ]
     },
     "execution_count": 8,
     "metadata": {},
     "output_type": "execute_result"
    }
   ],
   "source": [
    "df = df.drop(columns='Amount')\n",
    "df.head()"
   ]
  },
  {
   "cell_type": "code",
   "execution_count": 9,
   "id": "18867e5c",
   "metadata": {},
   "outputs": [],
   "source": [
    "from sklearn.model_selection import train_test_split\n",
    "from xgboost import XGBClassifier\n",
    "\n",
    "X = df.drop(columns='Class', axis=1)\n",
    "y = df['Class']\n",
    "\n",
    "X_train, X_test, y_train, y_test = train_test_split(\n",
    "    X, y, test_size=0.2, random_state=42)\n",
    "\n",
    "xgb = XGBClassifier(scale_pos_weight=ratio_positive)\n",
    "xgb.fit(X_train, y_train)\n",
    "\n",
    "y_pred = xgb.predict(X_test)"
   ]
  },
  {
   "cell_type": "code",
   "execution_count": 10,
   "id": "91bde024",
   "metadata": {},
   "outputs": [
    {
     "name": "stdout",
     "output_type": "stream",
     "text": [
      "[[56863     1]\n",
      " [   19    79]]\n",
      "              precision    recall  f1-score   support\n",
      "\n",
      "           0       1.00      1.00      1.00     56864\n",
      "           1       0.99      0.81      0.89        98\n",
      "\n",
      "    accuracy                           1.00     56962\n",
      "   macro avg       0.99      0.90      0.94     56962\n",
      "weighted avg       1.00      1.00      1.00     56962\n",
      "\n"
     ]
    }
   ],
   "source": [
    "from sklearn.metrics import classification_report, confusion_matrix\n",
    "\n",
    "print(confusion_matrix(y_test, y_pred))\n",
    "print(classification_report(y_test, y_pred))"
   ]
  },
  {
   "cell_type": "code",
   "execution_count": 11,
   "id": "7bebdf24",
   "metadata": {},
   "outputs": [
    {
     "name": "stdout",
     "output_type": "stream",
     "text": [
      "XGBClassifier(base_score=None, booster=None, callbacks=None,\n",
      "              colsample_bylevel=None, colsample_bynode=None,\n",
      "              colsample_bytree=None, device=None, early_stopping_rounds=None,\n",
      "              enable_categorical=False, eval_metric=None, feature_types=None,\n",
      "              feature_weights=None, gamma=None, grow_policy=None,\n",
      "              importance_type=None, interaction_constraints=None,\n",
      "              learning_rate=0.3, max_bin=None, max_cat_threshold=None,\n",
      "              max_cat_to_onehot=None, max_delta_step=None, max_depth=7,\n",
      "              max_leaves=None, min_child_weight=None, missing=nan,\n",
      "              monotone_constraints=None, multi_strategy=None, n_estimators=100,\n",
      "              n_jobs=None, num_parallel_tree=None, ...)\n"
     ]
    }
   ],
   "source": [
    "from sklearn.model_selection import GridSearchCV\n",
    "\n",
    "param_grid = {\n",
    "    'n_estimators' : [100],\n",
    "    'max_depth' : [3,5,7],\n",
    "    'learning_rate' : [0.01,0.1,0.3]\n",
    "    # 'min_child_weight' : [1,2,3]\n",
    "}\n",
    "\n",
    "grid = GridSearchCV(xgb, param_grid=param_grid, scoring='average_precision')\n",
    "grid.fit(X_train, y_train)\n",
    "\n",
    "print(grid.best_estimator_)"
   ]
  },
  {
   "cell_type": "code",
   "execution_count": 12,
   "id": "7a17bbd4",
   "metadata": {},
   "outputs": [
    {
     "name": "stdout",
     "output_type": "stream",
     "text": [
      "[[56860     4]\n",
      " [   18    80]]\n",
      "              precision    recall  f1-score   support\n",
      "\n",
      "           0       1.00      1.00      1.00     56864\n",
      "           1       0.95      0.82      0.88        98\n",
      "\n",
      "    accuracy                           1.00     56962\n",
      "   macro avg       0.98      0.91      0.94     56962\n",
      "weighted avg       1.00      1.00      1.00     56962\n",
      "\n"
     ]
    }
   ],
   "source": [
    "y_pred_grid = grid.predict(X_test)\n",
    "\n",
    "print(confusion_matrix(y_test, y_pred_grid))\n",
    "print(classification_report(y_test, y_pred_grid))"
   ]
  },
  {
   "cell_type": "code",
   "execution_count": 13,
   "id": "6bbc85a4",
   "metadata": {},
   "outputs": [
    {
     "name": "stdout",
     "output_type": "stream",
     "text": [
      "0.9857827627393106\n"
     ]
    },
    {
     "data": {
      "image/png": "[encoded data removed]",
      "text/plain": [
       "<Figure size 640x480 with 1 Axes>"
      ]
     },
     "metadata": {},
     "output_type": "display_data"
    }
   ],
   "source": [
    "from sklearn.metrics import roc_curve, roc_auc_score\n",
    "\n",
    "y_scores = grid.predict_proba(X_test)[:, 1]\n",
    "fpr, tpr, thresholds = roc_curve(y_test, y_scores)\n",
    "\n",
    "roc_auc = roc_auc_score(y_test, y_scores)\n",
    "print(roc_auc)\n",
    "\n",
    "\n",
    "plt.plot(fpr, tpr,label=f'ROC Curve (AUC = {roc_auc:.4f})')\n",
    "plt.xlabel('False Positive Rate')\n",
    "plt.ylabel('True Positive Rate')\n",
    "plt.plot([0, 1], [0, 1], \n",
    "         linestyle='--', label='Random (AUC = 0.5)')\n",
    "plt.title('Receiver Operating Characteristic (ROC) Curve')\n",
    "plt.legend(loc=\"lower right\")\n",
    "plt.grid(True)\n",
    "plt.tight_layout()\n",
    "plt.show()"
   ]
  },
  {
   "cell_type": "code",
   "execution_count": 14,
   "id": "ed0146c8",
   "metadata": {},
   "outputs": [
    {
     "name": "stderr",
     "output_type": "stream",
     "text": [
      "[I 2025-06-27 22:46:48,840] A new study created in memory with name: no-name-e99d8aa0-2011-4d45-81e6-f71a63cf80ff\n",
      "[I 2025-06-27 22:46:50,234] Trial 0 finished with value: 0.8901098901098901 and parameters: {'n_estimators': 148, 'max_depth': 6, 'learning_rate': 0.0856571083716434, 'subsample': 0.671777391238384, 'colsample_bytree': 0.8716225293727806, 'gamma': 3.361513456927324}. Best is trial 0 with value: 0.8901098901098901.\n",
      "[I 2025-06-27 22:46:51,571] Trial 1 finished with value: 0.8839779005524862 and parameters: {'n_estimators': 246, 'max_depth': 3, 'learning_rate': 0.27190499064536977, 'subsample': 0.8414955165990322, 'colsample_bytree': 0.9209804927042531, 'gamma': 0.14185644949360587}. Best is trial 0 with value: 0.8901098901098901.\n",
      "[I 2025-06-27 22:46:53,239] Trial 2 finished with value: 0.8715083798882681 and parameters: {'n_estimators': 281, 'max_depth': 6, 'learning_rate': 0.24942946736358357, 'subsample': 0.5449836815057919, 'colsample_bytree': 0.7339911986935287, 'gamma': 3.2140274631665933}. Best is trial 0 with value: 0.8901098901098901.\n",
      "[I 2025-06-27 22:46:54,388] Trial 3 finished with value: 0.8777777777777778 and parameters: {'n_estimators': 142, 'max_depth': 6, 'learning_rate': 0.1836336825545168, 'subsample': 0.5027969775919616, 'colsample_bytree': 0.6699468623568053, 'gamma': 4.842555673590885}. Best is trial 0 with value: 0.8901098901098901.\n",
      "[I 2025-06-27 22:46:55,261] Trial 4 finished with value: 0.8 and parameters: {'n_estimators': 160, 'max_depth': 3, 'learning_rate': 0.07321487832402386, 'subsample': 0.6747341647399108, 'colsample_bytree': 0.7955848949880227, 'gamma': 4.338341297080392}. Best is trial 0 with value: 0.8901098901098901.\n",
      "[I 2025-06-27 22:46:57,651] Trial 5 finished with value: 0.8481675392670157 and parameters: {'n_estimators': 270, 'max_depth': 7, 'learning_rate': 0.02012401347702246, 'subsample': 0.5423175964215536, 'colsample_bytree': 0.9130351033567927, 'gamma': 0.031367741381294056}. Best is trial 0 with value: 0.8901098901098901.\n",
      "[I 2025-06-27 22:46:58,754] Trial 6 finished with value: 0.8324324324324325 and parameters: {'n_estimators': 115, 'max_depth': 8, 'learning_rate': 0.045279096866862795, 'subsample': 0.6891726866961327, 'colsample_bytree': 0.9794947731388919, 'gamma': 3.395503401825425}. Best is trial 0 with value: 0.8901098901098901.\n",
      "[I 2025-06-27 22:46:59,359] Trial 7 finished with value: 0.8555555555555555 and parameters: {'n_estimators': 56, 'max_depth': 7, 'learning_rate': 0.29961771112015156, 'subsample': 0.5819957911986577, 'colsample_bytree': 0.8538862796499189, 'gamma': 0.24503293118432912}. Best is trial 0 with value: 0.8901098901098901.\n",
      "[I 2025-06-27 22:46:59,965] Trial 8 finished with value: 0.797752808988764 and parameters: {'n_estimators': 65, 'max_depth': 7, 'learning_rate': 0.03535626758864312, 'subsample': 0.7208750314850566, 'colsample_bytree': 0.8640345557298942, 'gamma': 4.212057881941128}. Best is trial 0 with value: 0.8901098901098901.\n",
      "[I 2025-06-27 22:47:01,464] Trial 9 finished with value: 0.8852459016393442 and parameters: {'n_estimators': 192, 'max_depth': 6, 'learning_rate': 0.051595037605616435, 'subsample': 0.717578252891889, 'colsample_bytree': 0.8159896543487135, 'gamma': 2.156519664318079}. Best is trial 0 with value: 0.8901098901098901.\n",
      "[I 2025-06-27 22:47:02,654] Trial 10 finished with value: 0.8685714285714285 and parameters: {'n_estimators': 210, 'max_depth': 10, 'learning_rate': 0.1192163551571068, 'subsample': 0.9775863949018461, 'colsample_bytree': 0.5071750819783643, 'gamma': 1.7331731976619977}. Best is trial 0 with value: 0.8901098901098901.\n",
      "[I 2025-06-27 22:47:04,083] Trial 11 finished with value: 0.8715083798882681 and parameters: {'n_estimators': 201, 'max_depth': 5, 'learning_rate': 0.11520993457665096, 'subsample': 0.8261209739219317, 'colsample_bytree': 0.6976841777361038, 'gamma': 1.8395659808860483}. Best is trial 0 with value: 0.8901098901098901.\n",
      "[I 2025-06-27 22:47:04,873] Trial 12 finished with value: 0.8602150537634409 and parameters: {'n_estimators': 109, 'max_depth': 5, 'learning_rate': 0.09418784625158781, 'subsample': 0.8034235523002404, 'colsample_bytree': 0.8080083340866349, 'gamma': 2.611409737120508}. Best is trial 0 with value: 0.8901098901098901.\n",
      "[I 2025-06-27 22:47:06,255] Trial 13 finished with value: 0.8813559322033898 and parameters: {'n_estimators': 207, 'max_depth': 9, 'learning_rate': 0.1707581254618631, 'subsample': 0.6262699624858026, 'colsample_bytree': 0.5902058477376401, 'gamma': 1.492247123939322}. Best is trial 0 with value: 0.8901098901098901.\n",
      "[I 2025-06-27 22:47:07,529] Trial 14 finished with value: 0.8723404255319149 and parameters: {'n_estimators': 176, 'max_depth': 5, 'learning_rate': 0.06838857169050941, 'subsample': 0.7735244902217318, 'colsample_bytree': 0.9923407422161417, 'gamma': 2.6075304504128387}. Best is trial 0 with value: 0.8901098901098901.\n",
      "[I 2025-06-27 22:47:08,400] Trial 15 finished with value: 0.84375 and parameters: {'n_estimators': 128, 'max_depth': 4, 'learning_rate': 0.12631728040801635, 'subsample': 0.8979269870532705, 'colsample_bytree': 0.7869506380313732, 'gamma': 3.4224970080030825}. Best is trial 0 with value: 0.8901098901098901.\n",
      "[I 2025-06-27 22:47:09,296] Trial 16 finished with value: 0.0 and parameters: {'n_estimators': 93, 'max_depth': 8, 'learning_rate': 0.010462880188300633, 'subsample': 0.6340731576844736, 'colsample_bytree': 0.8782891927039971, 'gamma': 1.0897843716503053}. Best is trial 0 with value: 0.8901098901098901.\n",
      "[I 2025-06-27 22:47:10,352] Trial 17 finished with value: 0.8804347826086957 and parameters: {'n_estimators': 170, 'max_depth': 4, 'learning_rate': 0.14745286862921073, 'subsample': 0.7424544314467939, 'colsample_bytree': 0.740486045097422, 'gamma': 2.268202456226383}. Best is trial 0 with value: 0.8901098901098901.\n",
      "[I 2025-06-27 22:47:12,188] Trial 18 finished with value: 0.8791208791208791 and parameters: {'n_estimators': 228, 'max_depth': 6, 'learning_rate': 0.06406493812867163, 'subsample': 0.6337047708966796, 'colsample_bytree': 0.6552410376748321, 'gamma': 1.0130417270625451}. Best is trial 0 with value: 0.8901098901098901.\n",
      "[I 2025-06-27 22:47:13,028] Trial 19 finished with value: 0.8777777777777778 and parameters: {'n_estimators': 150, 'max_depth': 8, 'learning_rate': 0.18730812069242742, 'subsample': 0.9046162945336422, 'colsample_bytree': 0.9208642793972792, 'gamma': 3.8661739154217853}. Best is trial 0 with value: 0.8901098901098901.\n",
      "[I 2025-06-27 22:47:14,222] Trial 20 finished with value: 0.8631578947368421 and parameters: {'n_estimators': 185, 'max_depth': 4, 'learning_rate': 0.08943050544582953, 'subsample': 0.6964070928482458, 'colsample_bytree': 0.8503001103941412, 'gamma': 2.920159264290312}. Best is trial 0 with value: 0.8901098901098901.\n",
      "[I 2025-06-27 22:47:15,398] Trial 21 finished with value: 0.8791208791208791 and parameters: {'n_estimators': 235, 'max_depth': 3, 'learning_rate': 0.24088004732478896, 'subsample': 0.8519460026432045, 'colsample_bytree': 0.9280060077766212, 'gamma': 0.7471616953946123}. Best is trial 0 with value: 0.8901098901098901.\n",
      "[I 2025-06-27 22:47:16,723] Trial 22 finished with value: 0.8764044943820225 and parameters: {'n_estimators': 256, 'max_depth': 5, 'learning_rate': 0.20840912217296892, 'subsample': 0.7711548942481746, 'colsample_bytree': 0.9622188733139879, 'gamma': 2.163775314621282}. Best is trial 0 with value: 0.8901098901098901.\n",
      "[I 2025-06-27 22:47:17,914] Trial 23 finished with value: 0.8764044943820225 and parameters: {'n_estimators': 247, 'max_depth': 3, 'learning_rate': 0.29963881493863764, 'subsample': 0.8679221397756993, 'colsample_bytree': 0.8132473947452261, 'gamma': 0.42751164964439664}. Best is trial 0 with value: 0.8901098901098901.\n",
      "[I 2025-06-27 22:47:18,970] Trial 24 finished with value: 0.8685714285714285 and parameters: {'n_estimators': 287, 'max_depth': 10, 'learning_rate': 0.26314664988377967, 'subsample': 0.9567852617097106, 'colsample_bytree': 0.8978426840422571, 'gamma': 3.6593623819382834}. Best is trial 0 with value: 0.8901098901098901.\n",
      "[I 2025-06-27 22:47:20,155] Trial 25 finished with value: 0.88 and parameters: {'n_estimators': 190, 'max_depth': 6, 'learning_rate': 0.14933323957990535, 'subsample': 0.8105821074328659, 'colsample_bytree': 0.9442074495030142, 'gamma': 2.9703054296611313}. Best is trial 0 with value: 0.8901098901098901.\n",
      "[I 2025-06-27 22:47:21,589] Trial 26 finished with value: 0.8715083798882681 and parameters: {'n_estimators': 299, 'max_depth': 4, 'learning_rate': 0.21967820139873118, 'subsample': 0.732587547042147, 'colsample_bytree': 0.8258180080222544, 'gamma': 4.99619610713655}. Best is trial 0 with value: 0.8901098901098901.\n",
      "[I 2025-06-27 22:47:23,823] Trial 27 finished with value: 0.8839779005524862 and parameters: {'n_estimators': 223, 'max_depth': 9, 'learning_rate': 0.044341143324397155, 'subsample': 0.6566478674591645, 'colsample_bytree': 0.7696986893852396, 'gamma': 1.2355564038620495}. Best is trial 0 with value: 0.8901098901098901.\n",
      "[I 2025-06-27 22:47:24,642] Trial 28 finished with value: 0.8842105263157894 and parameters: {'n_estimators': 82, 'max_depth': 7, 'learning_rate': 0.09400373065744874, 'subsample': 0.5942534741935098, 'colsample_bytree': 0.8821602372466074, 'gamma': 2.0737311934250164}. Best is trial 0 with value: 0.8901098901098901.\n",
      "[I 2025-06-27 22:47:25,421] Trial 29 finished with value: 0.8541666666666666 and parameters: {'n_estimators': 78, 'max_depth': 7, 'learning_rate': 0.0905286615922772, 'subsample': 0.6022071304584051, 'colsample_bytree': 0.8872948485217755, 'gamma': 2.056747186488433}. Best is trial 0 with value: 0.8901098901098901.\n",
      "[I 2025-06-27 22:47:26,235] Trial 30 finished with value: 0.8791208791208791 and parameters: {'n_estimators': 90, 'max_depth': 6, 'learning_rate': 0.12872943611968415, 'subsample': 0.5747396982742503, 'colsample_bytree': 0.8359386052772652, 'gamma': 2.4673830688673375}. Best is trial 0 with value: 0.8901098901098901.\n",
      "[I 2025-06-27 22:47:27,578] Trial 31 finished with value: 0.88268156424581 and parameters: {'n_estimators': 132, 'max_depth': 7, 'learning_rate': 0.10350734836040411, 'subsample': 0.7119850242331198, 'colsample_bytree': 0.8837158937868603, 'gamma': 2.970846162248209}. Best is trial 0 with value: 0.8901098901098901.\n",
      "[I 2025-06-27 22:47:28,822] Trial 32 finished with value: 0.8723404255319149 and parameters: {'n_estimators': 153, 'max_depth': 6, 'learning_rate': 0.06419084170032541, 'subsample': 0.5323100910400451, 'colsample_bytree': 0.9481682786661725, 'gamma': 1.619861263617471}. Best is trial 0 with value: 0.8901098901098901.\n",
      "[I 2025-06-27 22:47:30,785] Trial 33 finished with value: 0.8777777777777778 and parameters: {'n_estimators': 270, 'max_depth': 8, 'learning_rate': 0.07604704809764715, 'subsample': 0.6732708723988252, 'colsample_bytree': 0.7787344664123472, 'gamma': 4.385794870058449}. Best is trial 0 with value: 0.8901098901098901.\n",
      "[I 2025-06-27 22:47:31,859] Trial 34 finished with value: 0.84375 and parameters: {'n_estimators': 164, 'max_depth': 5, 'learning_rate': 0.02988138588414538, 'subsample': 0.7650417764172028, 'colsample_bytree': 0.7130925901854177, 'gamma': 3.8867062728448647}. Best is trial 0 with value: 0.8901098901098901.\n",
      "[I 2025-06-27 22:47:33,013] Trial 35 finished with value: 0.8449197860962567 and parameters: {'n_estimators': 116, 'max_depth': 9, 'learning_rate': 0.05066732874438257, 'subsample': 0.6553832037268946, 'colsample_bytree': 0.9027462767273682, 'gamma': 0.6516300000483534}. Best is trial 0 with value: 0.8901098901098901.\n",
      "[I 2025-06-27 22:47:34,062] Trial 36 finished with value: 0.8603351955307262 and parameters: {'n_estimators': 137, 'max_depth': 6, 'learning_rate': 0.27903227898798955, 'subsample': 0.5221684508986344, 'colsample_bytree': 0.8427955556922494, 'gamma': 1.9438953617572992}. Best is trial 0 with value: 0.8901098901098901.\n",
      "[I 2025-06-27 22:47:35,628] Trial 37 finished with value: 0.8777777777777778 and parameters: {'n_estimators': 250, 'max_depth': 7, 'learning_rate': 0.13956161511748782, 'subsample': 0.5989595468581564, 'colsample_bytree': 0.7553972002998641, 'gamma': 3.22480030452303}. Best is trial 0 with value: 0.8901098901098901.\n",
      "[I 2025-06-27 22:47:36,656] Trial 38 finished with value: 0.8715083798882681 and parameters: {'n_estimators': 99, 'max_depth': 8, 'learning_rate': 0.16967293202418898, 'subsample': 0.5666054841744457, 'colsample_bytree': 0.8650807825464117, 'gamma': 0.06933422637239461}. Best is trial 0 with value: 0.8901098901098901.\n",
      "[I 2025-06-27 22:47:37,122] Trial 39 finished with value: 0.7391304347826086 and parameters: {'n_estimators': 73, 'max_depth': 3, 'learning_rate': 0.10805063313611751, 'subsample': 0.7087446104046075, 'colsample_bytree': 0.9687849030473071, 'gamma': 1.2960465625942137}. Best is trial 0 with value: 0.8901098901098901.\n",
      "[I 2025-06-27 22:47:37,672] Trial 40 finished with value: 0.8404255319148937 and parameters: {'n_estimators': 51, 'max_depth': 7, 'learning_rate': 0.0804312990894831, 'subsample': 0.6746848218118691, 'colsample_bytree': 0.9218447209860205, 'gamma': 4.590871999939109}. Best is trial 0 with value: 0.8901098901098901.\n",
      "[I 2025-06-27 22:47:39,805] Trial 41 finished with value: 0.8888888888888888 and parameters: {'n_estimators': 229, 'max_depth': 9, 'learning_rate': 0.038666109219374946, 'subsample': 0.6650278359187115, 'colsample_bytree': 0.7690739665365478, 'gamma': 0.9066201449238356}. Best is trial 0 with value: 0.8901098901098901.\n",
      "[I 2025-06-27 22:47:41,886] Trial 42 finished with value: 0.8938547486033519 and parameters: {'n_estimators': 220, 'max_depth': 9, 'learning_rate': 0.04990322613189308, 'subsample': 0.6103657979911973, 'colsample_bytree': 0.8027127803254456, 'gamma': 0.5642934134674817}. Best is trial 42 with value: 0.8938547486033519.\n",
      "[I 2025-06-27 22:47:43,691] Trial 43 finished with value: 0.8839779005524862 and parameters: {'n_estimators': 194, 'max_depth': 9, 'learning_rate': 0.05286932922295212, 'subsample': 0.6057397287041338, 'colsample_bytree': 0.8006488805531852, 'gamma': 1.615448276195906}. Best is trial 42 with value: 0.8938547486033519.\n",
      "[I 2025-06-27 22:47:45,745] Trial 44 finished with value: 0.8359788359788359 and parameters: {'n_estimators': 221, 'max_depth': 10, 'learning_rate': 0.027858600519608565, 'subsample': 0.5521629400898272, 'colsample_bytree': 0.7219225412615816, 'gamma': 0.2729393045354561}. Best is trial 42 with value: 0.8938547486033519.\n",
      "[I 2025-06-27 22:47:47,747] Trial 45 finished with value: 0.819672131147541 and parameters: {'n_estimators': 212, 'max_depth': 9, 'learning_rate': 0.015451069594590743, 'subsample': 0.6490254123943877, 'colsample_bytree': 0.8232822412039934, 'gamma': 0.770259906743866}. Best is trial 42 with value: 0.8938547486033519.\n",
      "[I 2025-06-27 22:47:50,132] Trial 46 finished with value: 0.8938547486033519 and parameters: {'n_estimators': 237, 'max_depth': 10, 'learning_rate': 0.04310317140780601, 'subsample': 0.6181535232580375, 'colsample_bytree': 0.673436143112094, 'gamma': 2.466915316202766}. Best is trial 42 with value: 0.8938547486033519.\n",
      "[I 2025-06-27 22:47:52,507] Trial 47 finished with value: 0.8633879781420765 and parameters: {'n_estimators': 241, 'max_depth': 10, 'learning_rate': 0.03656810800425408, 'subsample': 0.5000671504997649, 'colsample_bytree': 0.664642076291512, 'gamma': 2.7032352866356137}. Best is trial 42 with value: 0.8938547486033519.\n",
      "[I 2025-06-27 22:47:54,231] Trial 48 finished with value: 0.8791208791208791 and parameters: {'n_estimators': 179, 'max_depth': 10, 'learning_rate': 0.05777730953290433, 'subsample': 0.6205434796273323, 'colsample_bytree': 0.6056676077559454, 'gamma': 2.461143595113803}. Best is trial 42 with value: 0.8938547486033519.\n",
      "[I 2025-06-27 22:47:56,151] Trial 49 finished with value: 0.8681318681318682 and parameters: {'n_estimators': 199, 'max_depth': 9, 'learning_rate': 0.03853440562464044, 'subsample': 0.6889213012691364, 'colsample_bytree': 0.6959831939497303, 'gamma': 0.4565292336609351}. Best is trial 42 with value: 0.8938547486033519.\n",
      "[I 2025-06-27 22:47:58,786] Trial 50 finished with value: 0.8465608465608465 and parameters: {'n_estimators': 260, 'max_depth': 10, 'learning_rate': 0.022114338341847395, 'subsample': 0.6476024096554273, 'colsample_bytree': 0.6076113866638361, 'gamma': 0.9287159320543019}. Best is trial 42 with value: 0.8938547486033519.\n",
      "[I 2025-06-27 22:48:00,657] Trial 51 finished with value: 0.8715083798882681 and parameters: {'n_estimators': 214, 'max_depth': 8, 'learning_rate': 0.0812988506537436, 'subsample': 0.6219385789888676, 'colsample_bytree': 0.7617868147298719, 'gamma': 2.372007880733662}. Best is trial 42 with value: 0.8938547486033519.\n",
      "[I 2025-06-27 22:48:02,811] Trial 52 finished with value: 0.8715083798882681 and parameters: {'n_estimators': 235, 'max_depth': 9, 'learning_rate': 0.06073138407328303, 'subsample': 0.5856904729585938, 'colsample_bytree': 0.7961947164979253, 'gamma': 1.886496827445952}. Best is trial 42 with value: 0.8938547486033519.\n",
      "[I 2025-06-27 22:48:04,244] Trial 53 finished with value: 0.8541666666666666 and parameters: {'n_estimators': 203, 'max_depth': 5, 'learning_rate': 0.04386073741641719, 'subsample': 0.6743905899945996, 'colsample_bytree': 0.8600866680654938, 'gamma': 2.7666305693653666}. Best is trial 42 with value: 0.8938547486033519.\n",
      "[I 2025-06-27 22:48:05,858] Trial 54 finished with value: 0.8777777777777778 and parameters: {'n_estimators': 226, 'max_depth': 8, 'learning_rate': 0.09992179597146093, 'subsample': 0.6919410894213464, 'colsample_bytree': 0.5052625934174635, 'gamma': 3.2366881082267995}. Best is trial 42 with value: 0.8938547486033519.\n",
      "[I 2025-06-27 22:48:07,966] Trial 55 finished with value: 0.8666666666666667 and parameters: {'n_estimators': 263, 'max_depth': 6, 'learning_rate': 0.07096474813631155, 'subsample': 0.5596988569857557, 'colsample_bytree': 0.5515868242313903, 'gamma': 2.1807766264246755}. Best is trial 42 with value: 0.8938547486033519.\n",
      "[I 2025-06-27 22:48:09,699] Trial 56 finished with value: 0.8764044943820225 and parameters: {'n_estimators': 182, 'max_depth': 10, 'learning_rate': 0.08662274914435977, 'subsample': 0.729466909687178, 'colsample_bytree': 0.6428400823978875, 'gamma': 1.3727145764032516}. Best is trial 42 with value: 0.8938547486033519.\n",
      "[I 2025-06-27 22:48:11,044] Trial 57 finished with value: 0.8387096774193549 and parameters: {'n_estimators': 168, 'max_depth': 7, 'learning_rate': 0.024576989837983773, 'subsample': 0.7564497359379093, 'colsample_bytree': 0.6893393553720218, 'gamma': 3.5121765658777586}. Best is trial 42 with value: 0.8938547486033519.\n",
      "[I 2025-06-27 22:48:13,265] Trial 58 finished with value: 0.8777777777777778 and parameters: {'n_estimators': 238, 'max_depth': 9, 'learning_rate': 0.05437875924914253, 'subsample': 0.5846450008605287, 'colsample_bytree': 0.739676194599544, 'gamma': 0.5342023745889617}. Best is trial 42 with value: 0.8938547486033519.\n",
      "[I 2025-06-27 22:48:14,157] Trial 59 finished with value: 0.0 and parameters: {'n_estimators': 120, 'max_depth': 6, 'learning_rate': 0.012527628001760743, 'subsample': 0.7932036448940993, 'colsample_bytree': 0.8100904649959202, 'gamma': 1.7179608573342122}. Best is trial 42 with value: 0.8938547486033519.\n",
      "[I 2025-06-27 22:48:15,744] Trial 60 finished with value: 0.8901098901098901 and parameters: {'n_estimators': 218, 'max_depth': 5, 'learning_rate': 0.06984549075060852, 'subsample': 0.6381564731304181, 'colsample_bytree': 0.7780785765532119, 'gamma': 2.2787963723354654}. Best is trial 42 with value: 0.8938547486033519.\n",
      "[I 2025-06-27 22:48:17,423] Trial 61 finished with value: 0.8804347826086957 and parameters: {'n_estimators': 216, 'max_depth': 5, 'learning_rate': 0.07056652170468436, 'subsample': 0.638506374364199, 'colsample_bytree': 0.7851299414923172, 'gamma': 2.0591144972527204}. Best is trial 42 with value: 0.8938547486033519.\n",
      "[I 2025-06-27 22:48:19,021] Trial 62 finished with value: 0.8723404255319149 and parameters: {'n_estimators': 230, 'max_depth': 5, 'learning_rate': 0.04548344364163601, 'subsample': 0.6032632898780168, 'colsample_bytree': 0.8288127876490117, 'gamma': 2.3283100256822356}. Best is trial 42 with value: 0.8938547486033519.\n",
      "[I 2025-06-27 22:48:20,153] Trial 63 finished with value: 0.8137254901960784 and parameters: {'n_estimators': 189, 'max_depth': 4, 'learning_rate': 0.0346139262860182, 'subsample': 0.6604218220186825, 'colsample_bytree': 0.770579881834845, 'gamma': 2.8955670082817324}. Best is trial 42 with value: 0.8938547486033519.\n",
      "[I 2025-06-27 22:48:21,732] Trial 64 finished with value: 0.875 and parameters: {'n_estimators': 204, 'max_depth': 6, 'learning_rate': 0.11689551315555638, 'subsample': 0.6187736841232211, 'colsample_bytree': 0.872019323724324, 'gamma': 2.6056337176344226}. Best is trial 42 with value: 0.8938547486033519.\n",
      "[I 2025-06-27 22:48:23,295] Trial 65 finished with value: 0.8715083798882681 and parameters: {'n_estimators': 151, 'max_depth': 8, 'learning_rate': 0.09865008874821814, 'subsample': 0.699921771663399, 'colsample_bytree': 0.7311678812306655, 'gamma': 1.1160206818628537}. Best is trial 42 with value: 0.8938547486033519.\n",
      "[I 2025-06-27 22:48:25,058] Trial 66 finished with value: 0.8777777777777778 and parameters: {'n_estimators': 249, 'max_depth': 5, 'learning_rate': 0.06349025532498032, 'subsample': 0.7434679933897126, 'colsample_bytree': 0.7498945877318067, 'gamma': 0.29436253407592927}. Best is trial 42 with value: 0.8938547486033519.\n",
      "[I 2025-06-27 22:48:27,453] Trial 67 finished with value: 0.8777777777777778 and parameters: {'n_estimators': 277, 'max_depth': 7, 'learning_rate': 0.07903491341094634, 'subsample': 0.6325457863412528, 'colsample_bytree': 0.8475201701285896, 'gamma': 1.5085516217380137}. Best is trial 42 with value: 0.8938547486033519.\n",
      "[I 2025-06-27 22:48:29,029] Trial 68 finished with value: 0.8817204301075269 and parameters: {'n_estimators': 196, 'max_depth': 6, 'learning_rate': 0.047238664316830714, 'subsample': 0.6655454811549879, 'colsample_bytree': 0.8153386905872644, 'gamma': 2.055047514564509}. Best is trial 42 with value: 0.8938547486033519.\n",
      "[I 2025-06-27 22:48:30,756] Trial 69 finished with value: 0.8888888888888888 and parameters: {'n_estimators': 219, 'max_depth': 10, 'learning_rate': 0.0905342110693792, 'subsample': 0.6876718111511332, 'colsample_bytree': 0.903832105709053, 'gamma': 3.121085045729709}. Best is trial 42 with value: 0.8938547486033519.\n",
      "[I 2025-06-27 22:48:32,180] Trial 70 finished with value: 0.8715083798882681 and parameters: {'n_estimators': 219, 'max_depth': 10, 'learning_rate': 0.12679175649513147, 'subsample': 0.718072229322652, 'colsample_bytree': 0.7917231342687183, 'gamma': 3.08689204247023}. Best is trial 42 with value: 0.8938547486033519.\n",
      "[I 2025-06-27 22:48:33,702] Trial 71 finished with value: 0.88268156424581 and parameters: {'n_estimators': 210, 'max_depth': 10, 'learning_rate': 0.11207282018078199, 'subsample': 0.6801650621041991, 'colsample_bytree': 0.8976565962566418, 'gamma': 3.641322151183437}. Best is trial 42 with value: 0.8938547486033519.\n",
      "[I 2025-06-27 22:48:35,555] Trial 72 finished with value: 0.8700564971751412 and parameters: {'n_estimators': 229, 'max_depth': 10, 'learning_rate': 0.09212249807000486, 'subsample': 0.6091412244679467, 'colsample_bytree': 0.9127465305752921, 'gamma': 3.842538552446071}. Best is trial 42 with value: 0.8938547486033519.\n",
      "[I 2025-06-27 22:48:37,677] Trial 73 finished with value: 0.8764044943820225 and parameters: {'n_estimators': 245, 'max_depth': 9, 'learning_rate': 0.0682064436508914, 'subsample': 0.6443221512740165, 'colsample_bytree': 0.8860973018736709, 'gamma': 3.083483324260029}. Best is trial 42 with value: 0.8938547486033519.\n",
      "[I 2025-06-27 22:48:38,742] Trial 74 finished with value: 0.8421052631578947 and parameters: {'n_estimators': 105, 'max_depth': 9, 'learning_rate': 0.05689190928983412, 'subsample': 0.5907806715354103, 'colsample_bytree': 0.8346956663691578, 'gamma': 3.387208421279769}. Best is trial 42 with value: 0.8938547486033519.\n",
      "[I 2025-06-27 22:48:40,158] Trial 75 finished with value: 0.8770053475935828 and parameters: {'n_estimators': 232, 'max_depth': 4, 'learning_rate': 0.07419631165698745, 'subsample': 0.7042712309461386, 'colsample_bytree': 0.8497805331290285, 'gamma': 2.7528123809140634}. Best is trial 42 with value: 0.8938547486033519.\n",
      "[I 2025-06-27 22:48:41,521] Trial 76 finished with value: 0.8421052631578947 and parameters: {'n_estimators': 159, 'max_depth': 7, 'learning_rate': 0.038962500184272345, 'subsample': 0.5741155007438267, 'colsample_bytree': 0.9372305823328225, 'gamma': 2.56223508114946}. Best is trial 42 with value: 0.8938547486033519.\n",
      "[I 2025-06-27 22:48:43,163] Trial 77 finished with value: 0.8813559322033898 and parameters: {'n_estimators': 174, 'max_depth': 10, 'learning_rate': 0.13700547899062437, 'subsample': 0.5377410249785324, 'colsample_bytree': 0.7090528166608566, 'gamma': 2.2730664357399535}. Best is trial 42 with value: 0.8938547486033519.\n",
      "[I 2025-06-27 22:48:44,868] Trial 78 finished with value: 0.8813559322033898 and parameters: {'n_estimators': 207, 'max_depth': 6, 'learning_rate': 0.083763417370561, 'subsample': 0.7267873837032169, 'colsample_bytree': 0.9961051925136986, 'gamma': 4.117885781088327}. Best is trial 42 with value: 0.8938547486033519.\n",
      "[I 2025-06-27 22:48:46,240] Trial 79 finished with value: 0.8260869565217391 and parameters: {'n_estimators': 142, 'max_depth': 9, 'learning_rate': 0.030613560924551874, 'subsample': 0.6881759116757563, 'colsample_bytree': 0.8694262554754181, 'gamma': 0.8403948207597641}. Best is trial 42 with value: 0.8938547486033519.\n",
      "[I 2025-06-27 22:48:47,826] Trial 80 finished with value: 0.8777777777777778 and parameters: {'n_estimators': 221, 'max_depth': 5, 'learning_rate': 0.10595062283253692, 'subsample': 0.660706222703183, 'colsample_bytree': 0.766225755675406, 'gamma': 2.4153161551230453}. Best is trial 42 with value: 0.8938547486033519.\n",
      "[I 2025-06-27 22:48:49,040] Trial 81 finished with value: 0.88268156424581 and parameters: {'n_estimators': 252, 'max_depth': 3, 'learning_rate': 0.22871524988866543, 'subsample': 0.9354321497422742, 'colsample_bytree': 0.958195951922577, 'gamma': 0.5586237727070765}. Best is trial 42 with value: 0.8938547486033519.\n",
      "[I 2025-06-27 22:48:49,472] Trial 82 finished with value: 0.7327586206896551 and parameters: {'n_estimators': 64, 'max_depth': 3, 'learning_rate': 0.09609274104674219, 'subsample': 0.8386525490092154, 'colsample_bytree': 0.9161257786072258, 'gamma': 0.2587614303100235}. Best is trial 42 with value: 0.8938547486033519.\n",
      "[I 2025-06-27 22:48:51,010] Trial 83 finished with value: 0.8743169398907104 and parameters: {'n_estimators': 243, 'max_depth': 4, 'learning_rate': 0.19874227894042057, 'subsample': 0.6149175704935914, 'colsample_bytree': 0.9318963240262282, 'gamma': 0.37944331765787437}. Best is trial 42 with value: 0.8938547486033519.\n",
      "[I 2025-06-27 22:48:52,992] Trial 84 finished with value: 0.8715083798882681 and parameters: {'n_estimators': 266, 'max_depth': 8, 'learning_rate': 0.2860262743092333, 'subsample': 0.5943891178045297, 'colsample_bytree': 0.9004127619067157, 'gamma': 0.13644602316141022}. Best is trial 42 with value: 0.8938547486033519.\n",
      "[I 2025-06-27 22:48:53,592] Trial 85 finished with value: 0.8223350253807107 and parameters: {'n_estimators': 86, 'max_depth': 4, 'learning_rate': 0.1610829720013115, 'subsample': 0.7876907430845568, 'colsample_bytree': 0.7990718911821142, 'gamma': 0.0887083375817691}. Best is trial 42 with value: 0.8938547486033519.\n",
      "[I 2025-06-27 22:48:54,662] Trial 86 finished with value: 0.8764044943820225 and parameters: {'n_estimators': 238, 'max_depth': 10, 'learning_rate': 0.2579592759372937, 'subsample': 0.8643793540470338, 'colsample_bytree': 0.7746219556381893, 'gamma': 1.761662429098836}. Best is trial 42 with value: 0.8938547486033519.\n",
      "[I 2025-06-27 22:48:56,318] Trial 87 finished with value: 0.8387096774193549 and parameters: {'n_estimators': 189, 'max_depth': 8, 'learning_rate': 0.021535954725333345, 'subsample': 0.6419112128306702, 'colsample_bytree': 0.8191157116555878, 'gamma': 0.6681975168160121}. Best is trial 42 with value: 0.8938547486033519.\n",
      "[I 2025-06-27 22:48:58,332] Trial 88 finished with value: 0.8950276243093923 and parameters: {'n_estimators': 215, 'max_depth': 7, 'learning_rate': 0.05181783355352533, 'subsample': 0.6292323520405174, 'colsample_bytree': 0.8853169613748243, 'gamma': 2.846111209715475}. Best is trial 88 with value: 0.8950276243093923.\n",
      "[I 2025-06-27 22:49:00,253] Trial 89 finished with value: 0.8901098901098901 and parameters: {'n_estimators': 226, 'max_depth': 7, 'learning_rate': 0.049546692134067906, 'subsample': 0.6328280030706581, 'colsample_bytree': 0.8577866010780458, 'gamma': 2.8877984228912856}. Best is trial 88 with value: 0.8950276243093923.\n",
      "[I 2025-06-27 22:49:02,169] Trial 90 finished with value: 0.8901098901098901 and parameters: {'n_estimators': 224, 'max_depth': 7, 'learning_rate': 0.052334140756482676, 'subsample': 0.6238783545462441, 'colsample_bytree': 0.8569876310388901, 'gamma': 3.3068105620617847}. Best is trial 88 with value: 0.8950276243093923.\n",
      "[I 2025-06-27 22:49:04,081] Trial 91 finished with value: 0.8901098901098901 and parameters: {'n_estimators': 225, 'max_depth': 7, 'learning_rate': 0.05047434408380855, 'subsample': 0.6304605694263304, 'colsample_bytree': 0.8584027944440622, 'gamma': 3.331271145052604}. Best is trial 88 with value: 0.8950276243093923.\n",
      "[I 2025-06-27 22:49:05,987] Trial 92 finished with value: 0.8852459016393442 and parameters: {'n_estimators': 225, 'max_depth': 7, 'learning_rate': 0.04890475273868464, 'subsample': 0.6292372758397833, 'colsample_bytree': 0.8618301042574775, 'gamma': 3.134239101984712}. Best is trial 88 with value: 0.8950276243093923.\n",
      "[I 2025-06-27 22:49:07,868] Trial 93 finished with value: 0.8888888888888888 and parameters: {'n_estimators': 216, 'max_depth': 7, 'learning_rate': 0.061907702626806504, 'subsample': 0.6284091136991933, 'colsample_bytree': 0.8441998838928007, 'gamma': 3.3653305608865605}. Best is trial 88 with value: 0.8950276243093923.\n",
      "[I 2025-06-27 22:49:09,833] Trial 94 finished with value: 0.8804347826086957 and parameters: {'n_estimators': 225, 'max_depth': 7, 'learning_rate': 0.041212902586556875, 'subsample': 0.6486480880050111, 'colsample_bytree': 0.8806207868744602, 'gamma': 2.8285645886151283}. Best is trial 88 with value: 0.8950276243093923.\n",
      "[I 2025-06-27 22:49:11,853] Trial 95 finished with value: 0.8723404255319149 and parameters: {'n_estimators': 233, 'max_depth': 7, 'learning_rate': 0.03396719097755199, 'subsample': 0.6126977567997518, 'colsample_bytree': 0.8916694768565094, 'gamma': 3.5530455770005696}. Best is trial 88 with value: 0.8950276243093923.\n",
      "[I 2025-06-27 22:49:14,124] Trial 96 finished with value: 0.88268156424581 and parameters: {'n_estimators': 254, 'max_depth': 7, 'learning_rate': 0.053462097452983276, 'subsample': 0.6679561993359069, 'colsample_bytree': 0.8364853546445994, 'gamma': 3.2262433866799465}. Best is trial 88 with value: 0.8950276243093923.\n",
      "[I 2025-06-27 22:49:16,030] Trial 97 finished with value: 0.8888888888888888 and parameters: {'n_estimators': 212, 'max_depth': 8, 'learning_rate': 0.05835029230431195, 'subsample': 0.6372808062316643, 'colsample_bytree': 0.909811590048351, 'gamma': 3.287655360462163}. Best is trial 88 with value: 0.8950276243093923.\n",
      "[I 2025-06-27 22:49:17,685] Trial 98 finished with value: 0.8260869565217391 and parameters: {'n_estimators': 202, 'max_depth': 7, 'learning_rate': 0.018105160865243705, 'subsample': 0.6554296348375579, 'colsample_bytree': 0.8551558597513353, 'gamma': 2.9904065488105207}. Best is trial 88 with value: 0.8950276243093923.\n",
      "[I 2025-06-27 22:49:19,511] Trial 99 finished with value: 0.8666666666666667 and parameters: {'n_estimators': 238, 'max_depth': 6, 'learning_rate': 0.06760130410897695, 'subsample': 0.6822816475757546, 'colsample_bytree': 0.6360247490133221, 'gamma': 3.4898927860984204}. Best is trial 88 with value: 0.8950276243093923.\n",
      "[I 2025-06-27 22:49:21,391] Trial 100 finished with value: 0.8541666666666666 and parameters: {'n_estimators': 217, 'max_depth': 7, 'learning_rate': 0.027966785641440926, 'subsample': 0.5778784724753776, 'colsample_bytree': 0.8042274099682225, 'gamma': 3.7363160051003113}. Best is trial 88 with value: 0.8950276243093923.\n",
      "[I 2025-06-27 22:49:23,419] Trial 101 finished with value: 0.88268156424581 and parameters: {'n_estimators': 219, 'max_depth': 7, 'learning_rate': 0.0763971673090762, 'subsample': 0.6225297248441546, 'colsample_bytree': 0.8731745112907329, 'gamma': 3.3721310772832522}. Best is trial 88 with value: 0.8950276243093923.\n",
      "[I 2025-06-27 22:49:25,190] Trial 102 finished with value: 0.9 and parameters: {'n_estimators': 210, 'max_depth': 7, 'learning_rate': 0.06393452815220767, 'subsample': 0.630003281945956, 'colsample_bytree': 0.8411878103085088, 'gamma': 3.3375814943841045}. Best is trial 102 with value: 0.9.\n",
      "[I 2025-06-27 22:49:26,975] Trial 103 finished with value: 0.8901098901098901 and parameters: {'n_estimators': 208, 'max_depth': 7, 'learning_rate': 0.05103247386790794, 'subsample': 0.6055823322767476, 'colsample_bytree': 0.7813813036050891, 'gamma': 3.0316484814249094}. Best is trial 102 with value: 0.9.\n",
      "[I 2025-06-27 22:49:28,882] Trial 104 finished with value: 0.8756756756756757 and parameters: {'n_estimators': 208, 'max_depth': 7, 'learning_rate': 0.04368909532911385, 'subsample': 0.6027295767624508, 'colsample_bytree': 0.7499795408364046, 'gamma': 2.6724942742055227}. Best is trial 102 with value: 0.9.\n",
      "[I 2025-06-27 22:49:30,679] Trial 105 finished with value: 0.8913043478260869 and parameters: {'n_estimators': 199, 'max_depth': 8, 'learning_rate': 0.0510135852206656, 'subsample': 0.6102318120776381, 'colsample_bytree': 0.7802268084583119, 'gamma': 2.8804176178141208}. Best is trial 102 with value: 0.9.\n",
      "[I 2025-06-27 22:49:32,442] Trial 106 finished with value: 0.8791208791208791 and parameters: {'n_estimators': 199, 'max_depth': 8, 'learning_rate': 0.048973133268521145, 'subsample': 0.566624652121472, 'colsample_bytree': 0.7895398019813833, 'gamma': 2.9770481065698875}. Best is trial 102 with value: 0.9.\n",
      "[I 2025-06-27 22:49:34,137] Trial 107 finished with value: 0.8729281767955801 and parameters: {'n_estimators': 197, 'max_depth': 7, 'learning_rate': 0.06563667902437367, 'subsample': 0.6110103301939477, 'colsample_bytree': 0.8285698176118147, 'gamma': 2.895271414291563}. Best is trial 102 with value: 0.9.\n",
      "[I 2025-06-27 22:49:35,727] Trial 108 finished with value: 0.8804347826086957 and parameters: {'n_estimators': 205, 'max_depth': 6, 'learning_rate': 0.05297636993191025, 'subsample': 0.5516239804377212, 'colsample_bytree': 0.7834245120154802, 'gamma': 2.829321214726475}. Best is trial 102 with value: 0.9.\n",
      "[I 2025-06-27 22:49:37,502] Trial 109 finished with value: 0.8791208791208791 and parameters: {'n_estimators': 192, 'max_depth': 8, 'learning_rate': 0.05907545794628155, 'subsample': 0.5884754090597124, 'colsample_bytree': 0.8567790512425465, 'gamma': 2.5303297273758556}. Best is trial 102 with value: 0.9.\n",
      "[I 2025-06-27 22:49:39,234] Trial 110 finished with value: 0.8481675392670157 and parameters: {'n_estimators': 212, 'max_depth': 7, 'learning_rate': 0.03276898905947041, 'subsample': 0.6257090080168362, 'colsample_bytree': 0.808544736694856, 'gamma': 3.3163614410229934}. Best is trial 102 with value: 0.9.\n",
      "[I 2025-06-27 22:49:41,212] Trial 111 finished with value: 0.8791208791208791 and parameters: {'n_estimators': 227, 'max_depth': 8, 'learning_rate': 0.04069438182930232, 'subsample': 0.6503222418496746, 'colsample_bytree': 0.736826068403959, 'gamma': 3.135951401755809}. Best is trial 102 with value: 0.9.\n",
      "[I 2025-06-27 22:49:43,196] Trial 112 finished with value: 0.8950276243093923 and parameters: {'n_estimators': 235, 'max_depth': 7, 'learning_rate': 0.051832770988425224, 'subsample': 0.6343835275037999, 'colsample_bytree': 0.7756449050939792, 'gamma': 3.6186042283719795}. Best is trial 102 with value: 0.9.\n",
      "[I 2025-06-27 22:49:45,046] Trial 113 finished with value: 0.8777777777777778 and parameters: {'n_estimators': 223, 'max_depth': 7, 'learning_rate': 0.07209250360473815, 'subsample': 0.6012221244489067, 'colsample_bytree': 0.8215809990230732, 'gamma': 3.6784456814516853}. Best is trial 102 with value: 0.9.\n",
      "[I 2025-06-27 22:49:47,089] Trial 114 finished with value: 0.8961748633879781 and parameters: {'n_estimators': 241, 'max_depth': 7, 'learning_rate': 0.04973217573550457, 'subsample': 0.6391939234121689, 'colsample_bytree': 0.8393254346373185, 'gamma': 3.9857017426649306}. Best is trial 102 with value: 0.9.\n",
      "[I 2025-06-27 22:49:48,949] Trial 115 finished with value: 0.8938547486033519 and parameters: {'n_estimators': 241, 'max_depth': 6, 'learning_rate': 0.06403632688975812, 'subsample': 0.6357044529440812, 'colsample_bytree': 0.8329718262449356, 'gamma': 4.011970448759162}. Best is trial 102 with value: 0.9.\n",
      "[I 2025-06-27 22:49:50,845] Trial 116 finished with value: 0.8950276243093923 and parameters: {'n_estimators': 246, 'max_depth': 6, 'learning_rate': 0.06077160415824828, 'subsample': 0.6392250269280642, 'colsample_bytree': 0.8377612968047503, 'gamma': 4.066726594560711}. Best is trial 102 with value: 0.9.\n",
      "[I 2025-06-27 22:49:53,096] Trial 117 finished with value: 0.8961748633879781 and parameters: {'n_estimators': 260, 'max_depth': 6, 'learning_rate': 0.06234335506682687, 'subsample': 0.6397061814593802, 'colsample_bytree': 0.8402570275039384, 'gamma': 3.9858754168155226}. Best is trial 102 with value: 0.9.\n",
      "[I 2025-06-27 22:49:55,064] Trial 118 finished with value: 0.8950276243093923 and parameters: {'n_estimators': 259, 'max_depth': 6, 'learning_rate': 0.06358605317002786, 'subsample': 0.6416329976357296, 'colsample_bytree': 0.7588409121097808, 'gamma': 4.025317722992343}. Best is trial 102 with value: 0.9.\n",
      "[I 2025-06-27 22:49:56,989] Trial 119 finished with value: 0.8715083798882681 and parameters: {'n_estimators': 258, 'max_depth': 6, 'learning_rate': 0.0834959808050912, 'subsample': 0.6443265304430023, 'colsample_bytree': 0.8387865658415229, 'gamma': 4.066699660679648}. Best is trial 102 with value: 0.9.\n",
      "[I 2025-06-27 22:49:59,020] Trial 120 finished with value: 0.8839779005524862 and parameters: {'n_estimators': 245, 'max_depth': 6, 'learning_rate': 0.06137948275739508, 'subsample': 0.671761383115163, 'colsample_bytree': 0.7542836260192213, 'gamma': 4.382031090366276}. Best is trial 102 with value: 0.9.\n",
      "[I 2025-06-27 22:50:01,062] Trial 121 finished with value: 0.8777777777777778 and parameters: {'n_estimators': 266, 'max_depth': 6, 'learning_rate': 0.07691546984732867, 'subsample': 0.613970201438541, 'colsample_bytree': 0.8132575788008609, 'gamma': 3.9761715751838604}. Best is trial 102 with value: 0.9.\n",
      "[I 2025-06-27 22:50:03,053] Trial 122 finished with value: 0.8901098901098901 and parameters: {'n_estimators': 248, 'max_depth': 6, 'learning_rate': 0.07153308910679299, 'subsample': 0.6540884460250792, 'colsample_bytree': 0.7624878175995127, 'gamma': 4.239509297562423}. Best is trial 102 with value: 0.9.\n",
      "[I 2025-06-27 22:50:05,299] Trial 123 finished with value: 0.8839779005524862 and parameters: {'n_estimators': 257, 'max_depth': 6, 'learning_rate': 0.06251778076154954, 'subsample': 0.6380228972189883, 'colsample_bytree': 0.7260172346823963, 'gamma': 4.5208685732089355}. Best is trial 102 with value: 0.9.\n",
      "[I 2025-06-27 22:50:07,603] Trial 124 finished with value: 0.8839779005524862 and parameters: {'n_estimators': 241, 'max_depth': 6, 'learning_rate': 0.0586070670095304, 'subsample': 0.6599452595483821, 'colsample_bytree': 0.8308184201969888, 'gamma': 3.9656481579267737}. Best is trial 102 with value: 0.9.\n",
      "[I 2025-06-27 22:50:10,006] Trial 125 finished with value: 0.8938547486033519 and parameters: {'n_estimators': 275, 'max_depth': 6, 'learning_rate': 0.06597794204830237, 'subsample': 0.6382686988386695, 'colsample_bytree': 0.7959589744738237, 'gamma': 4.286035178174224}. Best is trial 102 with value: 0.9.\n",
      "[I 2025-06-27 22:50:12,289] Trial 126 finished with value: 0.8839779005524862 and parameters: {'n_estimators': 287, 'max_depth': 6, 'learning_rate': 0.044596510555328844, 'subsample': 0.6171602713244932, 'colsample_bytree': 0.7939392632608174, 'gamma': 4.207404318688915}. Best is trial 102 with value: 0.9.\n",
      "[I 2025-06-27 22:50:14,517] Trial 127 finished with value: 0.8876404494382022 and parameters: {'n_estimators': 270, 'max_depth': 6, 'learning_rate': 0.06636944010485643, 'subsample': 0.6467987713068563, 'colsample_bytree': 0.8037011203170142, 'gamma': 3.790275051100307}. Best is trial 102 with value: 0.9.\n",
      "[I 2025-06-27 22:50:16,975] Trial 128 finished with value: 0.8813559322033898 and parameters: {'n_estimators': 277, 'max_depth': 6, 'learning_rate': 0.05656201922076173, 'subsample': 0.5938998749888542, 'colsample_bytree': 0.8441075981117794, 'gamma': 4.4629409458031954}. Best is trial 102 with value: 0.9.\n",
      "[I 2025-06-27 22:50:19,185] Trial 129 finished with value: 0.8777777777777778 and parameters: {'n_estimators': 284, 'max_depth': 6, 'learning_rate': 0.08721459988063276, 'subsample': 0.6197126751587325, 'colsample_bytree': 0.5704037749413491, 'gamma': 3.9294510469572654}. Best is trial 102 with value: 0.9.\n",
      "[I 2025-06-27 22:50:21,370] Trial 130 finished with value: 0.8804347826086957 and parameters: {'n_estimators': 263, 'max_depth': 6, 'learning_rate': 0.03894676723858745, 'subsample': 0.6654901918004132, 'colsample_bytree': 0.8717371357253907, 'gamma': 4.07195925532141}. Best is trial 102 with value: 0.9.\n",
      "[I 2025-06-27 22:50:23,589] Trial 131 finished with value: 0.88268156424581 and parameters: {'n_estimators': 273, 'max_depth': 6, 'learning_rate': 0.07053699278622577, 'subsample': 0.6375928740072423, 'colsample_bytree': 0.7752349686747468, 'gamma': 4.2764078412435556}. Best is trial 102 with value: 0.9.\n",
      "[I 2025-06-27 22:50:25,368] Trial 132 finished with value: 0.8777777777777778 and parameters: {'n_estimators': 252, 'max_depth': 5, 'learning_rate': 0.07899262560108603, 'subsample': 0.6336561713882438, 'colsample_bytree': 0.8205794309738912, 'gamma': 4.184870311589216}. Best is trial 102 with value: 0.9.\n",
      "[I 2025-06-27 22:50:27,063] Trial 133 finished with value: 0.8677248677248677 and parameters: {'n_estimators': 235, 'max_depth': 5, 'learning_rate': 0.04537423503197925, 'subsample': 0.6530267116333207, 'colsample_bytree': 0.7933837849565678, 'gamma': 4.6884620893148465}. Best is trial 102 with value: 0.9.\n",
      "[I 2025-06-27 22:50:29,194] Trial 134 finished with value: 0.8839779005524862 and parameters: {'n_estimators': 246, 'max_depth': 6, 'learning_rate': 0.06563452736664441, 'subsample': 0.642571391969748, 'colsample_bytree': 0.7618866087278691, 'gamma': 3.6177350149542207}. Best is trial 102 with value: 0.9.\n",
      "[I 2025-06-27 22:50:30,196] Trial 135 finished with value: 0.8556701030927835 and parameters: {'n_estimators': 126, 'max_depth': 5, 'learning_rate': 0.057689254374353446, 'subsample': 0.6102277681852348, 'colsample_bytree': 0.7435743905629426, 'gamma': 4.054368851726655}. Best is trial 102 with value: 0.9.\n",
      "[I 2025-06-27 22:50:32,226] Trial 136 finished with value: 0.8950276243093923 and parameters: {'n_estimators': 239, 'max_depth': 6, 'learning_rate': 0.06549005544449617, 'subsample': 0.6280939005649738, 'colsample_bytree': 0.8277181427262679, 'gamma': 3.828239431514788}. Best is trial 102 with value: 0.9.\n",
      "[I 2025-06-27 22:50:34,696] Trial 137 finished with value: 0.8888888888888888 and parameters: {'n_estimators': 296, 'max_depth': 6, 'learning_rate': 0.06307836911252986, 'subsample': 0.6229293538419413, 'colsample_bytree': 0.8326010996873624, 'gamma': 3.8380311366384543}. Best is trial 102 with value: 0.9.\n",
      "[I 2025-06-27 22:50:36,821] Trial 138 finished with value: 0.88268156424581 and parameters: {'n_estimators': 242, 'max_depth': 6, 'learning_rate': 0.07574656500714447, 'subsample': 0.5827598482143374, 'colsample_bytree': 0.8129796051790018, 'gamma': 3.49941726542976}. Best is trial 102 with value: 0.9.\n",
      "[I 2025-06-27 22:50:39,005] Trial 139 finished with value: 0.8663101604278075 and parameters: {'n_estimators': 251, 'max_depth': 6, 'learning_rate': 0.03597258271971707, 'subsample': 0.5964109309171168, 'colsample_bytree': 0.8426203528298456, 'gamma': 3.7163800557339814}. Best is trial 102 with value: 0.9.\n",
      "[I 2025-06-27 22:50:41,087] Trial 140 finished with value: 0.8901098901098901 and parameters: {'n_estimators': 235, 'max_depth': 6, 'learning_rate': 0.05496423551200666, 'subsample': 0.6784434656042108, 'colsample_bytree': 0.8276097994573537, 'gamma': 3.90456562523987}. Best is trial 102 with value: 0.9.\n",
      "[I 2025-06-27 22:50:43,332] Trial 141 finished with value: 0.8852459016393442 and parameters: {'n_estimators': 258, 'max_depth': 5, 'learning_rate': 0.068000505590621, 'subsample': 0.6258680502765943, 'colsample_bytree': 0.5238395344658414, 'gamma': 4.318072861633168}. Best is trial 102 with value: 0.9.\n",
      "[I 2025-06-27 22:50:45,429] Trial 142 finished with value: 0.8864864864864865 and parameters: {'n_estimators': 239, 'max_depth': 6, 'learning_rate': 0.044436428901659095, 'subsample': 0.6350167907902392, 'colsample_bytree': 0.8027459083376692, 'gamma': 4.133310570376411}. Best is trial 102 with value: 0.9.\n",
      "[I 2025-06-27 22:50:47,473] Trial 143 finished with value: 0.8777777777777778 and parameters: {'n_estimators': 232, 'max_depth': 6, 'learning_rate': 0.08128301100377786, 'subsample': 0.65904565516897, 'colsample_bytree': 0.7809475503738679, 'gamma': 3.806570910183114}. Best is trial 102 with value: 0.9.\n",
      "[I 2025-06-27 22:50:49,795] Trial 144 finished with value: 0.8888888888888888 and parameters: {'n_estimators': 262, 'max_depth': 7, 'learning_rate': 0.05516606090991989, 'subsample': 0.6439348358652905, 'colsample_bytree': 0.849543778221008, 'gamma': 4.018105702011078}. Best is trial 102 with value: 0.9.\n",
      "[I 2025-06-27 22:50:51,641] Trial 145 finished with value: 0.8601036269430051 and parameters: {'n_estimators': 232, 'max_depth': 6, 'learning_rate': 0.02676970984540973, 'subsample': 0.6114961799503363, 'colsample_bytree': 0.8187430633487777, 'gamma': 3.6287743890304887}. Best is trial 102 with value: 0.9.\n",
      "[I 2025-06-27 22:50:53,871] Trial 146 finished with value: 0.8876404494382022 and parameters: {'n_estimators': 253, 'max_depth': 7, 'learning_rate': 0.07397568121305415, 'subsample': 0.6025405987963957, 'colsample_bytree': 0.7711059373510306, 'gamma': 4.649060043699556}. Best is trial 102 with value: 0.9.\n",
      "[I 2025-06-27 22:50:55,865] Trial 147 finished with value: 0.8938547486033519 and parameters: {'n_estimators': 246, 'max_depth': 6, 'learning_rate': 0.06264995998885785, 'subsample': 0.6296799653591618, 'colsample_bytree': 0.7887342434212079, 'gamma': 3.770752496403583}. Best is trial 102 with value: 0.9.\n",
      "[I 2025-06-27 22:50:58,049] Trial 148 finished with value: 0.8961748633879781 and parameters: {'n_estimators': 247, 'max_depth': 6, 'learning_rate': 0.04675248083034986, 'subsample': 0.6263299261601647, 'colsample_bytree': 0.8664509469448899, 'gamma': 3.907135101211432}. Best is trial 102 with value: 0.9.\n",
      "[I 2025-06-27 22:51:00,217] Trial 149 finished with value: 0.8791208791208791 and parameters: {'n_estimators': 267, 'max_depth': 6, 'learning_rate': 0.05011565913425367, 'subsample': 0.6178572631709631, 'colsample_bytree': 0.6787852172897757, 'gamma': 3.92745472465751}. Best is trial 102 with value: 0.9.\n",
      "[I 2025-06-27 22:51:02,264] Trial 150 finished with value: 0.8770053475935828 and parameters: {'n_estimators': 248, 'max_depth': 6, 'learning_rate': 0.03810890290212722, 'subsample': 0.6287700473904031, 'colsample_bytree': 0.86693257164074, 'gamma': 3.722710607514111}. Best is trial 102 with value: 0.9.\n",
      "[I 2025-06-27 22:51:04,244] Trial 151 finished with value: 0.8839779005524862 and parameters: {'n_estimators': 244, 'max_depth': 6, 'learning_rate': 0.06282808641796653, 'subsample': 0.6507224170151082, 'colsample_bytree': 0.8805357655274549, 'gamma': 4.151249812541055}. Best is trial 102 with value: 0.9.\n",
      "[I 2025-06-27 22:51:06,167] Trial 152 finished with value: 0.8913043478260869 and parameters: {'n_estimators': 239, 'max_depth': 6, 'learning_rate': 0.047192836134095625, 'subsample': 0.6322711171958623, 'colsample_bytree': 0.8924055589674615, 'gamma': 3.4538588078043344}. Best is trial 102 with value: 0.9.\n",
      "[I 2025-06-27 22:51:08,103] Trial 153 finished with value: 0.8852459016393442 and parameters: {'n_estimators': 240, 'max_depth': 6, 'learning_rate': 0.047063038260731466, 'subsample': 0.6294246007334448, 'colsample_bytree': 0.8887970895018713, 'gamma': 3.8457639106816743}. Best is trial 102 with value: 0.9.\n",
      "[I 2025-06-27 22:51:10,144] Trial 154 finished with value: 0.8764044943820225 and parameters: {'n_estimators': 255, 'max_depth': 6, 'learning_rate': 0.05616741504061014, 'subsample': 0.6183949473952033, 'colsample_bytree': 0.7892803601557415, 'gamma': 3.557367857455949}. Best is trial 102 with value: 0.9.\n",
      "[I 2025-06-27 22:51:11,894] Trial 155 finished with value: 0.8764044943820225 and parameters: {'n_estimators': 237, 'max_depth': 6, 'learning_rate': 0.047608682704230486, 'subsample': 0.9973248872480334, 'colsample_bytree': 0.808750125568172, 'gamma': 4.025069618392044}. Best is trial 102 with value: 0.9.\n",
      "[I 2025-06-27 22:51:13,880] Trial 156 finished with value: 0.8704663212435233 and parameters: {'n_estimators': 248, 'max_depth': 6, 'learning_rate': 0.03288515929518976, 'subsample': 0.6068835003957261, 'colsample_bytree': 0.8330683519676035, 'gamma': 3.767548799441526}. Best is trial 102 with value: 0.9.\n",
      "[I 2025-06-27 22:51:16,459] Trial 157 finished with value: 0.88268156424581 and parameters: {'n_estimators': 274, 'max_depth': 9, 'learning_rate': 0.03999710814154326, 'subsample': 0.6398350286555774, 'colsample_bytree': 0.8487123617081672, 'gamma': 3.4891701954021106}. Best is trial 102 with value: 0.9.\n",
      "[I 2025-06-27 22:51:18,542] Trial 158 finished with value: 0.8901098901098901 and parameters: {'n_estimators': 260, 'max_depth': 6, 'learning_rate': 0.060812204029305594, 'subsample': 0.591401985890897, 'colsample_bytree': 0.7981401560473304, 'gamma': 4.367035474138581}. Best is trial 102 with value: 0.9.\n",
      "[I 2025-06-27 22:51:20,686] Trial 159 finished with value: 0.8729281767955801 and parameters: {'n_estimators': 243, 'max_depth': 7, 'learning_rate': 0.0501571747003328, 'subsample': 0.6703107520297517, 'colsample_bytree': 0.8233497924842778, 'gamma': 3.9643578752244206}. Best is trial 102 with value: 0.9.\n",
      "[I 2025-06-27 22:51:22,713] Trial 160 finished with value: 0.8901098901098901 and parameters: {'n_estimators': 231, 'max_depth': 6, 'learning_rate': 0.06656326236767561, 'subsample': 0.6304128567314382, 'colsample_bytree': 0.837742357116921, 'gamma': 3.6059411395363035}. Best is trial 102 with value: 0.9.\n",
      "[I 2025-06-27 22:51:24,789] Trial 161 finished with value: 0.8852459016393442 and parameters: {'n_estimators': 250, 'max_depth': 6, 'learning_rate': 0.05374384035752555, 'subsample': 0.6513394652385891, 'colsample_bytree': 0.8735414744655746, 'gamma': 3.8777242535306735}. Best is trial 102 with value: 0.9.\n",
      "[I 2025-06-27 22:51:26,105] Trial 162 finished with value: 0.8512820512820513 and parameters: {'n_estimators': 157, 'max_depth': 6, 'learning_rate': 0.04321274102895004, 'subsample': 0.6196682850577889, 'colsample_bytree': 0.8982277709850979, 'gamma': 3.4227109501449786}. Best is trial 102 with value: 0.9.\n",
      "[I 2025-06-27 22:51:28,308] Trial 163 finished with value: 0.8961748633879781 and parameters: {'n_estimators': 240, 'max_depth': 6, 'learning_rate': 0.059990030358008775, 'subsample': 0.6395361486528955, 'colsample_bytree': 0.8617503044824195, 'gamma': 4.13814676305923}. Best is trial 102 with value: 0.9.\n",
      "[I 2025-06-27 22:51:30,266] Trial 164 finished with value: 0.8852459016393442 and parameters: {'n_estimators': 237, 'max_depth': 6, 'learning_rate': 0.06193242650888669, 'subsample': 0.6401326791776127, 'colsample_bytree': 0.8671402067591467, 'gamma': 4.243992305622032}. Best is trial 102 with value: 0.9.\n",
      "[I 2025-06-27 22:51:32,136] Trial 165 finished with value: 0.8913043478260869 and parameters: {'n_estimators': 229, 'max_depth': 6, 'learning_rate': 0.05579569677067811, 'subsample': 0.6584159213593006, 'colsample_bytree': 0.851997273268085, 'gamma': 4.172245048583191}. Best is trial 102 with value: 0.9.\n",
      "[I 2025-06-27 22:51:34,200] Trial 166 finished with value: 0.8876404494382022 and parameters: {'n_estimators': 243, 'max_depth': 7, 'learning_rate': 0.07390417751771297, 'subsample': 0.6052392884893288, 'colsample_bytree': 0.8805584777755061, 'gamma': 4.0162218337261715}. Best is trial 102 with value: 0.9.\n",
      "[I 2025-06-27 22:51:36,306] Trial 167 finished with value: 0.8764044943820225 and parameters: {'n_estimators': 256, 'max_depth': 6, 'learning_rate': 0.06673334246580884, 'subsample': 0.622800892742916, 'colsample_bytree': 0.8426605158538187, 'gamma': 4.109869542145239}. Best is trial 102 with value: 0.9.\n",
      "[I 2025-06-27 22:51:38,481] Trial 168 finished with value: 0.8938547486033519 and parameters: {'n_estimators': 247, 'max_depth': 7, 'learning_rate': 0.05893062907487664, 'subsample': 0.6454765873452118, 'colsample_bytree': 0.8626601718042295, 'gamma': 4.424725305805952}. Best is trial 102 with value: 0.9.\n",
      "[I 2025-06-27 22:51:40,597] Trial 169 finished with value: 0.8839779005524862 and parameters: {'n_estimators': 247, 'max_depth': 7, 'learning_rate': 0.06044245251228658, 'subsample': 0.6477083666022863, 'colsample_bytree': 0.8619177400302193, 'gamma': 4.510352117608525}. Best is trial 102 with value: 0.9.\n",
      "[I 2025-06-27 22:51:42,716] Trial 170 finished with value: 0.8777777777777778 and parameters: {'n_estimators': 253, 'max_depth': 7, 'learning_rate': 0.0689233565212598, 'subsample': 0.662147090607187, 'colsample_bytree': 0.8130665252774399, 'gamma': 4.352332327166107}. Best is trial 102 with value: 0.9.\n",
      "[I 2025-06-27 22:51:44,744] Trial 171 finished with value: 0.9010989010989011 and parameters: {'n_estimators': 235, 'max_depth': 7, 'learning_rate': 0.05183144616652869, 'subsample': 0.6300814656615651, 'colsample_bytree': 0.7571847178064445, 'gamma': 4.771200533693077}. Best is trial 171 with value: 0.9010989010989011.\n",
      "[I 2025-06-27 22:51:46,767] Trial 172 finished with value: 0.8839779005524862 and parameters: {'n_estimators': 233, 'max_depth': 7, 'learning_rate': 0.057859166505897786, 'subsample': 0.6393822841080498, 'colsample_bytree': 0.7585663367869179, 'gamma': 4.278252170404846}. Best is trial 171 with value: 0.9010989010989011.\n",
      "[I 2025-06-27 22:51:48,866] Trial 173 finished with value: 0.8839779005524862 and parameters: {'n_estimators': 244, 'max_depth': 7, 'learning_rate': 0.05305350067536974, 'subsample': 0.6159273840308082, 'colsample_bytree': 0.7479418357509671, 'gamma': 4.953618589497607}. Best is trial 171 with value: 0.9010989010989011.\n",
      "[I 2025-06-27 22:51:50,943] Trial 174 finished with value: 0.8950276243093923 and parameters: {'n_estimators': 228, 'max_depth': 8, 'learning_rate': 0.05160132172015666, 'subsample': 0.6284702368431838, 'colsample_bytree': 0.769734101761431, 'gamma': 4.8776228164659905}. Best is trial 171 with value: 0.9010989010989011.\n",
      "[I 2025-06-27 22:51:53,114] Trial 175 finished with value: 0.8852459016393442 and parameters: {'n_estimators': 229, 'max_depth': 7, 'learning_rate': 0.042126151440618854, 'subsample': 0.6303939167078322, 'colsample_bytree': 0.7098233838049237, 'gamma': 4.999893880364523}. Best is trial 171 with value: 0.9010989010989011.\n",
      "[I 2025-06-27 22:51:55,166] Trial 176 finished with value: 0.88268156424581 and parameters: {'n_estimators': 239, 'max_depth': 7, 'learning_rate': 0.06118450624310047, 'subsample': 0.647433159956572, 'colsample_bytree': 0.7670795191102885, 'gamma': 4.7369179992370185}. Best is trial 171 with value: 0.9010989010989011.\n",
      "[I 2025-06-27 22:51:57,247] Trial 177 finished with value: 0.88268156424581 and parameters: {'n_estimators': 234, 'max_depth': 7, 'learning_rate': 0.06913928376266291, 'subsample': 0.6238114635421176, 'colsample_bytree': 0.8276310278070708, 'gamma': 4.753119615592077}. Best is trial 171 with value: 0.9010989010989011.\n",
      "[I 2025-06-27 22:51:59,367] Trial 178 finished with value: 0.8888888888888888 and parameters: {'n_estimators': 221, 'max_depth': 8, 'learning_rate': 0.05161176562330637, 'subsample': 0.6413409735504103, 'colsample_bytree': 0.7859249225435033, 'gamma': 4.8612433710684355}. Best is trial 171 with value: 0.9010989010989011.\n",
      "[I 2025-06-27 22:52:01,646] Trial 179 finished with value: 0.8804347826086957 and parameters: {'n_estimators': 262, 'max_depth': 7, 'learning_rate': 0.03436659547615445, 'subsample': 0.6540988141874112, 'colsample_bytree': 0.8563797687577995, 'gamma': 4.497381565321756}. Best is trial 171 with value: 0.9010989010989011.\n",
      "[I 2025-06-27 22:52:03,569] Trial 180 finished with value: 0.8777777777777778 and parameters: {'n_estimators': 227, 'max_depth': 7, 'learning_rate': 0.07683583696248941, 'subsample': 0.6345243100805393, 'colsample_bytree': 0.8017099299436359, 'gamma': 4.880136147552785}. Best is trial 171 with value: 0.9010989010989011.\n",
      "[I 2025-06-27 22:52:05,637] Trial 181 finished with value: 0.8839779005524862 and parameters: {'n_estimators': 215, 'max_depth': 9, 'learning_rate': 0.0472889930817883, 'subsample': 0.6141195652782337, 'colsample_bytree': 0.7690477661127214, 'gamma': 4.781902253607283}. Best is trial 171 with value: 0.9010989010989011.\n",
      "[I 2025-06-27 22:52:07,926] Trial 182 finished with value: 0.8777777777777778 and parameters: {'n_estimators': 247, 'max_depth': 8, 'learning_rate': 0.05545221736120415, 'subsample': 0.5973469512429361, 'colsample_bytree': 0.778860173805708, 'gamma': 4.64346278205188}. Best is trial 171 with value: 0.9010989010989011.\n",
      "[I 2025-06-27 22:52:10,075] Trial 183 finished with value: 0.8764044943820225 and parameters: {'n_estimators': 235, 'max_depth': 8, 'learning_rate': 0.0633219867715428, 'subsample': 0.6269196539869538, 'colsample_bytree': 0.7552230829458593, 'gamma': 4.077958131457479}. Best is trial 171 with value: 0.9010989010989011.\n",
      "[I 2025-06-27 22:52:12,195] Trial 184 finished with value: 0.8791208791208791 and parameters: {'n_estimators': 222, 'max_depth': 9, 'learning_rate': 0.04191606513298568, 'subsample': 0.6112126243273482, 'colsample_bytree': 0.7383389724846829, 'gamma': 4.4421155850803995}. Best is trial 171 with value: 0.9010989010989011.\n",
      "[I 2025-06-27 22:52:14,317] Trial 185 finished with value: 0.8901098901098901 and parameters: {'n_estimators': 252, 'max_depth': 6, 'learning_rate': 0.050622844035956946, 'subsample': 0.637597202718862, 'colsample_bytree': 0.7887300516792275, 'gamma': 3.9022601018612826}. Best is trial 171 with value: 0.9010989010989011.\n",
      "[I 2025-06-27 22:52:16,545] Trial 186 finished with value: 0.8876404494382022 and parameters: {'n_estimators': 244, 'max_depth': 8, 'learning_rate': 0.0598970899777264, 'subsample': 0.6243149589091929, 'colsample_bytree': 0.8450120620823931, 'gamma': 3.773938930997605}. Best is trial 171 with value: 0.9010989010989011.\n",
      "[I 2025-06-27 22:52:18,416] Trial 187 finished with value: 0.8852459016393442 and parameters: {'n_estimators': 211, 'max_depth': 7, 'learning_rate': 0.05500307574849185, 'subsample': 0.6083832010626382, 'colsample_bytree': 0.7764183248793907, 'gamma': 4.564959198136031}. Best is trial 171 with value: 0.9010989010989011.\n",
      "[I 2025-06-27 22:52:19,809] Trial 188 finished with value: 0.8791208791208791 and parameters: {'n_estimators': 239, 'max_depth': 6, 'learning_rate': 0.18576550371851477, 'subsample': 0.645944328669835, 'colsample_bytree': 0.7233072859484669, 'gamma': 3.969518694434}. Best is trial 171 with value: 0.9010989010989011.\n",
      "[I 2025-06-27 22:52:21,905] Trial 189 finished with value: 0.8715083798882681 and parameters: {'n_estimators': 258, 'max_depth': 6, 'learning_rate': 0.0725856420283063, 'subsample': 0.6639407566643488, 'colsample_bytree': 0.823597035703229, 'gamma': 4.179288007208464}. Best is trial 171 with value: 0.9010989010989011.\n",
      "[I 2025-06-27 22:52:24,221] Trial 190 finished with value: 0.8764044943820225 and parameters: {'n_estimators': 268, 'max_depth': 7, 'learning_rate': 0.06469657139787577, 'subsample': 0.5972982214306108, 'colsample_bytree': 0.837378571385105, 'gamma': 3.7139388365572787}. Best is trial 171 with value: 0.9010989010989011.\n",
      "[I 2025-06-27 22:52:26,159] Trial 191 finished with value: 0.8864864864864865 and parameters: {'n_estimators': 239, 'max_depth': 6, 'learning_rate': 0.04568802738138873, 'subsample': 0.6337633388800381, 'colsample_bytree': 0.8941808820408499, 'gamma': 3.8267508214349517}. Best is trial 171 with value: 0.9010989010989011.\n",
      "[I 2025-06-27 22:52:28,348] Trial 192 finished with value: 0.8864864864864865 and parameters: {'n_estimators': 229, 'max_depth': 6, 'learning_rate': 0.047754171576981586, 'subsample': 0.6261282557173495, 'colsample_bytree': 0.8698793742173276, 'gamma': 3.663519016468904}. Best is trial 171 with value: 0.9010989010989011.\n",
      "[I 2025-06-27 22:52:30,352] Trial 193 finished with value: 0.8901098901098901 and parameters: {'n_estimators': 242, 'max_depth': 6, 'learning_rate': 0.051736533640508064, 'subsample': 0.6323550355343018, 'colsample_bytree': 0.8803368555968801, 'gamma': 4.030966992848243}. Best is trial 171 with value: 0.9010989010989011.\n",
      "[I 2025-06-27 22:52:32,625] Trial 194 finished with value: 0.8913043478260869 and parameters: {'n_estimators': 279, 'max_depth': 6, 'learning_rate': 0.0372958143738289, 'subsample': 0.6456360083090209, 'colsample_bytree': 0.7607571052674743, 'gamma': 3.889774151999506}. Best is trial 171 with value: 0.9010989010989011.\n",
      "[I 2025-06-27 22:52:34,628] Trial 195 finished with value: 0.8888888888888888 and parameters: {'n_estimators': 250, 'max_depth': 6, 'learning_rate': 0.05809359352990401, 'subsample': 0.6183840570587494, 'colsample_bytree': 0.6262855604898717, 'gamma': 4.232244086685638}. Best is trial 171 with value: 0.9010989010989011.\n",
      "[I 2025-06-27 22:52:36,531] Trial 196 finished with value: 0.8541666666666666 and parameters: {'n_estimators': 234, 'max_depth': 6, 'learning_rate': 0.029758354954637103, 'subsample': 0.6554289239937086, 'colsample_bytree': 0.7968782068809548, 'gamma': 4.121486512953371}. Best is trial 171 with value: 0.9010989010989011.\n",
      "[I 2025-06-27 22:52:38,846] Trial 197 finished with value: 0.8791208791208791 and parameters: {'n_estimators': 223, 'max_depth': 10, 'learning_rate': 0.04399004442498729, 'subsample': 0.6357563126220859, 'colsample_bytree': 0.8516368236636016, 'gamma': 3.4771755364902797}. Best is trial 171 with value: 0.9010989010989011.\n",
      "[I 2025-06-27 22:52:41,094] Trial 198 finished with value: 0.8938547486033519 and parameters: {'n_estimators': 237, 'max_depth': 9, 'learning_rate': 0.04990565465936414, 'subsample': 0.6127802256898361, 'colsample_bytree': 0.8611703866305132, 'gamma': 4.339737343469766}. Best is trial 171 with value: 0.9010989010989011.\n",
      "[I 2025-06-27 22:52:43,149] Trial 199 finished with value: 0.8876404494382022 and parameters: {'n_estimators': 217, 'max_depth': 8, 'learning_rate': 0.06724991633564113, 'subsample': 0.6118061163730242, 'colsample_bytree': 0.8595012167068034, 'gamma': 4.319240664560694}. Best is trial 171 with value: 0.9010989010989011.\n"
     ]
    },
    {
     "name": "stdout",
     "output_type": "stream",
     "text": [
      "Best parameters: {'n_estimators': 235, 'max_depth': 7, 'learning_rate': 0.05183144616652869, 'subsample': 0.6300814656615651, 'colsample_bytree': 0.7571847178064445, 'gamma': 4.771200533693077}\n",
      "Best F1 score: 0.9010989010989011\n"
     ]
    }
   ],
   "source": [
    "import optuna\n",
    "from sklearn.metrics import f1_score  # or accuracy_score\n",
    "\n",
    "\n",
    "def objective(trial):\n",
    "    param = {\n",
    "        'n_estimators': trial.suggest_int('n_estimators', 50, 300),\n",
    "        'max_depth': trial.suggest_int('max_depth', 3, 10),\n",
    "        'learning_rate': trial.suggest_float('learning_rate', 0.01, 0.3),\n",
    "        'scale_pos_weight': ratio_positive,\n",
    "        'subsample': trial.suggest_float('subsample', 0.5, 1.0),\n",
    "        'colsample_bytree': trial.suggest_float('colsample_bytree', 0.5, 1.0),\n",
    "        'gamma': trial.suggest_float('gamma', 0.0, 5.0)\n",
    "        }\n",
    "    \n",
    "    xgb = XGBClassifier(**param)\n",
    "    xgb.fit(X_train, y_train)\n",
    "    \n",
    "    y_scores = xgb.predict_proba(X_test)[:, 1]\n",
    "    y_pred = (y_scores > 0.92).astype(int)\n",
    "    f1 = f1_score(y_test, y_pred)\n",
    "    \n",
    "    return f1\n",
    "\n",
    "\n",
    "optuna_study = optuna.create_study(direction='maximize')\n",
    "optuna_study.optimize(objective, n_trials=200)\n",
    "\n",
    "print(\"Best parameters:\", optuna_study.best_params)\n",
    "print(\"Best F1 score:\", optuna_study.best_value)"
   ]
  },
  {
   "cell_type": "code",
   "execution_count": 15,
   "id": "9704b586",
   "metadata": {},
   "outputs": [
    {
     "name": "stdout",
     "output_type": "stream",
     "text": [
      "[[56863     1]\n",
      " [   16    82]]\n",
      "              precision    recall  f1-score   support\n",
      "\n",
      "           0       1.00      1.00      1.00     56864\n",
      "           1       0.99      0.84      0.91        98\n",
      "\n",
      "    accuracy                           1.00     56962\n",
      "   macro avg       0.99      0.92      0.95     56962\n",
      "weighted avg       1.00      1.00      1.00     56962\n",
      "\n"
     ]
    }
   ],
   "source": [
    "# Train a new model with the best parameters found by Optuna\n",
    "best_params = optuna_study.best_params\n",
    "best_params['scale_pos_weight'] = ratio_positive  # ensure class imbalance param is set\n",
    "\n",
    "xgb_optuna = XGBClassifier(**best_params)\n",
    "xgb_optuna.fit(X_train, y_train)\n",
    "\n",
    "y_scores_optuna = xgb_optuna.predict_proba(X_test)[:, 1]\n",
    "y_pred_optuna = (y_scores_optuna > 0.93).astype(int)\n",
    "print(confusion_matrix(y_test, y_pred_optuna))\n",
    "print(classification_report(y_test, y_pred_optuna))"
   ]
  },
  {
   "cell_type": "code",
   "execution_count": 16,
   "id": "8f8fcf15",
   "metadata": {},
   "outputs": [
    {
     "data": {
      "application/vnd.plotly.v1+json": {
       "config": {
        "plotlyServerURL": "https://plot.ly"
       },
       "data": [
        {
         "mode": "markers",
         "name": "Objective Value",
         "type": "scatter",
         "x": [
          0,
          1,
          2,
          3,
          4,
          5,
          6,
          7,
          8,
          9,
          10,
          11,
          12,
          13,
          14,
          15,
          16,
          17,
          18,
          19,
          20,
          21,
          22,
          23,
          24,
          25,
          26,
          27,
          28,
          29,
          30,
          31,
          32,
          33,
          34,
          35,
          36,
          37,
          38,
          39,
          40,
          41,
          42,
          43,
          44,
          45,
          46,
          47,
          48,
          49,
          50,
          51,
          52,
          53,
          54,
          55,
          56,
          57,
          58,
          59,
          60,
          61,
          62,
          63,
          64,
          65,
          66,
          67,
          68,
          69,
          70,
          71,
          72,
          73,
          74,
          75,
          76,
          77,
          78,
          79,
          80,
          81,
          82,
          83,
          84,
          85,
          86,
          87,
          88,
          89,
          90,
          91,
          92,
          93,
          94,
          95,
          96,
          97,
          98,
          99,
          100,
          101,
          102,
          103,
          104,
          105,
          106,
          107,
          108,
          109,
          110,
          111,
          112,
          113,
          114,
          115,
          116,
          117,
          118,
          119,
          120,
          121,
          122,
          123,
          124,
          125,
          126,
          127,
          128,
          129,
          130,
          131,
          132,
          133,
          134,
          135,
          136,
          137,
          138,
          139,
          140,
          141,
          142,
          143,
          144,
          145,
          146,
          147,
          148,
          149,
          150,
          151,
          152,
          153,
          154,
          155,
          156,
          157,
          158,
          159,
          160,
          161,
          162,
          163,
          164,
          165,
          166,
          167,
          168,
          169,
          170,
          171,
          172,
          173,
          174,
          175,
          176,
          177,
          178,
          179,
          180,
          181,
          182,
          183,
          184,
          185,
          186,
          187,
          188,
          189,
          190,
          191,
          192,
          193,
          194,
          195,
          196,
          197,
          198,
          199
         ],
         "y": [
          0.8901098901098901,
          0.8839779005524862,
          0.8715083798882681,
          0.8777777777777778,
          0.8,
          0.8481675392670157,
          0.8324324324324325,
          0.8555555555555555,
          0.797752808988764,
          0.8852459016393442,
          0.8685714285714285,
          0.8715083798882681,
          0.8602150537634409,
          0.8813559322033898,
          0.8723404255319149,
          0.84375,
          0,
          0.8804347826086957,
          0.8791208791208791,
          0.8777777777777778,
          0.8631578947368421,
          0.8791208791208791,
          0.8764044943820225,
          0.8764044943820225,
          0.8685714285714285,
          0.88,
          0.8715083798882681,
          0.8839779005524862,
          0.8842105263157894,
          0.8541666666666666,
          0.8791208791208791,
          0.88268156424581,
          0.8723404255319149,
          0.8777777777777778,
          0.84375,
          0.8449197860962567,
          0.8603351955307262,
          0.8777777777777778,
          0.8715083798882681,
          0.7391304347826086,
          0.8404255319148937,
          0.8888888888888888,
          0.8938547486033519,
          0.8839779005524862,
          0.8359788359788359,
          0.819672131147541,
          0.8938547486033519,
          0.8633879781420765,
          0.8791208791208791,
          0.8681318681318682,
          0.8465608465608465,
          0.8715083798882681,
          0.8715083798882681,
          0.8541666666666666,
          0.8777777777777778,
          0.8666666666666667,
          0.8764044943820225,
          0.8387096774193549,
          0.8777777777777778,
          0,
          0.8901098901098901,
          0.8804347826086957,
          0.8723404255319149,
          0.8137254901960784,
          0.875,
          0.8715083798882681,
          0.8777777777777778,
          0.8777777777777778,
          0.8817204301075269,
          0.8888888888888888,
          0.8715083798882681,
          0.88268156424581,
          0.8700564971751412,
          0.8764044943820225,
          0.8421052631578947,
          0.8770053475935828,
          0.8421052631578947,
          0.8813559322033898,
          0.8813559322033898,
          0.8260869565217391,
          0.8777777777777778,
          0.88268156424581,
          0.7327586206896551,
          0.8743169398907104,
          0.8715083798882681,
          0.8223350253807107,
          0.8764044943820225,
          0.8387096774193549,
          0.8950276243093923,
          0.8901098901098901,
          0.8901098901098901,
          0.8901098901098901,
          0.8852459016393442,
          0.8888888888888888,
          0.8804347826086957,
          0.8723404255319149,
          0.88268156424581,
          0.8888888888888888,
          0.8260869565217391,
          0.8666666666666667,
          0.8541666666666666,
          0.88268156424581,
          0.9,
          0.8901098901098901,
          0.8756756756756757,
          0.8913043478260869,
          0.8791208791208791,
          0.8729281767955801,
          0.8804347826086957,
          0.8791208791208791,
          0.8481675392670157,
          0.8791208791208791,
          0.8950276243093923,
          0.8777777777777778,
          0.8961748633879781,
          0.8938547486033519,
          0.8950276243093923,
          0.8961748633879781,
          0.8950276243093923,
          0.8715083798882681,
          0.8839779005524862,
          0.8777777777777778,
          0.8901098901098901,
          0.8839779005524862,
          0.8839779005524862,
          0.8938547486033519,
          0.8839779005524862,
          0.8876404494382022,
          0.8813559322033898,
          0.8777777777777778,
          0.8804347826086957,
          0.88268156424581,
          0.8777777777777778,
          0.8677248677248677,
          0.8839779005524862,
          0.8556701030927835,
          0.8950276243093923,
          0.8888888888888888,
          0.88268156424581,
          0.8663101604278075,
          0.8901098901098901,
          0.8852459016393442,
          0.8864864864864865,
          0.8777777777777778,
          0.8888888888888888,
          0.8601036269430051,
          0.8876404494382022,
          0.8938547486033519,
          0.8961748633879781,
          0.8791208791208791,
          0.8770053475935828,
          0.8839779005524862,
          0.8913043478260869,
          0.8852459016393442,
          0.8764044943820225,
          0.8764044943820225,
          0.8704663212435233,
          0.88268156424581,
          0.8901098901098901,
          0.8729281767955801,
          0.8901098901098901,
          0.8852459016393442,
          0.8512820512820513,
          0.8961748633879781,
          0.8852459016393442,
          0.8913043478260869,
          0.8876404494382022,
          0.8764044943820225,
          0.8938547486033519,
          0.8839779005524862,
          0.8777777777777778,
          0.9010989010989011,
          0.8839779005524862,
          0.8839779005524862,
          0.8950276243093923,
          0.8852459016393442,
          0.88268156424581,
          0.88268156424581,
          0.8888888888888888,
          0.8804347826086957,
          0.8777777777777778,
          0.8839779005524862,
          0.8777777777777778,
          0.8764044943820225,
          0.8791208791208791,
          0.8901098901098901,
          0.8876404494382022,
          0.8852459016393442,
          0.8791208791208791,
          0.8715083798882681,
          0.8764044943820225,
          0.8864864864864865,
          0.8864864864864865,
          0.8901098901098901,
          0.8913043478260869,
          0.8888888888888888,
          0.8541666666666666,
          0.8791208791208791,
          0.8938547486033519,
          0.8876404494382022
         ]
        },
        {
         "mode": "lines",
         "name": "Best Value",
         "type": "scatter",
         "x": [
          0,
          1,
          2,
          3,
          4,
          5,
          6,
          7,
          8,
          9,
          10,
          11,
          12,
          13,
          14,
          15,
          16,
          17,
          18,
          19,
          20,
          21,
          22,
          23,
          24,
          25,
          26,
          27,
          28,
          29,
          30,
          31,
          32,
          33,
          34,
          35,
          36,
          37,
          38,
          39,
          40,
          41,
          42,
          43,
          44,
          45,
          46,
          47,
          48,
          49,
          50,
          51,
          52,
          53,
          54,
          55,
          56,
          57,
          58,
          59,
          60,
          61,
          62,
          63,
          64,
          65,
          66,
          67,
          68,
          69,
          70,
          71,
          72,
          73,
          74,
          75,
          76,
          77,
          78,
          79,
          80,
          81,
          82,
          83,
          84,
          85,
          86,
          87,
          88,
          89,
          90,
          91,
          92,
          93,
          94,
          95,
          96,
          97,
          98,
          99,
          100,
          101,
          102,
          103,
          104,
          105,
          106,
          107,
          108,
          109,
          110,
          111,
          112,
          113,
          114,
          115,
          116,
          117,
          118,
          119,
          120,
          121,
          122,
          123,
          124,
          125,
          126,
          127,
          128,
          129,
          130,
          131,
          132,
          133,
          134,
          135,
          136,
          137,
          138,
          139,
          140,
          141,
          142,
          143,
          144,
          145,
          146,
          147,
          148,
          149,
          150,
          151,
          152,
          153,
          154,
          155,
          156,
          157,
          158,
          159,
          160,
          161,
          162,
          163,
          164,
          165,
          166,
          167,
          168,
          169,
          170,
          171,
          172,
          173,
          174,
          175,
          176,
          177,
          178,
          179,
          180,
          181,
          182,
          183,
          184,
          185,
          186,
          187,
          188,
          189,
          190,
          191,
          192,
          193,
          194,
          195,
          196,
          197,
          198,
          199
         ],
         "y": [
          0.8901098901098901,
          0.8901098901098901,
          0.8901098901098901,
          0.8901098901098901,
          0.8901098901098901,
          0.8901098901098901,
          0.8901098901098901,
          0.8901098901098901,
          0.8901098901098901,
          0.8901098901098901,
          0.8901098901098901,
          0.8901098901098901,
          0.8901098901098901,
          0.8901098901098901,
          0.8901098901098901,
          0.8901098901098901,
          0.8901098901098901,
          0.8901098901098901,
          0.8901098901098901,
          0.8901098901098901,
          0.8901098901098901,
          0.8901098901098901,
          0.8901098901098901,
          0.8901098901098901,
          0.8901098901098901,
          0.8901098901098901,
          0.8901098901098901,
          0.8901098901098901,
          0.8901098901098901,
          0.8901098901098901,
          0.8901098901098901,
          0.8901098901098901,
          0.8901098901098901,
          0.8901098901098901,
          0.8901098901098901,
          0.8901098901098901,
          0.8901098901098901,
          0.8901098901098901,
          0.8901098901098901,
          0.8901098901098901,
          0.8901098901098901,
          0.8901098901098901,
          0.8938547486033519,
          0.8938547486033519,
          0.8938547486033519,
          0.8938547486033519,
          0.8938547486033519,
          0.8938547486033519,
          0.8938547486033519,
          0.8938547486033519,
          0.8938547486033519,
          0.8938547486033519,
          0.8938547486033519,
          0.8938547486033519,
          0.8938547486033519,
          0.8938547486033519,
          0.8938547486033519,
          0.8938547486033519,
          0.8938547486033519,
          0.8938547486033519,
          0.8938547486033519,
          0.8938547486033519,
          0.8938547486033519,
          0.8938547486033519,
          0.8938547486033519,
          0.8938547486033519,
          0.8938547486033519,
          0.8938547486033519,
          0.8938547486033519,
          0.8938547486033519,
          0.8938547486033519,
          0.8938547486033519,
          0.8938547486033519,
          0.8938547486033519,
          0.8938547486033519,
          0.8938547486033519,
          0.8938547486033519,
          0.8938547486033519,
          0.8938547486033519,
          0.8938547486033519,
          0.8938547486033519,
          0.8938547486033519,
          0.8938547486033519,
          0.8938547486033519,
          0.8938547486033519,
          0.8938547486033519,
          0.8938547486033519,
          0.8938547486033519,
          0.8950276243093923,
          0.8950276243093923,
          0.8950276243093923,
          0.8950276243093923,
          0.8950276243093923,
          0.8950276243093923,
          0.8950276243093923,
          0.8950276243093923,
          0.8950276243093923,
          0.8950276243093923,
          0.8950276243093923,
          0.8950276243093923,
          0.8950276243093923,
          0.8950276243093923,
          0.9,
          0.9,
          0.9,
          0.9,
          0.9,
          0.9,
          0.9,
          0.9,
          0.9,
          0.9,
          0.9,
          0.9,
          0.9,
          0.9,
          0.9,
          0.9,
          0.9,
          0.9,
          0.9,
          0.9,
          0.9,
          0.9,
          0.9,
          0.9,
          0.9,
          0.9,
          0.9,
          0.9,
          0.9,
          0.9,
          0.9,
          0.9,
          0.9,
          0.9,
          0.9,
          0.9,
          0.9,
          0.9,
          0.9,
          0.9,
          0.9,
          0.9,
          0.9,
          0.9,
          0.9,
          0.9,
          0.9,
          0.9,
          0.9,
          0.9,
          0.9,
          0.9,
          0.9,
          0.9,
          0.9,
          0.9,
          0.9,
          0.9,
          0.9,
          0.9,
          0.9,
          0.9,
          0.9,
          0.9,
          0.9,
          0.9,
          0.9,
          0.9,
          0.9,
          0.9010989010989011,
          0.9010989010989011,
          0.9010989010989011,
          0.9010989010989011,
          0.9010989010989011,
          0.9010989010989011,
          0.9010989010989011,
          0.9010989010989011,
          0.9010989010989011,
          0.9010989010989011,
          0.9010989010989011,
          0.9010989010989011,
          0.9010989010989011,
          0.9010989010989011,
          0.9010989010989011,
          0.9010989010989011,
          0.9010989010989011,
          0.9010989010989011,
          0.9010989010989011,
          0.9010989010989011,
          0.9010989010989011,
          0.9010989010989011,
          0.9010989010989011,
          0.9010989010989011,
          0.9010989010989011,
          0.9010989010989011,
          0.9010989010989011,
          0.9010989010989011,
          0.9010989010989011
         ]
        },
        {
         "marker": {
          "color": "#cccccc"
         },
         "mode": "markers",
         "name": "Infeasible Trial",
         "showlegend": false,
         "type": "scatter",
         "x": [],
         "y": []
        }
       ],
       "layout": {
        "template": {
         "data": {
          "bar": [
           {
            "error_x": {
             "color": "#2a3f5f"
            },
            "error_y": {
             "color": "#2a3f5f"
            },
            "marker": {
             "line": {
              "color": "#E5ECF6",
              "width": 0.5
             },
             "pattern": {
              "fillmode": "overlay",
              "size": 10,
              "solidity": 0.2
             }
            },
            "type": "bar"
           }
          ],
          "barpolar": [
           {
            "marker": {
             "line": {
              "color": "#E5ECF6",
              "width": 0.5
             },
             "pattern": {
              "fillmode": "overlay",
              "size": 10,
              "solidity": 0.2
             }
            },
            "type": "barpolar"
           }
          ],
          "carpet": [
           {
            "aaxis": {
             "endlinecolor": "#2a3f5f",
             "gridcolor": "white",
             "linecolor": "white",
             "minorgridcolor": "white",
             "startlinecolor": "#2a3f5f"
            },
            "baxis": {
             "endlinecolor": "#2a3f5f",
             "gridcolor": "white",
             "linecolor": "white",
             "minorgridcolor": "white",
             "startlinecolor": "#2a3f5f"
            },
            "type": "carpet"
           }
          ],
          "choropleth": [
           {
            "colorbar": {
             "outlinewidth": 0,
             "ticks": ""
            },
            "type": "choropleth"
           }
          ],
          "contour": [
           {
            "colorbar": {
             "outlinewidth": 0,
             "ticks": ""
            },
            "colorscale": [
             [
              0,
              "#0d0887"
             ],
             [
              0.1111111111111111,
              "#46039f"
             ],
             [
              0.2222222222222222,
              "#7201a8"
             ],
             [
              0.3333333333333333,
              "#9c179e"
             ],
             [
              0.4444444444444444,
              "#bd3786"
             ],
             [
              0.5555555555555556,
              "#d8576b"
             ],
             [
              0.6666666666666666,
              "#ed7953"
             ],
             [
              0.7777777777777778,
              "#fb9f3a"
             ],
             [
              0.8888888888888888,
              "#fdca26"
             ],
             [
              1,
              "#f0f921"
             ]
            ],
            "type": "contour"
           }
          ],
          "contourcarpet": [
           {
            "colorbar": {
             "outlinewidth": 0,
             "ticks": ""
            },
            "type": "contourcarpet"
           }
          ],
          "heatmap": [
           {
            "colorbar": {
             "outlinewidth": 0,
             "ticks": ""
            },
            "colorscale": [
             [
              0,
              "#0d0887"
             ],
             [
              0.1111111111111111,
              "#46039f"
             ],
             [
              0.2222222222222222,
              "#7201a8"
             ],
             [
              0.3333333333333333,
              "#9c179e"
             ],
             [
              0.4444444444444444,
              "#bd3786"
             ],
             [
              0.5555555555555556,
              "#d8576b"
             ],
             [
              0.6666666666666666,
              "#ed7953"
             ],
             [
              0.7777777777777778,
              "#fb9f3a"
             ],
             [
              0.8888888888888888,
              "#fdca26"
             ],
             [
              1,
              "#f0f921"
             ]
            ],
            "type": "heatmap"
           }
          ],
          "heatmapgl": [
           {
            "colorbar": {
             "outlinewidth": 0,
             "ticks": ""
            },
            "colorscale": [
             [
              0,
              "#0d0887"
             ],
             [
              0.1111111111111111,
              "#46039f"
             ],
             [
              0.2222222222222222,
              "#7201a8"
             ],
             [
              0.3333333333333333,
              "#9c179e"
             ],
             [
              0.4444444444444444,
              "#bd3786"
             ],
             [
              0.5555555555555556,
              "#d8576b"
             ],
             [
              0.6666666666666666,
              "#ed7953"
             ],
             [
              0.7777777777777778,
              "#fb9f3a"
             ],
             [
              0.8888888888888888,
              "#fdca26"
             ],
             [
              1,
              "#f0f921"
             ]
            ],
            "type": "heatmapgl"
           }
          ],
          "histogram": [
           {
            "marker": {
             "pattern": {
              "fillmode": "overlay",
              "size": 10,
              "solidity": 0.2
             }
            },
            "type": "histogram"
           }
          ],
          "histogram2d": [
           {
            "colorbar": {
             "outlinewidth": 0,
             "ticks": ""
            },
            "colorscale": [
             [
              0,
              "#0d0887"
             ],
             [
              0.1111111111111111,
              "#46039f"
             ],
             [
              0.2222222222222222,
              "#7201a8"
             ],
             [
              0.3333333333333333,
              "#9c179e"
             ],
             [
              0.4444444444444444,
              "#bd3786"
             ],
             [
              0.5555555555555556,
              "#d8576b"
             ],
             [
              0.6666666666666666,
              "#ed7953"
             ],
             [
              0.7777777777777778,
              "#fb9f3a"
             ],
             [
              0.8888888888888888,
              "#fdca26"
             ],
             [
              1,
              "#f0f921"
             ]
            ],
            "type": "histogram2d"
           }
          ],
          "histogram2dcontour": [
           {
            "colorbar": {
             "outlinewidth": 0,
             "ticks": ""
            },
            "colorscale": [
             [
              0,
              "#0d0887"
             ],
             [
              0.1111111111111111,
              "#46039f"
             ],
             [
              0.2222222222222222,
              "#7201a8"
             ],
             [
              0.3333333333333333,
              "#9c179e"
             ],
             [
              0.4444444444444444,
              "#bd3786"
             ],
             [
              0.5555555555555556,
              "#d8576b"
             ],
             [
              0.6666666666666666,
              "#ed7953"
             ],
             [
              0.7777777777777778,
              "#fb9f3a"
             ],
             [
              0.8888888888888888,
              "#fdca26"
             ],
             [
              1,
              "#f0f921"
             ]
            ],
            "type": "histogram2dcontour"
           }
          ],
          "mesh3d": [
           {
            "colorbar": {
             "outlinewidth": 0,
             "ticks": ""
            },
            "type": "mesh3d"
           }
          ],
          "parcoords": [
           {
            "line": {
             "colorbar": {
              "outlinewidth": 0,
              "ticks": ""
             }
            },
            "type": "parcoords"
           }
          ],
          "pie": [
           {
            "automargin": true,
            "type": "pie"
           }
          ],
          "scatter": [
           {
            "fillpattern": {
             "fillmode": "overlay",
             "size": 10,
             "solidity": 0.2
            },
            "type": "scatter"
           }
          ],
          "scatter3d": [
           {
            "line": {
             "colorbar": {
              "outlinewidth": 0,
              "ticks": ""
             }
            },
            "marker": {
             "colorbar": {
              "outlinewidth": 0,
              "ticks": ""
             }
            },
            "type": "scatter3d"
           }
          ],
          "scattercarpet": [
           {
            "marker": {
             "colorbar": {
              "outlinewidth": 0,
              "ticks": ""
             }
            },
            "type": "scattercarpet"
           }
          ],
          "scattergeo": [
           {
            "marker": {
             "colorbar": {
              "outlinewidth": 0,
              "ticks": ""
             }
            },
            "type": "scattergeo"
           }
          ],
          "scattergl": [
           {
            "marker": {
             "colorbar": {
              "outlinewidth": 0,
              "ticks": ""
             }
            },
            "type": "scattergl"
           }
          ],
          "scattermapbox": [
           {
            "marker": {
             "colorbar": {
              "outlinewidth": 0,
              "ticks": ""
             }
            },
            "type": "scattermapbox"
           }
          ],
          "scatterpolar": [
           {
            "marker": {
             "colorbar": {
              "outlinewidth": 0,
              "ticks": ""
             }
            },
            "type": "scatterpolar"
           }
          ],
          "scatterpolargl": [
           {
            "marker": {
             "colorbar": {
              "outlinewidth": 0,
              "ticks": ""
             }
            },
            "type": "scatterpolargl"
           }
          ],
          "scatterternary": [
           {
            "marker": {
             "colorbar": {
              "outlinewidth": 0,
              "ticks": ""
             }
            },
            "type": "scatterternary"
           }
          ],
          "surface": [
           {
            "colorbar": {
             "outlinewidth": 0,
             "ticks": ""
            },
            "colorscale": [
             [
              0,
              "#0d0887"
             ],
             [
              0.1111111111111111,
              "#46039f"
             ],
             [
              0.2222222222222222,
              "#7201a8"
             ],
             [
              0.3333333333333333,
              "#9c179e"
             ],
             [
              0.4444444444444444,
              "#bd3786"
             ],
             [
              0.5555555555555556,
              "#d8576b"
             ],
             [
              0.6666666666666666,
              "#ed7953"
             ],
             [
              0.7777777777777778,
              "#fb9f3a"
             ],
             [
              0.8888888888888888,
              "#fdca26"
             ],
             [
              1,
              "#f0f921"
             ]
            ],
            "type": "surface"
           }
          ],
          "table": [
           {
            "cells": {
             "fill": {
              "color": "#EBF0F8"
             },
             "line": {
              "color": "white"
             }
            },
            "header": {
             "fill": {
              "color": "#C8D4E3"
             },
             "line": {
              "color": "white"
             }
            },
            "type": "table"
           }
          ]
         },
         "layout": {
          "annotationdefaults": {
           "arrowcolor": "#2a3f5f",
           "arrowhead": 0,
           "arrowwidth": 1
          },
          "autotypenumbers": "strict",
          "coloraxis": {
           "colorbar": {
            "outlinewidth": 0,
            "ticks": ""
           }
          },
          "colorscale": {
           "diverging": [
            [
             0,
             "#8e0152"
            ],
            [
             0.1,
             "#c51b7d"
            ],
            [
             0.2,
             "#de77ae"
            ],
            [
             0.3,
             "#f1b6da"
            ],
            [
             0.4,
             "#fde0ef"
            ],
            [
             0.5,
             "#f7f7f7"
            ],
            [
             0.6,
             "#e6f5d0"
            ],
            [
             0.7,
             "#b8e186"
            ],
            [
             0.8,
             "#7fbc41"
            ],
            [
             0.9,
             "#4d9221"
            ],
            [
             1,
             "#276419"
            ]
           ],
           "sequential": [
            [
             0,
             "#0d0887"
            ],
            [
             0.1111111111111111,
             "#46039f"
            ],
            [
             0.2222222222222222,
             "#7201a8"
            ],
            [
             0.3333333333333333,
             "#9c179e"
            ],
            [
             0.4444444444444444,
             "#bd3786"
            ],
            [
             0.5555555555555556,
             "#d8576b"
            ],
            [
             0.6666666666666666,
             "#ed7953"
            ],
            [
             0.7777777777777778,
             "#fb9f3a"
            ],
            [
             0.8888888888888888,
             "#fdca26"
            ],
            [
             1,
             "#f0f921"
            ]
           ],
           "sequentialminus": [
            [
             0,
             "#0d0887"
            ],
            [
             0.1111111111111111,
             "#46039f"
            ],
            [
             0.2222222222222222,
             "#7201a8"
            ],
            [
             0.3333333333333333,
             "#9c179e"
            ],
            [
             0.4444444444444444,
             "#bd3786"
            ],
            [
             0.5555555555555556,
             "#d8576b"
            ],
            [
             0.6666666666666666,
             "#ed7953"
            ],
            [
             0.7777777777777778,
             "#fb9f3a"
            ],
            [
             0.8888888888888888,
             "#fdca26"
            ],
            [
             1,
             "#f0f921"
            ]
           ]
          },
          "colorway": [
           "#636efa",
           "#EF553B",
           "#00cc96",
           "#ab63fa",
           "#FFA15A",
           "#19d3f3",
           "#FF6692",
           "#B6E880",
           "#FF97FF",
           "#FECB52"
          ],
          "font": {
           "color": "#2a3f5f"
          },
          "geo": {
           "bgcolor": "white",
           "lakecolor": "white",
           "landcolor": "#E5ECF6",
           "showlakes": true,
           "showland": true,
           "subunitcolor": "white"
          },
          "hoverlabel": {
           "align": "left"
          },
          "hovermode": "closest",
          "mapbox": {
           "style": "light"
          },
          "paper_bgcolor": "white",
          "plot_bgcolor": "#E5ECF6",
          "polar": {
           "angularaxis": {
            "gridcolor": "white",
            "linecolor": "white",
            "ticks": ""
           },
           "bgcolor": "#E5ECF6",
           "radialaxis": {
            "gridcolor": "white",
            "linecolor": "white",
            "ticks": ""
           }
          },
          "scene": {
           "xaxis": {
            "backgroundcolor": "#E5ECF6",
            "gridcolor": "white",
            "gridwidth": 2,
            "linecolor": "white",
            "showbackground": true,
            "ticks": "",
            "zerolinecolor": "white"
           },
           "yaxis": {
            "backgroundcolor": "#E5ECF6",
            "gridcolor": "white",
            "gridwidth": 2,
            "linecolor": "white",
            "showbackground": true,
            "ticks": "",
            "zerolinecolor": "white"
           },
           "zaxis": {
            "backgroundcolor": "#E5ECF6",
            "gridcolor": "white",
            "gridwidth": 2,
            "linecolor": "white",
            "showbackground": true,
            "ticks": "",
            "zerolinecolor": "white"
           }
          },
          "shapedefaults": {
           "line": {
            "color": "#2a3f5f"
           }
          },
          "ternary": {
           "aaxis": {
            "gridcolor": "white",
            "linecolor": "white",
            "ticks": ""
           },
           "baxis": {
            "gridcolor": "white",
            "linecolor": "white",
            "ticks": ""
           },
           "bgcolor": "#E5ECF6",
           "caxis": {
            "gridcolor": "white",
            "linecolor": "white",
            "ticks": ""
           }
          },
          "title": {
           "x": 0.05
          },
          "xaxis": {
           "automargin": true,
           "gridcolor": "white",
           "linecolor": "white",
           "ticks": "",
           "title": {
            "standoff": 15
           },
           "zerolinecolor": "white",
           "zerolinewidth": 2
          },
          "yaxis": {
           "automargin": true,
           "gridcolor": "white",
           "linecolor": "white",
           "ticks": "",
           "title": {
            "standoff": 15
           },
           "zerolinecolor": "white",
           "zerolinewidth": 2
          }
         }
        },
        "title": {
         "text": "Optimization History Plot"
        },
        "xaxis": {
         "title": {
          "text": "Trial"
         }
        },
        "yaxis": {
         "title": {
          "text": "Objective Value"
         }
        }
       }
      }
     },
     "metadata": {},
     "output_type": "display_data"
    },
    {
     "data": {
      "application/vnd.plotly.v1+json": {
       "config": {
        "plotlyServerURL": "https://plot.ly"
       },
       "data": [
        {
         "cliponaxis": false,
         "hovertemplate": [
          "gamma (FloatDistribution): 0.0036618069086412496<extra></extra>",
          "subsample (FloatDistribution): 0.004957903480989258<extra></extra>",
          "colsample_bytree (FloatDistribution): 0.015294781421345964<extra></extra>",
          "max_depth (IntDistribution): 0.0313985758570328<extra></extra>",
          "n_estimators (IntDistribution): 0.136925184235645<extra></extra>",
          "learning_rate (FloatDistribution): 0.8077617480963458<extra></extra>"
         ],
         "name": "Objective Value",
         "orientation": "h",
         "text": [
          "<0.01",
          "<0.01",
          "0.02",
          "0.03",
          "0.14",
          "0.81"
         ],
         "textposition": "outside",
         "type": "bar",
         "x": [
          0.0036618069086412496,
          0.004957903480989258,
          0.015294781421345964,
          0.0313985758570328,
          0.136925184235645,
          0.8077617480963458
         ],
         "y": [
          "gamma",
          "subsample",
          "colsample_bytree",
          "max_depth",
          "n_estimators",
          "learning_rate"
         ]
        }
       ],
       "layout": {
        "template": {
         "data": {
          "bar": [
           {
            "error_x": {
             "color": "#2a3f5f"
            },
            "error_y": {
             "color": "#2a3f5f"
            },
            "marker": {
             "line": {
              "color": "#E5ECF6",
              "width": 0.5
             },
             "pattern": {
              "fillmode": "overlay",
              "size": 10,
              "solidity": 0.2
             }
            },
            "type": "bar"
           }
          ],
          "barpolar": [
           {
            "marker": {
             "line": {
              "color": "#E5ECF6",
              "width": 0.5
             },
             "pattern": {
              "fillmode": "overlay",
              "size": 10,
              "solidity": 0.2
             }
            },
            "type": "barpolar"
           }
          ],
          "carpet": [
           {
            "aaxis": {
             "endlinecolor": "#2a3f5f",
             "gridcolor": "white",
             "linecolor": "white",
             "minorgridcolor": "white",
             "startlinecolor": "#2a3f5f"
            },
            "baxis": {
             "endlinecolor": "#2a3f5f",
             "gridcolor": "white",
             "linecolor": "white",
             "minorgridcolor": "white",
             "startlinecolor": "#2a3f5f"
            },
            "type": "carpet"
           }
          ],
          "choropleth": [
           {
            "colorbar": {
             "outlinewidth": 0,
             "ticks": ""
            },
            "type": "choropleth"
           }
          ],
          "contour": [
           {
            "colorbar": {
             "outlinewidth": 0,
             "ticks": ""
            },
            "colorscale": [
             [
              0,
              "#0d0887"
             ],
             [
              0.1111111111111111,
              "#46039f"
             ],
             [
              0.2222222222222222,
              "#7201a8"
             ],
             [
              0.3333333333333333,
              "#9c179e"
             ],
             [
              0.4444444444444444,
              "#bd3786"
             ],
             [
              0.5555555555555556,
              "#d8576b"
             ],
             [
              0.6666666666666666,
              "#ed7953"
             ],
             [
              0.7777777777777778,
              "#fb9f3a"
             ],
             [
              0.8888888888888888,
              "#fdca26"
             ],
             [
              1,
              "#f0f921"
             ]
            ],
            "type": "contour"
           }
          ],
          "contourcarpet": [
           {
            "colorbar": {
             "outlinewidth": 0,
             "ticks": ""
            },
            "type": "contourcarpet"
           }
          ],
          "heatmap": [
           {
            "colorbar": {
             "outlinewidth": 0,
             "ticks": ""
            },
            "colorscale": [
             [
              0,
              "#0d0887"
             ],
             [
              0.1111111111111111,
              "#46039f"
             ],
             [
              0.2222222222222222,
              "#7201a8"
             ],
             [
              0.3333333333333333,
              "#9c179e"
             ],
             [
              0.4444444444444444,
              "#bd3786"
             ],
             [
              0.5555555555555556,
              "#d8576b"
             ],
             [
              0.6666666666666666,
              "#ed7953"
             ],
             [
              0.7777777777777778,
              "#fb9f3a"
             ],
             [
              0.8888888888888888,
              "#fdca26"
             ],
             [
              1,
              "#f0f921"
             ]
            ],
            "type": "heatmap"
           }
          ],
          "heatmapgl": [
           {
            "colorbar": {
             "outlinewidth": 0,
             "ticks": ""
            },
            "colorscale": [
             [
              0,
              "#0d0887"
             ],
             [
              0.1111111111111111,
              "#46039f"
             ],
             [
              0.2222222222222222,
              "#7201a8"
             ],
             [
              0.3333333333333333,
              "#9c179e"
             ],
             [
              0.4444444444444444,
              "#bd3786"
             ],
             [
              0.5555555555555556,
              "#d8576b"
             ],
             [
              0.6666666666666666,
              "#ed7953"
             ],
             [
              0.7777777777777778,
              "#fb9f3a"
             ],
             [
              0.8888888888888888,
              "#fdca26"
             ],
             [
              1,
              "#f0f921"
             ]
            ],
            "type": "heatmapgl"
           }
          ],
          "histogram": [
           {
            "marker": {
             "pattern": {
              "fillmode": "overlay",
              "size": 10,
              "solidity": 0.2
             }
            },
            "type": "histogram"
           }
          ],
          "histogram2d": [
           {
            "colorbar": {
             "outlinewidth": 0,
             "ticks": ""
            },
            "colorscale": [
             [
              0,
              "#0d0887"
             ],
             [
              0.1111111111111111,
              "#46039f"
             ],
             [
              0.2222222222222222,
              "#7201a8"
             ],
             [
              0.3333333333333333,
              "#9c179e"
             ],
             [
              0.4444444444444444,
              "#bd3786"
             ],
             [
              0.5555555555555556,
              "#d8576b"
             ],
             [
              0.6666666666666666,
              "#ed7953"
             ],
             [
              0.7777777777777778,
              "#fb9f3a"
             ],
             [
              0.8888888888888888,
              "#fdca26"
             ],
             [
              1,
              "#f0f921"
             ]
            ],
            "type": "histogram2d"
           }
          ],
          "histogram2dcontour": [
           {
            "colorbar": {
             "outlinewidth": 0,
             "ticks": ""
            },
            "colorscale": [
             [
              0,
              "#0d0887"
             ],
             [
              0.1111111111111111,
              "#46039f"
             ],
             [
              0.2222222222222222,
              "#7201a8"
             ],
             [
              0.3333333333333333,
              "#9c179e"
             ],
             [
              0.4444444444444444,
              "#bd3786"
             ],
             [
              0.5555555555555556,
              "#d8576b"
             ],
             [
              0.6666666666666666,
              "#ed7953"
             ],
             [
              0.7777777777777778,
              "#fb9f3a"
             ],
             [
              0.8888888888888888,
              "#fdca26"
             ],
             [
              1,
              "#f0f921"
             ]
            ],
            "type": "histogram2dcontour"
           }
          ],
          "mesh3d": [
           {
            "colorbar": {
             "outlinewidth": 0,
             "ticks": ""
            },
            "type": "mesh3d"
           }
          ],
          "parcoords": [
           {
            "line": {
             "colorbar": {
              "outlinewidth": 0,
              "ticks": ""
             }
            },
            "type": "parcoords"
           }
          ],
          "pie": [
           {
            "automargin": true,
            "type": "pie"
           }
          ],
          "scatter": [
           {
            "fillpattern": {
             "fillmode": "overlay",
             "size": 10,
             "solidity": 0.2
            },
            "type": "scatter"
           }
          ],
          "scatter3d": [
           {
            "line": {
             "colorbar": {
              "outlinewidth": 0,
              "ticks": ""
             }
            },
            "marker": {
             "colorbar": {
              "outlinewidth": 0,
              "ticks": ""
             }
            },
            "type": "scatter3d"
           }
          ],
          "scattercarpet": [
           {
            "marker": {
             "colorbar": {
              "outlinewidth": 0,
              "ticks": ""
             }
            },
            "type": "scattercarpet"
           }
          ],
          "scattergeo": [
           {
            "marker": {
             "colorbar": {
              "outlinewidth": 0,
              "ticks": ""
             }
            },
            "type": "scattergeo"
           }
          ],
          "scattergl": [
           {
            "marker": {
             "colorbar": {
              "outlinewidth": 0,
              "ticks": ""
             }
            },
            "type": "scattergl"
           }
          ],
          "scattermapbox": [
           {
            "marker": {
             "colorbar": {
              "outlinewidth": 0,
              "ticks": ""
             }
            },
            "type": "scattermapbox"
           }
          ],
          "scatterpolar": [
           {
            "marker": {
             "colorbar": {
              "outlinewidth": 0,
              "ticks": ""
             }
            },
            "type": "scatterpolar"
           }
          ],
          "scatterpolargl": [
           {
            "marker": {
             "colorbar": {
              "outlinewidth": 0,
              "ticks": ""
             }
            },
            "type": "scatterpolargl"
           }
          ],
          "scatterternary": [
           {
            "marker": {
             "colorbar": {
              "outlinewidth": 0,
              "ticks": ""
             }
            },
            "type": "scatterternary"
           }
          ],
          "surface": [
           {
            "colorbar": {
             "outlinewidth": 0,
             "ticks": ""
            },
            "colorscale": [
             [
              0,
              "#0d0887"
             ],
             [
              0.1111111111111111,
              "#46039f"
             ],
             [
              0.2222222222222222,
              "#7201a8"
             ],
             [
              0.3333333333333333,
              "#9c179e"
             ],
             [
              0.4444444444444444,
              "#bd3786"
             ],
             [
              0.5555555555555556,
              "#d8576b"
             ],
             [
              0.6666666666666666,
              "#ed7953"
             ],
             [
              0.7777777777777778,
              "#fb9f3a"
             ],
             [
              0.8888888888888888,
              "#fdca26"
             ],
             [
              1,
              "#f0f921"
             ]
            ],
            "type": "surface"
           }
          ],
          "table": [
           {
            "cells": {
             "fill": {
              "color": "#EBF0F8"
             },
             "line": {
              "color": "white"
             }
            },
            "header": {
             "fill": {
              "color": "#C8D4E3"
             },
             "line": {
              "color": "white"
             }
            },
            "type": "table"
           }
          ]
         },
         "layout": {
          "annotationdefaults": {
           "arrowcolor": "#2a3f5f",
           "arrowhead": 0,
           "arrowwidth": 1
          },
          "autotypenumbers": "strict",
          "coloraxis": {
           "colorbar": {
            "outlinewidth": 0,
            "ticks": ""
           }
          },
          "colorscale": {
           "diverging": [
            [
             0,
             "#8e0152"
            ],
            [
             0.1,
             "#c51b7d"
            ],
            [
             0.2,
             "#de77ae"
            ],
            [
             0.3,
             "#f1b6da"
            ],
            [
             0.4,
             "#fde0ef"
            ],
            [
             0.5,
             "#f7f7f7"
            ],
            [
             0.6,
             "#e6f5d0"
            ],
            [
             0.7,
             "#b8e186"
            ],
            [
             0.8,
             "#7fbc41"
            ],
            [
             0.9,
             "#4d9221"
            ],
            [
             1,
             "#276419"
            ]
           ],
           "sequential": [
            [
             0,
             "#0d0887"
            ],
            [
             0.1111111111111111,
             "#46039f"
            ],
            [
             0.2222222222222222,
             "#7201a8"
            ],
            [
             0.3333333333333333,
             "#9c179e"
            ],
            [
             0.4444444444444444,
             "#bd3786"
            ],
            [
             0.5555555555555556,
             "#d8576b"
            ],
            [
             0.6666666666666666,
             "#ed7953"
            ],
            [
             0.7777777777777778,
             "#fb9f3a"
            ],
            [
             0.8888888888888888,
             "#fdca26"
            ],
            [
             1,
             "#f0f921"
            ]
           ],
           "sequentialminus": [
            [
             0,
             "#0d0887"
            ],
            [
             0.1111111111111111,
             "#46039f"
            ],
            [
             0.2222222222222222,
             "#7201a8"
            ],
            [
             0.3333333333333333,
             "#9c179e"
            ],
            [
             0.4444444444444444,
             "#bd3786"
            ],
            [
             0.5555555555555556,
             "#d8576b"
            ],
            [
             0.6666666666666666,
             "#ed7953"
            ],
            [
             0.7777777777777778,
             "#fb9f3a"
            ],
            [
             0.8888888888888888,
             "#fdca26"
            ],
            [
             1,
             "#f0f921"
            ]
           ]
          },
          "colorway": [
           "#636efa",
           "#EF553B",
           "#00cc96",
           "#ab63fa",
           "#FFA15A",
           "#19d3f3",
           "#FF6692",
           "#B6E880",
           "#FF97FF",
           "#FECB52"
          ],
          "font": {
           "color": "#2a3f5f"
          },
          "geo": {
           "bgcolor": "white",
           "lakecolor": "white",
           "landcolor": "#E5ECF6",
           "showlakes": true,
           "showland": true,
           "subunitcolor": "white"
          },
          "hoverlabel": {
           "align": "left"
          },
          "hovermode": "closest",
          "mapbox": {
           "style": "light"
          },
          "paper_bgcolor": "white",
          "plot_bgcolor": "#E5ECF6",
          "polar": {
           "angularaxis": {
            "gridcolor": "white",
            "linecolor": "white",
            "ticks": ""
           },
           "bgcolor": "#E5ECF6",
           "radialaxis": {
            "gridcolor": "white",
            "linecolor": "white",
            "ticks": ""
           }
          },
          "scene": {
           "xaxis": {
            "backgroundcolor": "#E5ECF6",
            "gridcolor": "white",
            "gridwidth": 2,
            "linecolor": "white",
            "showbackground": true,
            "ticks": "",
            "zerolinecolor": "white"
           },
           "yaxis": {
            "backgroundcolor": "#E5ECF6",
            "gridcolor": "white",
            "gridwidth": 2,
            "linecolor": "white",
            "showbackground": true,
            "ticks": "",
            "zerolinecolor": "white"
           },
           "zaxis": {
            "backgroundcolor": "#E5ECF6",
            "gridcolor": "white",
            "gridwidth": 2,
            "linecolor": "white",
            "showbackground": true,
            "ticks": "",
            "zerolinecolor": "white"
           }
          },
          "shapedefaults": {
           "line": {
            "color": "#2a3f5f"
           }
          },
          "ternary": {
           "aaxis": {
            "gridcolor": "white",
            "linecolor": "white",
            "ticks": ""
           },
           "baxis": {
            "gridcolor": "white",
            "linecolor": "white",
            "ticks": ""
           },
           "bgcolor": "#E5ECF6",
           "caxis": {
            "gridcolor": "white",
            "linecolor": "white",
            "ticks": ""
           }
          },
          "title": {
           "x": 0.05
          },
          "xaxis": {
           "automargin": true,
           "gridcolor": "white",
           "linecolor": "white",
           "ticks": "",
           "title": {
            "standoff": 15
           },
           "zerolinecolor": "white",
           "zerolinewidth": 2
          },
          "yaxis": {
           "automargin": true,
           "gridcolor": "white",
           "linecolor": "white",
           "ticks": "",
           "title": {
            "standoff": 15
           },
           "zerolinecolor": "white",
           "zerolinewidth": 2
          }
         }
        },
        "title": {
         "text": "Hyperparameter Importances"
        },
        "xaxis": {
         "title": {
          "text": "Hyperparameter Importance"
         }
        },
        "yaxis": {
         "title": {
          "text": "Hyperparameter"
         }
        }
       }
      }
     },
     "metadata": {},
     "output_type": "display_data"
    }
   ],
   "source": [
    "import optuna.visualization as vis\n",
    "\n",
    "vis.plot_optimization_history(optuna_study).show()\n",
    "vis.plot_param_importances(optuna_study).show()"
   ]
  },
  {
   "cell_type": "code",
   "execution_count": 18,
   "id": "c01378b5",
   "metadata": {},
   "outputs": [],
   "source": [
    "import os\n",
    "\n",
    "# Ensure the directory exists\n",
    "os.makedirs('models', exist_ok=True)\n",
    "\n",
    "# Save the model using native XGBoost method\n",
    "xgb_optuna.save_model('models/xgbclassifier.json')"
   ]
  }
 ],
 "metadata": {
  "kernelspec": {
   "display_name": "base",
   "language": "python",
   "name": "python3"
  },
  "language_info": {
   "codemirror_mode": {
    "name": "ipython",
    "version": 3
   },
   "file_extension": ".py",
   "mimetype": "text/x-python",
   "name": "python",
   "nbconvert_exporter": "python",
   "pygments_lexer": "ipython3",
   "version": "3.12.7"
  }
 },
 "nbformat": 4,
 "nbformat_minor": 5
}
