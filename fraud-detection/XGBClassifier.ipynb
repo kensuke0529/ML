{
 "cells": [
  {
   "cell_type": "code",
   "execution_count": null,
   "id": "059f1f86",
   "metadata": {},
   "outputs": [],
   "source": [
    "import pandas as pd \n",
    "import matplotlib.pyplot as plt\n",
    "import seaborn as sns\n",
    "\n",
    "df = pd.read_csv('data_path')"
   ]
  },
  {
   "cell_type": "code",
   "execution_count": 52,
   "id": "79671207",
   "metadata": {},
   "outputs": [
    {
     "name": "stdout",
     "output_type": "stream",
     "text": [
      "<class 'pandas.core.frame.DataFrame'>\n",
      "RangeIndex: 284807 entries, 0 to 284806\n",
      "Data columns (total 31 columns):\n",
      " #   Column  Non-Null Count   Dtype  \n",
      "---  ------  --------------   -----  \n",
      " 0   Time    284807 non-null  float64\n",
      " 1   V1      284807 non-null  float64\n",
      " 2   V2      284807 non-null  float64\n",
      " 3   V3      284807 non-null  float64\n",
      " 4   V4      284807 non-null  float64\n",
      " 5   V5      284807 non-null  float64\n",
      " 6   V6      284807 non-null  float64\n",
      " 7   V7      284807 non-null  float64\n",
      " 8   V8      284807 non-null  float64\n",
      " 9   V9      284807 non-null  float64\n",
      " 10  V10     284807 non-null  float64\n",
      " 11  V11     284807 non-null  float64\n",
      " 12  V12     284807 non-null  float64\n",
      " 13  V13     284807 non-null  float64\n",
      " 14  V14     284807 non-null  float64\n",
      " 15  V15     284807 non-null  float64\n",
      " 16  V16     284807 non-null  float64\n",
      " 17  V17     284807 non-null  float64\n",
      " 18  V18     284807 non-null  float64\n",
      " 19  V19     284807 non-null  float64\n",
      " 20  V20     284807 non-null  float64\n",
      " 21  V21     284807 non-null  float64\n",
      " 22  V22     284807 non-null  float64\n",
      " 23  V23     284807 non-null  float64\n",
      " 24  V24     284807 non-null  float64\n",
      " 25  V25     284807 non-null  float64\n",
      " 26  V26     284807 non-null  float64\n",
      " 27  V27     284807 non-null  float64\n",
      " 28  V28     284807 non-null  float64\n",
      " 29  Amount  284807 non-null  float64\n",
      " 30  Class   284807 non-null  int64  \n",
      "dtypes: float64(30), int64(1)\n",
      "memory usage: 67.4 MB\n"
     ]
    }
   ],
   "source": [
    "df.info()"
   ]
  },
  {
   "cell_type": "code",
   "execution_count": 53,
   "id": "637ed942",
   "metadata": {},
   "outputs": [
    {
     "data": {
      "text/html": [
       "<div>\n",
       "<style scoped>\n",
       "    .dataframe tbody tr th:only-of-type {\n",
       "        vertical-align: middle;\n",
       "    }\n",
       "\n",
       "    .dataframe tbody tr th {\n",
       "        vertical-align: top;\n",
       "    }\n",
       "\n",
       "    .dataframe thead th {\n",
       "        text-align: right;\n",
       "    }\n",
       "</style>\n",
       "<table border=\"1\" class=\"dataframe\">\n",
       "  <thead>\n",
       "    <tr style=\"text-align: right;\">\n",
       "      <th></th>\n",
       "      <th>Time</th>\n",
       "      <th>V1</th>\n",
       "      <th>V2</th>\n",
       "      <th>V3</th>\n",
       "      <th>V4</th>\n",
       "      <th>V5</th>\n",
       "      <th>V6</th>\n",
       "      <th>V7</th>\n",
       "      <th>V8</th>\n",
       "      <th>V9</th>\n",
       "      <th>...</th>\n",
       "      <th>V21</th>\n",
       "      <th>V22</th>\n",
       "      <th>V23</th>\n",
       "      <th>V24</th>\n",
       "      <th>V25</th>\n",
       "      <th>V26</th>\n",
       "      <th>V27</th>\n",
       "      <th>V28</th>\n",
       "      <th>Amount</th>\n",
       "      <th>Class</th>\n",
       "    </tr>\n",
       "  </thead>\n",
       "  <tbody>\n",
       "    <tr>\n",
       "      <th>0</th>\n",
       "      <td>0.0</td>\n",
       "      <td>-1.359807</td>\n",
       "      <td>-0.072781</td>\n",
       "      <td>2.536347</td>\n",
       "      <td>1.378155</td>\n",
       "      <td>-0.338321</td>\n",
       "      <td>0.462388</td>\n",
       "      <td>0.239599</td>\n",
       "      <td>0.098698</td>\n",
       "      <td>0.363787</td>\n",
       "      <td>...</td>\n",
       "      <td>-0.018307</td>\n",
       "      <td>0.277838</td>\n",
       "      <td>-0.110474</td>\n",
       "      <td>0.066928</td>\n",
       "      <td>0.128539</td>\n",
       "      <td>-0.189115</td>\n",
       "      <td>0.133558</td>\n",
       "      <td>-0.021053</td>\n",
       "      <td>149.62</td>\n",
       "      <td>0</td>\n",
       "    </tr>\n",
       "    <tr>\n",
       "      <th>1</th>\n",
       "      <td>0.0</td>\n",
       "      <td>1.191857</td>\n",
       "      <td>0.266151</td>\n",
       "      <td>0.166480</td>\n",
       "      <td>0.448154</td>\n",
       "      <td>0.060018</td>\n",
       "      <td>-0.082361</td>\n",
       "      <td>-0.078803</td>\n",
       "      <td>0.085102</td>\n",
       "      <td>-0.255425</td>\n",
       "      <td>...</td>\n",
       "      <td>-0.225775</td>\n",
       "      <td>-0.638672</td>\n",
       "      <td>0.101288</td>\n",
       "      <td>-0.339846</td>\n",
       "      <td>0.167170</td>\n",
       "      <td>0.125895</td>\n",
       "      <td>-0.008983</td>\n",
       "      <td>0.014724</td>\n",
       "      <td>2.69</td>\n",
       "      <td>0</td>\n",
       "    </tr>\n",
       "    <tr>\n",
       "      <th>2</th>\n",
       "      <td>1.0</td>\n",
       "      <td>-1.358354</td>\n",
       "      <td>-1.340163</td>\n",
       "      <td>1.773209</td>\n",
       "      <td>0.379780</td>\n",
       "      <td>-0.503198</td>\n",
       "      <td>1.800499</td>\n",
       "      <td>0.791461</td>\n",
       "      <td>0.247676</td>\n",
       "      <td>-1.514654</td>\n",
       "      <td>...</td>\n",
       "      <td>0.247998</td>\n",
       "      <td>0.771679</td>\n",
       "      <td>0.909412</td>\n",
       "      <td>-0.689281</td>\n",
       "      <td>-0.327642</td>\n",
       "      <td>-0.139097</td>\n",
       "      <td>-0.055353</td>\n",
       "      <td>-0.059752</td>\n",
       "      <td>378.66</td>\n",
       "      <td>0</td>\n",
       "    </tr>\n",
       "    <tr>\n",
       "      <th>3</th>\n",
       "      <td>1.0</td>\n",
       "      <td>-0.966272</td>\n",
       "      <td>-0.185226</td>\n",
       "      <td>1.792993</td>\n",
       "      <td>-0.863291</td>\n",
       "      <td>-0.010309</td>\n",
       "      <td>1.247203</td>\n",
       "      <td>0.237609</td>\n",
       "      <td>0.377436</td>\n",
       "      <td>-1.387024</td>\n",
       "      <td>...</td>\n",
       "      <td>-0.108300</td>\n",
       "      <td>0.005274</td>\n",
       "      <td>-0.190321</td>\n",
       "      <td>-1.175575</td>\n",
       "      <td>0.647376</td>\n",
       "      <td>-0.221929</td>\n",
       "      <td>0.062723</td>\n",
       "      <td>0.061458</td>\n",
       "      <td>123.50</td>\n",
       "      <td>0</td>\n",
       "    </tr>\n",
       "    <tr>\n",
       "      <th>4</th>\n",
       "      <td>2.0</td>\n",
       "      <td>-1.158233</td>\n",
       "      <td>0.877737</td>\n",
       "      <td>1.548718</td>\n",
       "      <td>0.403034</td>\n",
       "      <td>-0.407193</td>\n",
       "      <td>0.095921</td>\n",
       "      <td>0.592941</td>\n",
       "      <td>-0.270533</td>\n",
       "      <td>0.817739</td>\n",
       "      <td>...</td>\n",
       "      <td>-0.009431</td>\n",
       "      <td>0.798278</td>\n",
       "      <td>-0.137458</td>\n",
       "      <td>0.141267</td>\n",
       "      <td>-0.206010</td>\n",
       "      <td>0.502292</td>\n",
       "      <td>0.219422</td>\n",
       "      <td>0.215153</td>\n",
       "      <td>69.99</td>\n",
       "      <td>0</td>\n",
       "    </tr>\n",
       "  </tbody>\n",
       "</table>\n",
       "<p>5 rows × 31 columns</p>\n",
       "</div>"
      ],
      "text/plain": [
       "   Time        V1        V2        V3        V4        V5        V6        V7  \\\n",
       "0   0.0 -1.359807 -0.072781  2.536347  1.378155 -0.338321  0.462388  0.239599   \n",
       "1   0.0  1.191857  0.266151  0.166480  0.448154  0.060018 -0.082361 -0.078803   \n",
       "2   1.0 -1.358354 -1.340163  1.773209  0.379780 -0.503198  1.800499  0.791461   \n",
       "3   1.0 -0.966272 -0.185226  1.792993 -0.863291 -0.010309  1.247203  0.237609   \n",
       "4   2.0 -1.158233  0.877737  1.548718  0.403034 -0.407193  0.095921  0.592941   \n",
       "\n",
       "         V8        V9  ...       V21       V22       V23       V24       V25  \\\n",
       "0  0.098698  0.363787  ... -0.018307  0.277838 -0.110474  0.066928  0.128539   \n",
       "1  0.085102 -0.255425  ... -0.225775 -0.638672  0.101288 -0.339846  0.167170   \n",
       "2  0.247676 -1.514654  ...  0.247998  0.771679  0.909412 -0.689281 -0.327642   \n",
       "3  0.377436 -1.387024  ... -0.108300  0.005274 -0.190321 -1.175575  0.647376   \n",
       "4 -0.270533  0.817739  ... -0.009431  0.798278 -0.137458  0.141267 -0.206010   \n",
       "\n",
       "        V26       V27       V28  Amount  Class  \n",
       "0 -0.189115  0.133558 -0.021053  149.62      0  \n",
       "1  0.125895 -0.008983  0.014724    2.69      0  \n",
       "2 -0.139097 -0.055353 -0.059752  378.66      0  \n",
       "3 -0.221929  0.062723  0.061458  123.50      0  \n",
       "4  0.502292  0.219422  0.215153   69.99      0  \n",
       "\n",
       "[5 rows x 31 columns]"
      ]
     },
     "execution_count": 53,
     "metadata": {},
     "output_type": "execute_result"
    }
   ],
   "source": [
    "df.head()"
   ]
  },
  {
   "cell_type": "code",
   "execution_count": 54,
   "id": "77798bae",
   "metadata": {},
   "outputs": [
    {
     "data": {
      "image/png": "[encoded data removed]",
      "text/plain": [
       "<Figure size 640x480 with 1 Axes>"
      ]
     },
     "metadata": {},
     "output_type": "display_data"
    }
   ],
   "source": [
    "sns.histplot(df['Amount'], bins=100)\n",
    "plt.show()"
   ]
  },
  {
   "cell_type": "code",
   "execution_count": 55,
   "id": "b11185f4",
   "metadata": {},
   "outputs": [
    {
     "data": {
      "image/png": "[encoded data removed]",
      "text/plain": [
       "<Figure size 640x480 with 1 Axes>"
      ]
     },
     "metadata": {},
     "output_type": "display_data"
    }
   ],
   "source": [
    "sns.histplot(df['Time'], bins=100)\n",
    "plt.show()"
   ]
  },
  {
   "cell_type": "code",
   "execution_count": 56,
   "id": "0fd38692",
   "metadata": {},
   "outputs": [
    {
     "data": {
      "image/png": "[encoded data removed]",
      "text/plain": [
       "<Figure size 640x480 with 1 Axes>"
      ]
     },
     "metadata": {},
     "output_type": "display_data"
    }
   ],
   "source": [
    "# log Amount \n",
    "import numpy as np\n",
    "df['Amount_log'] = np.log1p(df['Amount'])\n",
    "sns.histplot(df['Amount_log'], bins=100)\n",
    "plt.show()"
   ]
  },
  {
   "cell_type": "code",
   "execution_count": 57,
   "id": "c6fd00f1",
   "metadata": {},
   "outputs": [],
   "source": [
    "count = df['Class'].value_counts() / len(df) * 100\n",
    "ratio_positive = count[0] / count[1]"
   ]
  },
  {
   "cell_type": "code",
   "execution_count": 58,
   "id": "c39da266",
   "metadata": {},
   "outputs": [
    {
     "data": {
      "text/html": [
       "<div>\n",
       "<style scoped>\n",
       "    .dataframe tbody tr th:only-of-type {\n",
       "        vertical-align: middle;\n",
       "    }\n",
       "\n",
       "    .dataframe tbody tr th {\n",
       "        vertical-align: top;\n",
       "    }\n",
       "\n",
       "    .dataframe thead th {\n",
       "        text-align: right;\n",
       "    }\n",
       "</style>\n",
       "<table border=\"1\" class=\"dataframe\">\n",
       "  <thead>\n",
       "    <tr style=\"text-align: right;\">\n",
       "      <th></th>\n",
       "      <th>Time</th>\n",
       "      <th>V1</th>\n",
       "      <th>V2</th>\n",
       "      <th>V3</th>\n",
       "      <th>V4</th>\n",
       "      <th>V5</th>\n",
       "      <th>V6</th>\n",
       "      <th>V7</th>\n",
       "      <th>V8</th>\n",
       "      <th>V9</th>\n",
       "      <th>...</th>\n",
       "      <th>V21</th>\n",
       "      <th>V22</th>\n",
       "      <th>V23</th>\n",
       "      <th>V24</th>\n",
       "      <th>V25</th>\n",
       "      <th>V26</th>\n",
       "      <th>V27</th>\n",
       "      <th>V28</th>\n",
       "      <th>Class</th>\n",
       "      <th>Amount_log</th>\n",
       "    </tr>\n",
       "  </thead>\n",
       "  <tbody>\n",
       "    <tr>\n",
       "      <th>0</th>\n",
       "      <td>0.0</td>\n",
       "      <td>-1.359807</td>\n",
       "      <td>-0.072781</td>\n",
       "      <td>2.536347</td>\n",
       "      <td>1.378155</td>\n",
       "      <td>-0.338321</td>\n",
       "      <td>0.462388</td>\n",
       "      <td>0.239599</td>\n",
       "      <td>0.098698</td>\n",
       "      <td>0.363787</td>\n",
       "      <td>...</td>\n",
       "      <td>-0.018307</td>\n",
       "      <td>0.277838</td>\n",
       "      <td>-0.110474</td>\n",
       "      <td>0.066928</td>\n",
       "      <td>0.128539</td>\n",
       "      <td>-0.189115</td>\n",
       "      <td>0.133558</td>\n",
       "      <td>-0.021053</td>\n",
       "      <td>0</td>\n",
       "      <td>5.014760</td>\n",
       "    </tr>\n",
       "    <tr>\n",
       "      <th>1</th>\n",
       "      <td>0.0</td>\n",
       "      <td>1.191857</td>\n",
       "      <td>0.266151</td>\n",
       "      <td>0.166480</td>\n",
       "      <td>0.448154</td>\n",
       "      <td>0.060018</td>\n",
       "      <td>-0.082361</td>\n",
       "      <td>-0.078803</td>\n",
       "      <td>0.085102</td>\n",
       "      <td>-0.255425</td>\n",
       "      <td>...</td>\n",
       "      <td>-0.225775</td>\n",
       "      <td>-0.638672</td>\n",
       "      <td>0.101288</td>\n",
       "      <td>-0.339846</td>\n",
       "      <td>0.167170</td>\n",
       "      <td>0.125895</td>\n",
       "      <td>-0.008983</td>\n",
       "      <td>0.014724</td>\n",
       "      <td>0</td>\n",
       "      <td>1.305626</td>\n",
       "    </tr>\n",
       "    <tr>\n",
       "      <th>2</th>\n",
       "      <td>1.0</td>\n",
       "      <td>-1.358354</td>\n",
       "      <td>-1.340163</td>\n",
       "      <td>1.773209</td>\n",
       "      <td>0.379780</td>\n",
       "      <td>-0.503198</td>\n",
       "      <td>1.800499</td>\n",
       "      <td>0.791461</td>\n",
       "      <td>0.247676</td>\n",
       "      <td>-1.514654</td>\n",
       "      <td>...</td>\n",
       "      <td>0.247998</td>\n",
       "      <td>0.771679</td>\n",
       "      <td>0.909412</td>\n",
       "      <td>-0.689281</td>\n",
       "      <td>-0.327642</td>\n",
       "      <td>-0.139097</td>\n",
       "      <td>-0.055353</td>\n",
       "      <td>-0.059752</td>\n",
       "      <td>0</td>\n",
       "      <td>5.939276</td>\n",
       "    </tr>\n",
       "    <tr>\n",
       "      <th>3</th>\n",
       "      <td>1.0</td>\n",
       "      <td>-0.966272</td>\n",
       "      <td>-0.185226</td>\n",
       "      <td>1.792993</td>\n",
       "      <td>-0.863291</td>\n",
       "      <td>-0.010309</td>\n",
       "      <td>1.247203</td>\n",
       "      <td>0.237609</td>\n",
       "      <td>0.377436</td>\n",
       "      <td>-1.387024</td>\n",
       "      <td>...</td>\n",
       "      <td>-0.108300</td>\n",
       "      <td>0.005274</td>\n",
       "      <td>-0.190321</td>\n",
       "      <td>-1.175575</td>\n",
       "      <td>0.647376</td>\n",
       "      <td>-0.221929</td>\n",
       "      <td>0.062723</td>\n",
       "      <td>0.061458</td>\n",
       "      <td>0</td>\n",
       "      <td>4.824306</td>\n",
       "    </tr>\n",
       "    <tr>\n",
       "      <th>4</th>\n",
       "      <td>2.0</td>\n",
       "      <td>-1.158233</td>\n",
       "      <td>0.877737</td>\n",
       "      <td>1.548718</td>\n",
       "      <td>0.403034</td>\n",
       "      <td>-0.407193</td>\n",
       "      <td>0.095921</td>\n",
       "      <td>0.592941</td>\n",
       "      <td>-0.270533</td>\n",
       "      <td>0.817739</td>\n",
       "      <td>...</td>\n",
       "      <td>-0.009431</td>\n",
       "      <td>0.798278</td>\n",
       "      <td>-0.137458</td>\n",
       "      <td>0.141267</td>\n",
       "      <td>-0.206010</td>\n",
       "      <td>0.502292</td>\n",
       "      <td>0.219422</td>\n",
       "      <td>0.215153</td>\n",
       "      <td>0</td>\n",
       "      <td>4.262539</td>\n",
       "    </tr>\n",
       "  </tbody>\n",
       "</table>\n",
       "<p>5 rows × 31 columns</p>\n",
       "</div>"
      ],
      "text/plain": [
       "   Time        V1        V2        V3        V4        V5        V6        V7  \\\n",
       "0   0.0 -1.359807 -0.072781  2.536347  1.378155 -0.338321  0.462388  0.239599   \n",
       "1   0.0  1.191857  0.266151  0.166480  0.448154  0.060018 -0.082361 -0.078803   \n",
       "2   1.0 -1.358354 -1.340163  1.773209  0.379780 -0.503198  1.800499  0.791461   \n",
       "3   1.0 -0.966272 -0.185226  1.792993 -0.863291 -0.010309  1.247203  0.237609   \n",
       "4   2.0 -1.158233  0.877737  1.548718  0.403034 -0.407193  0.095921  0.592941   \n",
       "\n",
       "         V8        V9  ...       V21       V22       V23       V24       V25  \\\n",
       "0  0.098698  0.363787  ... -0.018307  0.277838 -0.110474  0.066928  0.128539   \n",
       "1  0.085102 -0.255425  ... -0.225775 -0.638672  0.101288 -0.339846  0.167170   \n",
       "2  0.247676 -1.514654  ...  0.247998  0.771679  0.909412 -0.689281 -0.327642   \n",
       "3  0.377436 -1.387024  ... -0.108300  0.005274 -0.190321 -1.175575  0.647376   \n",
       "4 -0.270533  0.817739  ... -0.009431  0.798278 -0.137458  0.141267 -0.206010   \n",
       "\n",
       "        V26       V27       V28  Class  Amount_log  \n",
       "0 -0.189115  0.133558 -0.021053      0    5.014760  \n",
       "1  0.125895 -0.008983  0.014724      0    1.305626  \n",
       "2 -0.139097 -0.055353 -0.059752      0    5.939276  \n",
       "3 -0.221929  0.062723  0.061458      0    4.824306  \n",
       "4  0.502292  0.219422  0.215153      0    4.262539  \n",
       "\n",
       "[5 rows x 31 columns]"
      ]
     },
     "execution_count": 58,
     "metadata": {},
     "output_type": "execute_result"
    }
   ],
   "source": [
    "df = df.drop(columns='Amount')\n",
    "df.head()"
   ]
  },
  {
   "cell_type": "code",
   "execution_count": 59,
   "id": "18867e5c",
   "metadata": {},
   "outputs": [],
   "source": [
    "from sklearn.model_selection import train_test_split\n",
    "from xgboost import XGBClassifier\n",
    "\n",
    "X = df.drop(columns='Class', axis=1)\n",
    "y = df['Class']\n",
    "\n",
    "X_train, X_test, y_train, y_test = train_test_split(\n",
    "    X, y, test_size=0.2, random_state=42)\n",
    "\n",
    "xgb = XGBClassifier(scale_pos_weight=ratio_positive)\n",
    "xgb.fit(X_train, y_train)\n",
    "\n",
    "y_pred = xgb.predict(X_test)"
   ]
  },
  {
   "cell_type": "code",
   "execution_count": 60,
   "id": "91bde024",
   "metadata": {},
   "outputs": [
    {
     "name": "stdout",
     "output_type": "stream",
     "text": [
      "[[56863     1]\n",
      " [   19    79]]\n",
      "              precision    recall  f1-score   support\n",
      "\n",
      "           0       1.00      1.00      1.00     56864\n",
      "           1       0.99      0.81      0.89        98\n",
      "\n",
      "    accuracy                           1.00     56962\n",
      "   macro avg       0.99      0.90      0.94     56962\n",
      "weighted avg       1.00      1.00      1.00     56962\n",
      "\n"
     ]
    }
   ],
   "source": [
    "from sklearn.metrics import classification_report, confusion_matrix\n",
    "\n",
    "print(confusion_matrix(y_test, y_pred))\n",
    "print(classification_report(y_test, y_pred))"
   ]
  },
  {
   "cell_type": "code",
   "execution_count": 61,
   "id": "7bebdf24",
   "metadata": {},
   "outputs": [
    {
     "name": "stdout",
     "output_type": "stream",
     "text": [
      "XGBClassifier(base_score=None, booster=None, callbacks=None,\n",
      "              colsample_bylevel=None, colsample_bynode=None,\n",
      "              colsample_bytree=None, device=None, early_stopping_rounds=None,\n",
      "              enable_categorical=False, eval_metric=None, feature_types=None,\n",
      "              feature_weights=None, gamma=None, grow_policy=None,\n",
      "              importance_type=None, interaction_constraints=None,\n",
      "              learning_rate=0.3, max_bin=None, max_cat_threshold=None,\n",
      "              max_cat_to_onehot=None, max_delta_step=None, max_depth=7,\n",
      "              max_leaves=None, min_child_weight=None, missing=nan,\n",
      "              monotone_constraints=None, multi_strategy=None, n_estimators=100,\n",
      "              n_jobs=None, num_parallel_tree=None, ...)\n"
     ]
    }
   ],
   "source": [
    "from sklearn.model_selection import GridSearchCV\n",
    "\n",
    "param_grid = {\n",
    "    'n_estimators' : [100],\n",
    "    'max_depth' : [3,5,7],\n",
    "    'learning_rate' : [0.01,0.1,0.3]\n",
    "    # 'min_child_weight' : [1,2,3]\n",
    "}\n",
    "\n",
    "grid = GridSearchCV(xgb, param_grid=param_grid, scoring='average_precision')\n",
    "grid.fit(X_train, y_train)\n",
    "\n",
    "print(grid.best_estimator_)"
   ]
  },
  {
   "cell_type": "code",
   "execution_count": 62,
   "id": "7a17bbd4",
   "metadata": {},
   "outputs": [
    {
     "name": "stdout",
     "output_type": "stream",
     "text": [
      "[[56860     4]\n",
      " [   18    80]]\n",
      "              precision    recall  f1-score   support\n",
      "\n",
      "           0       1.00      1.00      1.00     56864\n",
      "           1       0.95      0.82      0.88        98\n",
      "\n",
      "    accuracy                           1.00     56962\n",
      "   macro avg       0.98      0.91      0.94     56962\n",
      "weighted avg       1.00      1.00      1.00     56962\n",
      "\n"
     ]
    }
   ],
   "source": [
    "y_pred_grid = grid.predict(X_test)\n",
    "\n",
    "print(confusion_matrix(y_test, y_pred_grid))\n",
    "print(classification_report(y_test, y_pred_grid))"
   ]
  },
  {
   "cell_type": "code",
   "execution_count": 63,
   "id": "6bbc85a4",
   "metadata": {},
   "outputs": [
    {
     "name": "stdout",
     "output_type": "stream",
     "text": [
      "0.9857827627393106\n"
     ]
    },
    {
     "data": {
      "image/png": "[encoded data removed]",
      "text/plain": [
       "<Figure size 640x480 with 1 Axes>"
      ]
     },
     "metadata": {},
     "output_type": "display_data"
    }
   ],
   "source": [
    "from sklearn.metrics import roc_curve, roc_auc_score\n",
    "\n",
    "y_scores = grid.predict_proba(X_test)[:, 1]\n",
    "fpr, tpr, thresholds = roc_curve(y_test, y_scores)\n",
    "\n",
    "roc_auc = roc_auc_score(y_test, y_scores)\n",
    "print(roc_auc)\n",
    "\n",
    "\n",
    "plt.plot(fpr, tpr,label=f'ROC Curve (AUC = {roc_auc:.4f})')\n",
    "plt.xlabel('False Positive Rate')\n",
    "plt.ylabel('True Positive Rate')\n",
    "plt.plot([0, 1], [0, 1], \n",
    "         linestyle='--', label='Random (AUC = 0.5)')\n",
    "plt.title('Receiver Operating Characteristic (ROC) Curve')\n",
    "plt.legend(loc=\"lower right\")\n",
    "plt.grid(True)\n",
    "plt.tight_layout()\n",
    "plt.show()"
   ]
  },
  {
   "cell_type": "code",
   "execution_count": 85,
   "id": "ed0146c8",
   "metadata": {},
   "outputs": [
    {
     "name": "stderr",
     "output_type": "stream",
     "text": [
      "[I 2025-06-27 05:23:26,197] A new study created in memory with name: no-name-e9c4a7c8-1760-4eb2-bf18-96447dc068bc\n",
      "[I 2025-06-27 05:23:26,850] Trial 0 finished with value: 0.8556149732620321 and parameters: {'n_estimators': 68, 'max_depth': 5, 'learning_rate': 0.16370888935511732, 'subsample': 0.7460655664025064, 'colsample_bytree': 0.9539568496697972, 'gamma': 2.8516832334620634}. Best is trial 0 with value: 0.8556149732620321.\n",
      "[I 2025-06-27 05:23:27,508] Trial 1 finished with value: 0.8729281767955801 and parameters: {'n_estimators': 70, 'max_depth': 6, 'learning_rate': 0.2855154135995919, 'subsample': 0.5808723690498167, 'colsample_bytree': 0.646157215865254, 'gamma': 4.135465356089732}. Best is trial 1 with value: 0.8729281767955801.\n",
      "[I 2025-06-27 05:23:28,679] Trial 2 finished with value: 0.8729281767955801 and parameters: {'n_estimators': 144, 'max_depth': 7, 'learning_rate': 0.18956127356729133, 'subsample': 0.5853502547186267, 'colsample_bytree': 0.8536388586419384, 'gamma': 2.501620701313103}. Best is trial 1 with value: 0.8729281767955801.\n",
      "[I 2025-06-27 05:23:30,445] Trial 3 finished with value: 0.8839779005524862 and parameters: {'n_estimators': 281, 'max_depth': 4, 'learning_rate': 0.273992004642033, 'subsample': 0.6399400662515606, 'colsample_bytree': 0.8877404331294516, 'gamma': 0.08532065364856956}. Best is trial 3 with value: 0.8839779005524862.\n",
      "[I 2025-06-27 05:23:30,958] Trial 4 finished with value: 0.845360824742268 and parameters: {'n_estimators': 66, 'max_depth': 4, 'learning_rate': 0.22856212922644473, 'subsample': 0.5219338114973744, 'colsample_bytree': 0.8775466804075005, 'gamma': 4.6688139120718075}. Best is trial 3 with value: 0.8839779005524862.\n",
      "[I 2025-06-27 05:23:32,221] Trial 5 finished with value: 0.8497409326424871 and parameters: {'n_estimators': 196, 'max_depth': 5, 'learning_rate': 0.02572647264880585, 'subsample': 0.6164327112934054, 'colsample_bytree': 0.6519981286234873, 'gamma': 0.6931999928426064}. Best is trial 3 with value: 0.8839779005524862.\n",
      "[I 2025-06-27 05:23:32,734] Trial 6 finished with value: 0.7148936170212766 and parameters: {'n_estimators': 87, 'max_depth': 3, 'learning_rate': 0.06089058619483215, 'subsample': 0.6864792597244872, 'colsample_bytree': 0.7255356842707446, 'gamma': 1.6786975536109656}. Best is trial 3 with value: 0.8839779005524862.\n",
      "[I 2025-06-27 05:23:34,206] Trial 7 finished with value: 0.8777777777777778 and parameters: {'n_estimators': 246, 'max_depth': 5, 'learning_rate': 0.19709294914888068, 'subsample': 0.6942806469295212, 'colsample_bytree': 0.7440889908747177, 'gamma': 1.1736646005346745}. Best is trial 3 with value: 0.8839779005524862.\n",
      "[I 2025-06-27 05:23:34,889] Trial 8 finished with value: 0.8813559322033898 and parameters: {'n_estimators': 84, 'max_depth': 8, 'learning_rate': 0.2269231682566259, 'subsample': 0.8041051135461453, 'colsample_bytree': 0.9218520063198984, 'gamma': 3.1690902751500065}. Best is trial 3 with value: 0.8839779005524862.\n",
      "[I 2025-06-27 05:23:35,604] Trial 9 finished with value: 0.8512820512820513 and parameters: {'n_estimators': 94, 'max_depth': 5, 'learning_rate': 0.09274086791735335, 'subsample': 0.6390725422343271, 'colsample_bytree': 0.6914670168666366, 'gamma': 2.951511020131552}. Best is trial 3 with value: 0.8839779005524862.\n",
      "[I 2025-06-27 05:23:37,127] Trial 10 finished with value: 0.8764044943820225 and parameters: {'n_estimators': 279, 'max_depth': 10, 'learning_rate': 0.2997365416082062, 'subsample': 0.9155189768714909, 'colsample_bytree': 0.5225830382884447, 'gamma': 0.04471782817308867}. Best is trial 3 with value: 0.8839779005524862.\n",
      "[I 2025-06-27 05:23:37,983] Trial 11 finished with value: 0.8950276243093923 and parameters: {'n_estimators': 185, 'max_depth': 8, 'learning_rate': 0.24741310286638207, 'subsample': 0.8613010196258891, 'colsample_bytree': 0.9898873920817397, 'gamma': 3.713644342441416}. Best is trial 11 with value: 0.8950276243093923.\n",
      "[I 2025-06-27 05:23:39,025] Trial 12 finished with value: 0.8685714285714285 and parameters: {'n_estimators': 210, 'max_depth': 9, 'learning_rate': 0.2593363716262263, 'subsample': 0.8784524448081853, 'colsample_bytree': 0.9889313763883703, 'gamma': 3.8295133905256766}. Best is trial 11 with value: 0.8950276243093923.\n",
      "[I 2025-06-27 05:23:39,792] Trial 13 finished with value: 0.875 and parameters: {'n_estimators': 149, 'max_depth': 7, 'learning_rate': 0.24863277225862893, 'subsample': 0.9783580009534982, 'colsample_bytree': 0.8246985985402195, 'gamma': 4.948022107931971}. Best is trial 11 with value: 0.8950276243093923.\n",
      "[I 2025-06-27 05:23:41,559] Trial 14 finished with value: 0.8586956521739131 and parameters: {'n_estimators': 299, 'max_depth': 3, 'learning_rate': 0.12329521169064, 'subsample': 0.8191558730963057, 'colsample_bytree': 0.9981122513889632, 'gamma': 1.8204960211213783}. Best is trial 11 with value: 0.8950276243093923.\n",
      "[I 2025-06-27 05:23:42,720] Trial 15 finished with value: 0.8764044943820225 and parameters: {'n_estimators': 242, 'max_depth': 8, 'learning_rate': 0.2666629676205001, 'subsample': 0.769307411593087, 'colsample_bytree': 0.7892252698667088, 'gamma': 3.6536555692826846}. Best is trial 11 with value: 0.8950276243093923.\n",
      "[I 2025-06-27 05:23:43,897] Trial 16 finished with value: 0.875 and parameters: {'n_estimators': 131, 'max_depth': 10, 'learning_rate': 0.19446307293450116, 'subsample': 0.8627775554372861, 'colsample_bytree': 0.9053210229193367, 'gamma': 0.1680167807256295}. Best is trial 11 with value: 0.8950276243093923.\n",
      "[I 2025-06-27 05:23:45,096] Trial 17 finished with value: 0.8636363636363636 and parameters: {'n_estimators': 255, 'max_depth': 8, 'learning_rate': 0.14644424969724426, 'subsample': 0.988303195391011, 'colsample_bytree': 0.9394433126454973, 'gamma': 1.9454864145071515}. Best is trial 11 with value: 0.8950276243093923.\n",
      "[I 2025-06-27 05:23:46,229] Trial 18 finished with value: 0.8888888888888888 and parameters: {'n_estimators': 182, 'max_depth': 6, 'learning_rate': 0.22069979304060797, 'subsample': 0.704816667859524, 'colsample_bytree': 0.7901697495932438, 'gamma': 4.306860106485882}. Best is trial 11 with value: 0.8950276243093923.\n",
      "[I 2025-06-27 05:23:47,259] Trial 19 finished with value: 0.8777777777777778 and parameters: {'n_estimators': 185, 'max_depth': 6, 'learning_rate': 0.22581781093405767, 'subsample': 0.7326496982051771, 'colsample_bytree': 0.5584148331243369, 'gamma': 4.389269643129181}. Best is trial 11 with value: 0.8950276243093923.\n",
      "[I 2025-06-27 05:23:48,318] Trial 20 finished with value: 0.875 and parameters: {'n_estimators': 217, 'max_depth': 9, 'learning_rate': 0.16641240363505583, 'subsample': 0.8988463047265045, 'colsample_bytree': 0.8183198506568319, 'gamma': 3.526220744175105}. Best is trial 11 with value: 0.8950276243093923.\n",
      "[I 2025-06-27 05:23:49,287] Trial 21 finished with value: 0.861878453038674 and parameters: {'n_estimators': 164, 'max_depth': 4, 'learning_rate': 0.2761988588151737, 'subsample': 0.6783819875838162, 'colsample_bytree': 0.8851489161109186, 'gamma': 4.248870220881349}. Best is trial 11 with value: 0.8950276243093923.\n",
      "[I 2025-06-27 05:23:50,308] Trial 22 finished with value: 0.8764044943820225 and parameters: {'n_estimators': 128, 'max_depth': 7, 'learning_rate': 0.2418132129773163, 'subsample': 0.5205622142213185, 'colsample_bytree': 0.8001444516606347, 'gamma': 3.44778252756512}. Best is trial 11 with value: 0.8950276243093923.\n",
      "[I 2025-06-27 05:23:51,415] Trial 23 finished with value: 0.8777777777777778 and parameters: {'n_estimators': 226, 'max_depth': 4, 'learning_rate': 0.2974676977898996, 'subsample': 0.8263936128709461, 'colsample_bytree': 0.9683644035659259, 'gamma': 2.4337827192503116}. Best is trial 11 with value: 0.8950276243093923.\n",
      "[I 2025-06-27 05:23:52,387] Trial 24 finished with value: 0.88268156424581 and parameters: {'n_estimators': 173, 'max_depth': 6, 'learning_rate': 0.20943114050498773, 'subsample': 0.7788636094460477, 'colsample_bytree': 0.8554272866455851, 'gamma': 4.022624147986983}. Best is trial 11 with value: 0.8950276243093923.\n",
      "[I 2025-06-27 05:23:53,296] Trial 25 finished with value: 0.8764044943820225 and parameters: {'n_estimators': 112, 'max_depth': 9, 'learning_rate': 0.25014691492944213, 'subsample': 0.7126328926755795, 'colsample_bytree': 0.9275712049905336, 'gamma': 0.9673284577644141}. Best is trial 11 with value: 0.8950276243093923.\n",
      "[I 2025-06-27 05:23:54,282] Trial 26 finished with value: 0.8813559322033898 and parameters: {'n_estimators': 266, 'max_depth': 8, 'learning_rate': 0.27286274174979447, 'subsample': 0.9354402388277818, 'colsample_bytree': 0.7754839785819311, 'gamma': 4.687780466788834}. Best is trial 11 with value: 0.8950276243093923.\n",
      "[I 2025-06-27 05:23:55,552] Trial 27 finished with value: 0.8777777777777778 and parameters: {'n_estimators': 204, 'max_depth': 6, 'learning_rate': 0.21280310575016487, 'subsample': 0.6596714890821339, 'colsample_bytree': 0.8401786516520874, 'gamma': 2.340772406408483}. Best is trial 11 with value: 0.8950276243093923.\n",
      "[I 2025-06-27 05:23:56,860] Trial 28 finished with value: 0.8571428571428571 and parameters: {'n_estimators': 233, 'max_depth': 3, 'learning_rate': 0.1399058347775875, 'subsample': 0.6007633689764207, 'colsample_bytree': 0.8953886062784071, 'gamma': 0.507205155200054}. Best is trial 11 with value: 0.8950276243093923.\n",
      "[I 2025-06-27 05:23:58,421] Trial 29 finished with value: 0.8764044943820225 and parameters: {'n_estimators': 287, 'max_depth': 4, 'learning_rate': 0.1736690496809716, 'subsample': 0.74034815518752, 'colsample_bytree': 0.9462071699968975, 'gamma': 2.9507056046435185}. Best is trial 11 with value: 0.8950276243093923.\n",
      "[I 2025-06-27 05:23:59,738] Trial 30 finished with value: 0.8715083798882681 and parameters: {'n_estimators': 190, 'max_depth': 7, 'learning_rate': 0.24129793201447317, 'subsample': 0.5497487226971068, 'colsample_bytree': 0.9579252059195574, 'gamma': 1.431305481290842}. Best is trial 11 with value: 0.8950276243093923.\n",
      "[I 2025-06-27 05:24:00,719] Trial 31 finished with value: 0.8888888888888888 and parameters: {'n_estimators': 167, 'max_depth': 6, 'learning_rate': 0.2049114265269696, 'subsample': 0.7816182158269618, 'colsample_bytree': 0.8708973738903029, 'gamma': 3.862957419247059}. Best is trial 11 with value: 0.8950276243093923.\n",
      "[I 2025-06-27 05:24:01,630] Trial 32 finished with value: 0.8901098901098901 and parameters: {'n_estimators': 159, 'max_depth': 5, 'learning_rate': 0.2113961679720566, 'subsample': 0.8522341792576562, 'colsample_bytree': 0.7624548127226566, 'gamma': 3.2432924337453253}. Best is trial 11 with value: 0.8950276243093923.\n",
      "[I 2025-06-27 05:24:02,552] Trial 33 finished with value: 0.8888888888888888 and parameters: {'n_estimators': 151, 'max_depth': 6, 'learning_rate': 0.18227317916802743, 'subsample': 0.851844122818413, 'colsample_bytree': 0.7566079794616272, 'gamma': 3.2080521780131264}. Best is trial 11 with value: 0.8950276243093923.\n",
      "[I 2025-06-27 05:24:03,574] Trial 34 finished with value: 0.8863636363636364 and parameters: {'n_estimators': 167, 'max_depth': 5, 'learning_rate': 0.209411274290923, 'subsample': 0.7901419027864443, 'colsample_bytree': 0.7027026352329293, 'gamma': 3.924863037258055}. Best is trial 11 with value: 0.8950276243093923.\n",
      "[I 2025-06-27 05:24:04,468] Trial 35 finished with value: 0.8876404494382022 and parameters: {'n_estimators': 162, 'max_depth': 6, 'learning_rate': 0.22280528142370817, 'subsample': 0.8347118854166401, 'colsample_bytree': 0.6481114888093753, 'gamma': 4.433958480192135}. Best is trial 11 with value: 0.8950276243093923.\n",
      "[I 2025-06-27 05:24:05,275] Trial 36 finished with value: 0.88268156424581 and parameters: {'n_estimators': 130, 'max_depth': 7, 'learning_rate': 0.19516679289017994, 'subsample': 0.8860555513457937, 'colsample_bytree': 0.8671508310485129, 'gamma': 3.712031572395531}. Best is trial 11 with value: 0.8950276243093923.\n",
      "[I 2025-06-27 05:24:06,613] Trial 37 finished with value: 0.88268156424581 and parameters: {'n_estimators': 186, 'max_depth': 5, 'learning_rate': 0.1575240006939308, 'subsample': 0.7532633686214381, 'colsample_bytree': 0.6127898247300541, 'gamma': 2.665538413348584}. Best is trial 11 with value: 0.8950276243093923.\n",
      "[I 2025-06-27 05:24:07,473] Trial 38 finished with value: 0.875 and parameters: {'n_estimators': 180, 'max_depth': 7, 'learning_rate': 0.2349800782902206, 'subsample': 0.9275556215464873, 'colsample_bytree': 0.7219189610509414, 'gamma': 3.403405125942505}. Best is trial 11 with value: 0.8950276243093923.\n",
      "[I 2025-06-27 05:24:08,746] Trial 39 finished with value: 0.8777777777777778 and parameters: {'n_estimators': 197, 'max_depth': 5, 'learning_rate': 0.20620730247421493, 'subsample': 0.7138890950060857, 'colsample_bytree': 0.7656161126765967, 'gamma': 4.123053346247391}. Best is trial 11 with value: 0.8950276243093923.\n",
      "[I 2025-06-27 05:24:09,284] Trial 40 finished with value: 0.8729281767955801 and parameters: {'n_estimators': 54, 'max_depth': 6, 'learning_rate': 0.1802706562111044, 'subsample': 0.9618511598680619, 'colsample_bytree': 0.8101439504409109, 'gamma': 4.648529775298777}. Best is trial 11 with value: 0.8950276243093923.\n",
      "[I 2025-06-27 05:24:10,205] Trial 41 finished with value: 0.8764044943820225 and parameters: {'n_estimators': 149, 'max_depth': 6, 'learning_rate': 0.18061379382461426, 'subsample': 0.8547123201791944, 'colsample_bytree': 0.7605061575335922, 'gamma': 3.2275259085847057}. Best is trial 11 with value: 0.8950276243093923.\n",
      "[I 2025-06-27 05:24:11,353] Trial 42 finished with value: 0.8901098901098901 and parameters: {'n_estimators': 157, 'max_depth': 5, 'learning_rate': 0.12242504680964439, 'subsample': 0.8435995075703978, 'colsample_bytree': 0.7415046198712911, 'gamma': 3.2201514224359236}. Best is trial 11 with value: 0.8950276243093923.\n",
      "[I 2025-06-27 05:24:12,239] Trial 43 finished with value: 0.8571428571428571 and parameters: {'n_estimators': 119, 'max_depth': 5, 'learning_rate': 0.09206943987194216, 'subsample': 0.8108333181463191, 'colsample_bytree': 0.6761401534534637, 'gamma': 2.7856722895789225}. Best is trial 11 with value: 0.8950276243093923.\n",
      "[I 2025-06-27 05:24:13,179] Trial 44 finished with value: 0.8663101604278075 and parameters: {'n_estimators': 156, 'max_depth': 4, 'learning_rate': 0.11626253766549315, 'subsample': 0.7958990155821779, 'colsample_bytree': 0.7405348482151927, 'gamma': 3.864097773550919}. Best is trial 11 with value: 0.8950276243093923.\n",
      "[I 2025-06-27 05:24:14,228] Trial 45 finished with value: 0.8901098901098901 and parameters: {'n_estimators': 140, 'max_depth': 5, 'learning_rate': 0.09548751334642852, 'subsample': 0.7662431366559415, 'colsample_bytree': 0.8399896780060773, 'gamma': 3.197261790372586}. Best is trial 11 with value: 0.8950276243093923.\n",
      "[I 2025-06-27 05:24:15,197] Trial 46 finished with value: 0.8586387434554974 and parameters: {'n_estimators': 139, 'max_depth': 5, 'learning_rate': 0.06472777223083898, 'subsample': 0.8355690369755867, 'colsample_bytree': 0.7160025980139535, 'gamma': 2.1697054552889576}. Best is trial 11 with value: 0.8950276243093923.\n",
      "[I 2025-06-27 05:24:15,864] Trial 47 finished with value: 0.8426395939086294 and parameters: {'n_estimators': 102, 'max_depth': 4, 'learning_rate': 0.08763000114703623, 'subsample': 0.7640079426930897, 'colsample_bytree': 0.8358564929742432, 'gamma': 3.1149930048198873}. Best is trial 11 with value: 0.8950276243093923.\n",
      "[I 2025-06-27 05:24:16,994] Trial 48 finished with value: 0.8839779005524862 and parameters: {'n_estimators': 173, 'max_depth': 5, 'learning_rate': 0.12186903727238052, 'subsample': 0.9044963939110853, 'colsample_bytree': 0.6780430753408399, 'gamma': 3.339679940832935}. Best is trial 11 with value: 0.8950276243093923.\n",
      "[I 2025-06-27 05:24:18,324] Trial 49 finished with value: 0.8066298342541437 and parameters: {'n_estimators': 202, 'max_depth': 5, 'learning_rate': 0.012152503353884903, 'subsample': 0.8831909854825329, 'colsample_bytree': 0.7859174662273831, 'gamma': 2.6966701128887545}. Best is trial 11 with value: 0.8950276243093923.\n",
      "[I 2025-06-27 05:24:19,219] Trial 50 finished with value: 0.8235294117647058 and parameters: {'n_estimators': 144, 'max_depth': 4, 'learning_rate': 0.05000092814246675, 'subsample': 0.6361200439539995, 'colsample_bytree': 0.6189355793377036, 'gamma': 3.6209350302785204}. Best is trial 11 with value: 0.8950276243093923.\n",
      "[I 2025-06-27 05:24:20,546] Trial 51 finished with value: 0.8813559322033898 and parameters: {'n_estimators': 157, 'max_depth': 6, 'learning_rate': 0.10688435808730655, 'subsample': 0.7217351456067906, 'colsample_bytree': 0.8504767494971719, 'gamma': 2.9893932658194915}. Best is trial 11 with value: 0.8950276243093923.\n",
      "[I 2025-06-27 05:24:21,716] Trial 52 finished with value: 0.8715083798882681 and parameters: {'n_estimators': 176, 'max_depth': 6, 'learning_rate': 0.14531012965606857, 'subsample': 0.8629147144924594, 'colsample_bytree': 0.7441935236498595, 'gamma': 3.6905822571773106}. Best is trial 11 with value: 0.8950276243093923.\n",
      "[I 2025-06-27 05:24:22,611] Trial 53 finished with value: 0.88268156424581 and parameters: {'n_estimators': 138, 'max_depth': 5, 'learning_rate': 0.25928452431470556, 'subsample': 0.7857314253208267, 'colsample_bytree': 0.7976419662599942, 'gamma': 4.404553560044283}. Best is trial 11 with value: 0.8950276243093923.\n",
      "[I 2025-06-27 05:24:24,096] Trial 54 finished with value: 0.88268156424581 and parameters: {'n_estimators': 191, 'max_depth': 7, 'learning_rate': 0.07922012978313174, 'subsample': 0.8093510187844439, 'colsample_bytree': 0.9133394833276189, 'gamma': 4.106033545363947}. Best is trial 11 with value: 0.8950276243093923.\n",
      "[I 2025-06-27 05:24:25,464] Trial 55 finished with value: 0.8938547486033519 and parameters: {'n_estimators': 168, 'max_depth': 8, 'learning_rate': 0.11011902638503136, 'subsample': 0.69096407613495, 'colsample_bytree': 0.8268059881834472, 'gamma': 4.901330354114634}. Best is trial 11 with value: 0.8950276243093923.\n",
      "[I 2025-06-27 05:24:26,816] Trial 56 finished with value: 0.88268156424581 and parameters: {'n_estimators': 213, 'max_depth': 8, 'learning_rate': 0.1328250530806015, 'subsample': 0.6883085434219831, 'colsample_bytree': 0.8259921606148197, 'gamma': 4.958596335592077}. Best is trial 11 with value: 0.8950276243093923.\n",
      "[I 2025-06-27 05:24:27,982] Trial 57 finished with value: 0.8888888888888888 and parameters: {'n_estimators': 119, 'max_depth': 9, 'learning_rate': 0.10695131010085386, 'subsample': 0.663852260992452, 'colsample_bytree': 0.7742130347156457, 'gamma': 4.687544666121404}. Best is trial 11 with value: 0.8950276243093923.\n",
      "[I 2025-06-27 05:24:29,361] Trial 58 finished with value: 0.8950276243093923 and parameters: {'n_estimators': 182, 'max_depth': 8, 'learning_rate': 0.1070755352090391, 'subsample': 0.7580745854383784, 'colsample_bytree': 0.9809130644051408, 'gamma': 4.540505117746586}. Best is trial 11 with value: 0.8950276243093923.\n",
      "[I 2025-06-27 05:24:31,060] Trial 59 finished with value: 0.88268156424581 and parameters: {'n_estimators': 221, 'max_depth': 8, 'learning_rate': 0.076162356757348, 'subsample': 0.7561881196969988, 'colsample_bytree': 0.9706641958341221, 'gamma': 4.805470327639803}. Best is trial 11 with value: 0.8950276243093923.\n",
      "[I 2025-06-27 05:24:32,172] Trial 60 finished with value: 0.8764044943820225 and parameters: {'n_estimators': 140, 'max_depth': 9, 'learning_rate': 0.10618596599647113, 'subsample': 0.8486005763481279, 'colsample_bytree': 0.9888275295665004, 'gamma': 4.506208937476305}. Best is trial 11 with value: 0.8950276243093923.\n",
      "[I 2025-06-27 05:24:33,455] Trial 61 finished with value: 0.88268156424581 and parameters: {'n_estimators': 180, 'max_depth': 8, 'learning_rate': 0.134149730283266, 'subsample': 0.6989278458124695, 'colsample_bytree': 0.7376025693085828, 'gamma': 4.260025067733989}. Best is trial 11 with value: 0.8950276243093923.\n",
      "[I 2025-06-27 05:24:34,882] Trial 62 finished with value: 0.8876404494382022 and parameters: {'n_estimators': 159, 'max_depth': 10, 'learning_rate': 0.09711746633014419, 'subsample': 0.7418290295814913, 'colsample_bytree': 0.9330375057740101, 'gamma': 4.255185121443749}. Best is trial 11 with value: 0.8950276243093923.\n",
      "[I 2025-06-27 05:24:36,531] Trial 63 finished with value: 0.8791208791208791 and parameters: {'n_estimators': 173, 'max_depth': 8, 'learning_rate': 0.05613386747137966, 'subsample': 0.7301065968895586, 'colsample_bytree': 0.8061867274323644, 'gamma': 4.547105033242996}. Best is trial 11 with value: 0.8950276243093923.\n",
      "[I 2025-06-27 05:24:37,971] Trial 64 finished with value: 0.8777777777777778 and parameters: {'n_estimators': 195, 'max_depth': 9, 'learning_rate': 0.1170969941316305, 'subsample': 0.6667754292292466, 'colsample_bytree': 0.9697110717514054, 'gamma': 4.855118271994523}. Best is trial 11 with value: 0.8950276243093923.\n",
      "[I 2025-06-27 05:24:39,176] Trial 65 finished with value: 0.8764044943820225 and parameters: {'n_estimators': 183, 'max_depth': 7, 'learning_rate': 0.2842135149863497, 'subsample': 0.6431145622572136, 'colsample_bytree': 0.7875663432314186, 'gamma': 3.507563319973154}. Best is trial 11 with value: 0.8950276243093923.\n",
      "[I 2025-06-27 05:24:40,726] Trial 66 finished with value: 0.8813559322033898 and parameters: {'n_estimators': 207, 'max_depth': 8, 'learning_rate': 0.12735464922227954, 'subsample': 0.7097964811185795, 'colsample_bytree': 0.9913152184083027, 'gamma': 3.0719265500457436}. Best is trial 11 with value: 0.8950276243093923.\n",
      "[I 2025-06-27 05:24:41,744] Trial 67 finished with value: 0.8888888888888888 and parameters: {'n_estimators': 170, 'max_depth': 5, 'learning_rate': 0.15404796610073487, 'subsample': 0.8703721558378756, 'colsample_bytree': 0.7030139304174295, 'gamma': 3.96652857448914}. Best is trial 11 with value: 0.8950276243093923.\n",
      "[I 2025-06-27 05:24:42,647] Trial 68 finished with value: 0.8681318681318682 and parameters: {'n_estimators': 152, 'max_depth': 7, 'learning_rate': 0.2233211457003046, 'subsample': 0.824111726510406, 'colsample_bytree': 0.8957626794000505, 'gamma': 3.7818323177426723}. Best is trial 11 with value: 0.8950276243093923.\n",
      "[I 2025-06-27 05:24:44,009] Trial 69 finished with value: 0.88268156424581 and parameters: {'n_estimators': 166, 'max_depth': 8, 'learning_rate': 0.09991705347717392, 'subsample': 0.7654524011589527, 'colsample_bytree': 0.8310331544051661, 'gamma': 4.2733634153368065}. Best is trial 11 with value: 0.8950276243093923.\n",
      "[I 2025-06-27 05:24:44,825] Trial 70 finished with value: 0.8481675392670157 and parameters: {'n_estimators': 132, 'max_depth': 4, 'learning_rate': 0.08161529479053953, 'subsample': 0.903135458203951, 'colsample_bytree': 0.9503711644844465, 'gamma': 3.2659435897151594}. Best is trial 11 with value: 0.8950276243093923.\n",
      "[I 2025-06-27 05:24:45,732] Trial 71 finished with value: 0.8777777777777778 and parameters: {'n_estimators': 161, 'max_depth': 6, 'learning_rate': 0.25853584647598826, 'subsample': 0.7807669470828553, 'colsample_bytree': 0.8702267590881118, 'gamma': 3.540932901726737}. Best is trial 11 with value: 0.8950276243093923.\n",
      "[I 2025-06-27 05:24:46,689] Trial 72 finished with value: 0.8938547486033519 and parameters: {'n_estimators': 145, 'max_depth': 6, 'learning_rate': 0.19971225113080937, 'subsample': 0.8405049434950502, 'colsample_bytree': 0.8536673704408225, 'gamma': 4.080626042230842}. Best is trial 11 with value: 0.8950276243093923.\n",
      "[I 2025-06-27 05:24:47,514] Trial 73 finished with value: 0.8764044943820225 and parameters: {'n_estimators': 145, 'max_depth': 7, 'learning_rate': 0.23675594036695777, 'subsample': 0.9470096630700011, 'colsample_bytree': 0.8461557853513306, 'gamma': 4.806504318248756}. Best is trial 11 with value: 0.8950276243093923.\n",
      "[I 2025-06-27 05:24:48,550] Trial 74 finished with value: 0.8764044943820225 and parameters: {'n_estimators': 187, 'max_depth': 5, 'learning_rate': 0.215742608449842, 'subsample': 0.8342090204020839, 'colsample_bytree': 0.8152441502930212, 'gamma': 4.086264661547696}. Best is trial 11 with value: 0.8950276243093923.\n",
      "[I 2025-06-27 05:24:49,383] Trial 75 finished with value: 0.8651685393258427 and parameters: {'n_estimators': 121, 'max_depth': 6, 'learning_rate': 0.20020331632959137, 'subsample': 0.8448664554714203, 'colsample_bytree': 0.9161102672468704, 'gamma': 4.577127223738553}. Best is trial 11 with value: 0.8950276243093923.\n",
      "[I 2025-06-27 05:24:50,645] Trial 76 finished with value: 0.8764044943820225 and parameters: {'n_estimators': 198, 'max_depth': 6, 'learning_rate': 0.1642800511020399, 'subsample': 0.7014299499776192, 'colsample_bytree': 0.7705920249161626, 'gamma': 2.885211866020432}. Best is trial 11 with value: 0.8950276243093923.\n",
      "[I 2025-06-27 05:24:51,548] Trial 77 finished with value: 0.8888888888888888 and parameters: {'n_estimators': 154, 'max_depth': 9, 'learning_rate': 0.24785462817950088, 'subsample': 0.7994187640325254, 'colsample_bytree': 0.8623058703741441, 'gamma': 3.3941893490163864}. Best is trial 11 with value: 0.8950276243093923.\n",
      "[I 2025-06-27 05:24:52,401] Trial 78 finished with value: 0.8791208791208791 and parameters: {'n_estimators': 107, 'max_depth': 5, 'learning_rate': 0.22930782840738195, 'subsample': 0.6774462245106855, 'colsample_bytree': 0.7544589792116323, 'gamma': 4.346990577346055}. Best is trial 11 with value: 0.8950276243093923.\n",
      "[I 2025-06-27 05:24:53,334] Trial 79 finished with value: 0.8938547486033519 and parameters: {'n_estimators': 176, 'max_depth': 8, 'learning_rate': 0.21816415444014264, 'subsample': 0.8830998782328914, 'colsample_bytree': 0.8823366342337564, 'gamma': 2.5314458305215752}. Best is trial 11 with value: 0.8950276243093923.\n",
      "[I 2025-06-27 05:24:54,561] Trial 80 finished with value: 0.8764044943820225 and parameters: {'n_estimators': 177, 'max_depth': 8, 'learning_rate': 0.11145615756972604, 'subsample': 0.8935341307211493, 'colsample_bytree': 0.8877881920182935, 'gamma': 2.2424583438993797}. Best is trial 11 with value: 0.8950276243093923.\n",
      "[I 2025-06-27 05:24:55,465] Trial 81 finished with value: 0.8813559322033898 and parameters: {'n_estimators': 164, 'max_depth': 8, 'learning_rate': 0.2177531214340039, 'subsample': 0.8732619564866299, 'colsample_bytree': 0.784516630141444, 'gamma': 2.509511621512955}. Best is trial 11 with value: 0.8950276243093923.\n",
      "[I 2025-06-27 05:24:56,476] Trial 82 finished with value: 0.875 and parameters: {'n_estimators': 191, 'max_depth': 8, 'learning_rate': 0.1876713256846961, 'subsample': 0.9206191613325541, 'colsample_bytree': 0.8798271481389887, 'gamma': 1.8608777920865163}. Best is trial 11 with value: 0.8950276243093923.\n",
      "[I 2025-06-27 05:24:57,320] Trial 83 finished with value: 0.8715083798882681 and parameters: {'n_estimators': 147, 'max_depth': 7, 'learning_rate': 0.22953519142530368, 'subsample': 0.8634196323481234, 'colsample_bytree': 0.9996605472258141, 'gamma': 3.9605951904123065}. Best is trial 11 with value: 0.8950276243093923.\n",
      "[I 2025-06-27 05:24:58,282] Trial 84 finished with value: 0.8715083798882681 and parameters: {'n_estimators': 170, 'max_depth': 5, 'learning_rate': 0.24922821549023122, 'subsample': 0.8147315556129701, 'colsample_bytree': 0.8177112980894262, 'gamma': 2.5739510104908825}. Best is trial 11 with value: 0.8950276243093923.\n",
      "[I 2025-06-27 05:24:59,145] Trial 85 finished with value: 0.8888888888888888 and parameters: {'n_estimators': 137, 'max_depth': 9, 'learning_rate': 0.20262950221069295, 'subsample': 0.883721382078613, 'colsample_bytree': 0.8440979915086045, 'gamma': 2.7857244237437255}. Best is trial 11 with value: 0.8950276243093923.\n",
      "[I 2025-06-27 05:25:00,329] Trial 86 finished with value: 0.8777777777777778 and parameters: {'n_estimators': 126, 'max_depth': 7, 'learning_rate': 0.06913069314314221, 'subsample': 0.7291534207547741, 'colsample_bytree': 0.9801269357763089, 'gamma': 3.0458332706802533}. Best is trial 11 with value: 0.8950276243093923.\n",
      "[I 2025-06-27 05:25:01,361] Trial 87 finished with value: 0.8839779005524862 and parameters: {'n_estimators': 182, 'max_depth': 6, 'learning_rate': 0.19167756513338427, 'subsample': 0.8441826610297201, 'colsample_bytree': 0.8001286768583715, 'gamma': 3.7495988393601953}. Best is trial 11 with value: 0.8950276243093923.\n",
      "[I 2025-06-27 05:25:02,248] Trial 88 finished with value: 0.875 and parameters: {'n_estimators': 159, 'max_depth': 8, 'learning_rate': 0.2183106843493269, 'subsample': 0.9102301910143468, 'colsample_bytree': 0.8562913020589825, 'gamma': 2.0957079723933036}. Best is trial 11 with value: 0.8950276243093923.\n",
      "[I 2025-06-27 05:25:03,230] Trial 89 finished with value: 0.8526315789473684 and parameters: {'n_estimators': 178, 'max_depth': 3, 'learning_rate': 0.2661027203010556, 'subsample': 0.5682738284907922, 'colsample_bytree': 0.9372061597858505, 'gamma': 4.168889667695124}. Best is trial 11 with value: 0.8950276243093923.\n",
      "[I 2025-06-27 05:25:04,373] Trial 90 finished with value: 0.8764044943820225 and parameters: {'n_estimators': 152, 'max_depth': 5, 'learning_rate': 0.17218522376720258, 'subsample': 0.7475187499281464, 'colsample_bytree': 0.9619347751271186, 'gamma': 3.294580835625704}. Best is trial 11 with value: 0.8950276243093923.\n",
      "[I 2025-06-27 05:25:05,366] Trial 91 finished with value: 0.8813559322033898 and parameters: {'n_estimators': 167, 'max_depth': 6, 'learning_rate': 0.20543562099470036, 'subsample': 0.7667343329801223, 'colsample_bytree': 0.874246109288464, 'gamma': 3.611852596639694}. Best is trial 11 with value: 0.8950276243093923.\n",
      "[I 2025-06-27 05:25:06,381] Trial 92 finished with value: 0.8938547486033519 and parameters: {'n_estimators': 186, 'max_depth': 6, 'learning_rate': 0.2350219776936224, 'subsample': 0.7780145002653786, 'colsample_bytree': 0.9247524456741847, 'gamma': 3.836759370921789}. Best is trial 11 with value: 0.8950276243093923.\n",
      "[I 2025-06-27 05:25:07,412] Trial 93 finished with value: 0.8715083798882681 and parameters: {'n_estimators': 202, 'max_depth': 6, 'learning_rate': 0.24004209737457843, 'subsample': 0.7969980653464103, 'colsample_bytree': 0.9068055522128176, 'gamma': 3.160649564720968}. Best is trial 11 with value: 0.8950276243093923.\n",
      "[I 2025-06-27 05:25:08,438] Trial 94 finished with value: 0.8876404494382022 and parameters: {'n_estimators': 194, 'max_depth': 5, 'learning_rate': 0.23300958711560946, 'subsample': 0.8229886605835384, 'colsample_bytree': 0.7275490983501435, 'gamma': 4.481407764687233}. Best is trial 11 with value: 0.8950276243093923.\n",
      "[I 2025-06-27 05:25:10,016] Trial 95 finished with value: 0.88268156424581 and parameters: {'n_estimators': 186, 'max_depth': 8, 'learning_rate': 0.0884929432343181, 'subsample': 0.7775105348444885, 'colsample_bytree': 0.8977544359293349, 'gamma': 3.855160280725159}. Best is trial 11 with value: 0.8950276243093923.\n",
      "[I 2025-06-27 05:25:11,247] Trial 96 finished with value: 0.8813559322033898 and parameters: {'n_estimators': 173, 'max_depth': 7, 'learning_rate': 0.10017151080264906, 'subsample': 0.8575139589980734, 'colsample_bytree': 0.9211940003427417, 'gamma': 4.047399086951015}. Best is trial 11 with value: 0.8950276243093923.\n",
      "[I 2025-06-27 05:25:12,474] Trial 97 finished with value: 0.8764044943820225 and parameters: {'n_estimators': 212, 'max_depth': 6, 'learning_rate': 0.2456549421683202, 'subsample': 0.7213073636392574, 'colsample_bytree': 0.9800702132100421, 'gamma': 1.3806909972061905}. Best is trial 11 with value: 0.8950276243093923.\n",
      "[I 2025-06-27 05:25:13,270] Trial 98 finished with value: 0.8700564971751412 and parameters: {'n_estimators': 134, 'max_depth': 9, 'learning_rate': 0.2123653032796543, 'subsample': 0.8909349313011381, 'colsample_bytree': 0.9514216066141069, 'gamma': 4.9750089129897015}. Best is trial 11 with value: 0.8950276243093923.\n",
      "[I 2025-06-27 05:25:14,204] Trial 99 finished with value: 0.8571428571428571 and parameters: {'n_estimators': 145, 'max_depth': 4, 'learning_rate': 0.12555948615995913, 'subsample': 0.755503147037102, 'colsample_bytree': 0.8230358893645637, 'gamma': 3.476846634150536}. Best is trial 11 with value: 0.8950276243093923.\n",
      "[I 2025-06-27 05:25:15,171] Trial 100 finished with value: 0.8715083798882681 and parameters: {'n_estimators': 157, 'max_depth': 5, 'learning_rate': 0.18589120579420423, 'subsample': 0.8040680257470042, 'colsample_bytree': 0.8351051282249298, 'gamma': 4.32277988612345}. Best is trial 11 with value: 0.8950276243093923.\n",
      "[I 2025-06-27 05:25:16,060] Trial 101 finished with value: 0.88268156424581 and parameters: {'n_estimators': 168, 'max_depth': 6, 'learning_rate': 0.22259914664898578, 'subsample': 0.8366729805818657, 'colsample_bytree': 0.8626240702816353, 'gamma': 4.719201932552028}. Best is trial 11 with value: 0.8950276243093923.\n",
      "[I 2025-06-27 05:25:17,112] Trial 102 finished with value: 0.8938547486033519 and parameters: {'n_estimators': 180, 'max_depth': 6, 'learning_rate': 0.19575056315973957, 'subsample': 0.7876107108059103, 'colsample_bytree': 0.8524441342603334, 'gamma': 3.6711611761081704}. Best is trial 11 with value: 0.8950276243093923.\n",
      "[I 2025-06-27 05:25:18,250] Trial 103 finished with value: 0.8764044943820225 and parameters: {'n_estimators': 181, 'max_depth': 6, 'learning_rate': 0.19612925658343036, 'subsample': 0.7732374575330656, 'colsample_bytree': 0.8812902425483179, 'gamma': 3.601226678661623}. Best is trial 11 with value: 0.8950276243093923.\n",
      "[I 2025-06-27 05:25:19,332] Trial 104 finished with value: 0.8813559322033898 and parameters: {'n_estimators': 199, 'max_depth': 5, 'learning_rate': 0.21123668498129897, 'subsample': 0.7886068698353075, 'colsample_bytree': 0.8071101200145346, 'gamma': 4.158527868494633}. Best is trial 11 with value: 0.8950276243093923.\n",
      "[I 2025-06-27 05:25:20,457] Trial 105 finished with value: 0.8777777777777778 and parameters: {'n_estimators': 190, 'max_depth': 7, 'learning_rate': 0.1769604881072564, 'subsample': 0.7372009021761284, 'colsample_bytree': 0.8529194745109837, 'gamma': 3.8989495158433405}. Best is trial 11 with value: 0.8950276243093923.\n",
      "[I 2025-06-27 05:25:21,592] Trial 106 finished with value: 0.875 and parameters: {'n_estimators': 163, 'max_depth': 6, 'learning_rate': 0.11513463956411789, 'subsample': 0.8741592917753572, 'colsample_bytree': 0.7953234641877946, 'gamma': 3.7525098760446864}. Best is trial 11 with value: 0.8950276243093923.\n",
      "[I 2025-06-27 05:25:23,160] Trial 107 finished with value: 0.8764044943820225 and parameters: {'n_estimators': 183, 'max_depth': 6, 'learning_rate': 0.13757368646309298, 'subsample': 0.5085139014912718, 'colsample_bytree': 0.7767726814006088, 'gamma': 3.4261553378577703}. Best is trial 11 with value: 0.8950276243093923.\n",
      "[I 2025-06-27 05:25:24,349] Trial 108 finished with value: 0.8777777777777778 and parameters: {'n_estimators': 174, 'max_depth': 8, 'learning_rate': 0.14798035673303678, 'subsample': 0.8187090893601121, 'colsample_bytree': 0.9277347986392136, 'gamma': 3.1850745027684413}. Best is trial 11 with value: 0.8950276243093923.\n",
      "[I 2025-06-27 05:25:25,366] Trial 109 finished with value: 0.861878453038674 and parameters: {'n_estimators': 143, 'max_depth': 5, 'learning_rate': 0.22093587525708555, 'subsample': 0.6798594684214422, 'colsample_bytree': 0.8329265331722826, 'gamma': 2.945140021930306}. Best is trial 11 with value: 0.8950276243093923.\n",
      "[I 2025-06-27 05:25:26,323] Trial 110 finished with value: 0.8764044943820225 and parameters: {'n_estimators': 207, 'max_depth': 7, 'learning_rate': 0.2577099853110445, 'subsample': 0.8313675761037035, 'colsample_bytree': 0.5365235638802448, 'gamma': 4.601029702990209}. Best is trial 11 with value: 0.8950276243093923.\n",
      "[I 2025-06-27 05:25:27,357] Trial 111 finished with value: 0.8813559322033898 and parameters: {'n_estimators': 178, 'max_depth': 6, 'learning_rate': 0.20022736782205056, 'subsample': 0.7912363818843065, 'colsample_bytree': 0.8873380941539647, 'gamma': 4.032200881557859}. Best is trial 11 with value: 0.8950276243093923.\n",
      "[I 2025-06-27 05:25:28,374] Trial 112 finished with value: 0.8764044943820225 and parameters: {'n_estimators': 170, 'max_depth': 6, 'learning_rate': 0.22668035639854336, 'subsample': 0.7599900506284418, 'colsample_bytree': 0.903593935056493, 'gamma': 3.827356936787817}. Best is trial 11 with value: 0.8950276243093923.\n",
      "[I 2025-06-27 05:25:29,733] Trial 113 finished with value: 0.8764044943820225 and parameters: {'n_estimators': 187, 'max_depth': 6, 'learning_rate': 0.20819563460934207, 'subsample': 0.8099017102321445, 'colsample_bytree': 0.8426182112039242, 'gamma': 3.686709172469779}. Best is trial 11 with value: 0.8950276243093923.\n",
      "[I 2025-06-27 05:25:30,746] Trial 114 finished with value: 0.88268156424581 and parameters: {'n_estimators': 162, 'max_depth': 5, 'learning_rate': 0.23527199764869922, 'subsample': 0.7796655362483021, 'colsample_bytree': 0.867237635135499, 'gamma': 4.879126094321618}. Best is trial 11 with value: 0.8950276243093923.\n",
      "[I 2025-06-27 05:25:31,760] Trial 115 finished with value: 0.875 and parameters: {'n_estimators': 153, 'max_depth': 8, 'learning_rate': 0.2426804038833386, 'subsample': 0.7077355115437932, 'colsample_bytree': 0.8543332026382157, 'gamma': 3.3353789331143053}. Best is trial 11 with value: 0.8950276243093923.\n",
      "[I 2025-06-27 05:25:32,663] Trial 116 finished with value: 0.8813559322033898 and parameters: {'n_estimators': 149, 'max_depth': 6, 'learning_rate': 0.1920606946878615, 'subsample': 0.8618396775585818, 'colsample_bytree': 0.8166303314754662, 'gamma': 4.200742249499019}. Best is trial 11 with value: 0.8950276243093923.\n",
      "[I 2025-06-27 05:25:33,458] Trial 117 finished with value: 0.8677248677248677 and parameters: {'n_estimators': 77, 'max_depth': 6, 'learning_rate': 0.10420273118813818, 'subsample': 0.7434961626223648, 'colsample_bytree': 0.9412504559723983, 'gamma': 3.9267832549446946}. Best is trial 11 with value: 0.8950276243093923.\n",
      "[I 2025-06-27 05:25:34,426] Trial 118 finished with value: 0.8876404494382022 and parameters: {'n_estimators': 192, 'max_depth': 8, 'learning_rate': 0.2539968735410402, 'subsample': 0.8499629844425182, 'colsample_bytree': 0.7658992095173653, 'gamma': 3.535277935591502}. Best is trial 11 with value: 0.8950276243093923.\n",
      "[I 2025-06-27 05:25:35,631] Trial 119 finished with value: 0.8743169398907104 and parameters: {'n_estimators': 158, 'max_depth': 5, 'learning_rate': 0.09518081245227128, 'subsample': 0.7241026105464402, 'colsample_bytree': 0.7287156787563769, 'gamma': 4.39702598595262}. Best is trial 11 with value: 0.8950276243093923.\n",
      "[I 2025-06-27 05:25:36,596] Trial 120 finished with value: 0.8876404494382022 and parameters: {'n_estimators': 166, 'max_depth': 7, 'learning_rate': 0.26591792369086337, 'subsample': 0.7521890952383483, 'colsample_bytree': 0.873977186734773, 'gamma': 1.6841003716558014}. Best is trial 11 with value: 0.8950276243093923.\n",
      "[I 2025-06-27 05:25:37,728] Trial 121 finished with value: 0.88268156424581 and parameters: {'n_estimators': 176, 'max_depth': 6, 'learning_rate': 0.1839277621259911, 'subsample': 0.8429742906919596, 'colsample_bytree': 0.7446785459045913, 'gamma': 3.235103284848603}. Best is trial 11 with value: 0.8950276243093923.\n",
      "[I 2025-06-27 05:25:38,726] Trial 122 finished with value: 0.8888888888888888 and parameters: {'n_estimators': 153, 'max_depth': 6, 'learning_rate': 0.20464024415513807, 'subsample': 0.877139230424447, 'colsample_bytree': 0.7788610783636818, 'gamma': 2.6437868296776537}. Best is trial 11 with value: 0.8950276243093923.\n",
      "[I 2025-06-27 05:25:39,748] Trial 123 finished with value: 0.88268156424581 and parameters: {'n_estimators': 139, 'max_depth': 6, 'learning_rate': 0.21463421815677886, 'subsample': 0.8281722042289116, 'colsample_bytree': 0.7485737739481161, 'gamma': 2.836952801606612}. Best is trial 11 with value: 0.8950276243093923.\n",
      "[I 2025-06-27 05:25:40,650] Trial 124 finished with value: 0.8888888888888888 and parameters: {'n_estimators': 127, 'max_depth': 5, 'learning_rate': 0.19446755942431931, 'subsample': 0.8695428787952784, 'colsample_bytree': 0.7541660088723143, 'gamma': 3.3519477875507837}. Best is trial 11 with value: 0.8950276243093923.\n",
      "[I 2025-06-27 05:25:41,848] Trial 125 finished with value: 0.8541666666666666 and parameters: {'n_estimators': 149, 'max_depth': 6, 'learning_rate': 0.041030970086548726, 'subsample': 0.6886466878545551, 'colsample_bytree': 0.7023594032351245, 'gamma': 3.1225177769456685}. Best is trial 11 with value: 0.8950276243093923.\n",
      "[I 2025-06-27 05:25:43,282] Trial 126 finished with value: 0.8764044943820225 and parameters: {'n_estimators': 170, 'max_depth': 8, 'learning_rate': 0.11962366686259242, 'subsample': 0.6530370136760121, 'colsample_bytree': 0.9837157357410622, 'gamma': 3.0455163862896315}. Best is trial 11 with value: 0.8950276243093923.\n",
      "[I 2025-06-27 05:25:44,307] Trial 127 finished with value: 0.8839779005524862 and parameters: {'n_estimators': 162, 'max_depth': 4, 'learning_rate': 0.17377447963073656, 'subsample': 0.8529186588852429, 'colsample_bytree': 0.9631168261811976, 'gamma': 3.6370269295652986}. Best is trial 11 with value: 0.8950276243093923.\n",
      "[I 2025-06-27 05:25:45,526] Trial 128 finished with value: 0.88268156424581 and parameters: {'n_estimators': 181, 'max_depth': 7, 'learning_rate': 0.12957057332565872, 'subsample': 0.8085377495427372, 'colsample_bytree': 0.7325479087887905, 'gamma': 3.793033136866306}. Best is trial 11 with value: 0.8950276243093923.\n",
      "[I 2025-06-27 05:25:47,032] Trial 129 finished with value: 0.8938547486033519 and parameters: {'n_estimators': 173, 'max_depth': 6, 'learning_rate': 0.084042724619185, 'subsample': 0.7688014288830878, 'colsample_bytree': 0.7594052742204586, 'gamma': 4.006801687911102}. Best is trial 11 with value: 0.8950276243093923.\n",
      "[I 2025-06-27 05:25:48,622] Trial 130 finished with value: 0.8888888888888888 and parameters: {'n_estimators': 185, 'max_depth': 6, 'learning_rate': 0.08535610279205286, 'subsample': 0.6215490379098045, 'colsample_bytree': 0.791556747037461, 'gamma': 3.978955052787121}. Best is trial 11 with value: 0.8950276243093923.\n",
      "[I 2025-06-27 05:25:50,003] Trial 131 finished with value: 0.8901098901098901 and parameters: {'n_estimators': 174, 'max_depth': 6, 'learning_rate': 0.07449703745495694, 'subsample': 0.7699258597849324, 'colsample_bytree': 0.7645634980930385, 'gamma': 4.092858634543521}. Best is trial 11 with value: 0.8950276243093923.\n",
      "[I 2025-06-27 05:25:51,375] Trial 132 finished with value: 0.8791208791208791 and parameters: {'n_estimators': 174, 'max_depth': 6, 'learning_rate': 0.06542204939478796, 'subsample': 0.7734557733818873, 'colsample_bytree': 0.7172835024016018, 'gamma': 4.097969025423158}. Best is trial 11 with value: 0.8950276243093923.\n",
      "[I 2025-06-27 05:25:52,892] Trial 133 finished with value: 0.8888888888888888 and parameters: {'n_estimators': 197, 'max_depth': 6, 'learning_rate': 0.07746232583386602, 'subsample': 0.7643929556731449, 'colsample_bytree': 0.7617753282947352, 'gamma': 4.281625684055039}. Best is trial 11 with value: 0.8950276243093923.\n",
      "[I 2025-06-27 05:25:54,255] Trial 134 finished with value: 0.9 and parameters: {'n_estimators': 171, 'max_depth': 6, 'learning_rate': 0.07182844821367367, 'subsample': 0.7905532596441632, 'colsample_bytree': 0.8467937479404403, 'gamma': 4.451918506304524}. Best is trial 134 with value: 0.9.\n",
      "[I 2025-06-27 05:25:55,536] Trial 135 finished with value: 0.8770053475935828 and parameters: {'n_estimators': 188, 'max_depth': 5, 'learning_rate': 0.05785081986759411, 'subsample': 0.7979898645005965, 'colsample_bytree': 0.8240547956710427, 'gamma': 4.4621909131457205}. Best is trial 134 with value: 0.9.\n",
      "[I 2025-06-27 05:25:57,047] Trial 136 finished with value: 0.8888888888888888 and parameters: {'n_estimators': 179, 'max_depth': 6, 'learning_rate': 0.08878242787692245, 'subsample': 0.7850687808362785, 'colsample_bytree': 0.8059540057507159, 'gamma': 4.371203103900597}. Best is trial 134 with value: 0.9.\n",
      "[I 2025-06-27 05:25:58,254] Trial 137 finished with value: 0.8913043478260869 and parameters: {'n_estimators': 171, 'max_depth': 5, 'learning_rate': 0.07248213254945053, 'subsample': 0.7494870062607173, 'colsample_bytree': 0.8451998815264836, 'gamma': 4.21311377071461}. Best is trial 134 with value: 0.9.\n",
      "[I 2025-06-27 05:25:59,507] Trial 138 finished with value: 0.8864864864864865 and parameters: {'n_estimators': 171, 'max_depth': 5, 'learning_rate': 0.07448160258140646, 'subsample': 0.7465450286513646, 'colsample_bytree': 0.8396965057395884, 'gamma': 4.707521907839133}. Best is trial 134 with value: 0.9.\n",
      "[I 2025-06-27 05:26:00,723] Trial 139 finished with value: 0.8677248677248677 and parameters: {'n_estimators': 165, 'max_depth': 5, 'learning_rate': 0.06963281322905032, 'subsample': 0.7709899738336181, 'colsample_bytree': 0.8631761433725559, 'gamma': 4.16543730583014}. Best is trial 134 with value: 0.9.\n",
      "[I 2025-06-27 05:26:01,848] Trial 140 finished with value: 0.8497409326424871 and parameters: {'n_estimators': 158, 'max_depth': 5, 'learning_rate': 0.04941560557291562, 'subsample': 0.7593136028968782, 'colsample_bytree': 0.8473569167946957, 'gamma': 4.0185204171411755}. Best is trial 134 with value: 0.9.\n",
      "[I 2025-06-27 05:26:03,284] Trial 141 finished with value: 0.898876404494382 and parameters: {'n_estimators': 178, 'max_depth': 8, 'learning_rate': 0.11016699773510663, 'subsample': 0.7313859348565961, 'colsample_bytree': 0.8512439827002342, 'gamma': 4.228321482394435}. Best is trial 134 with value: 0.9.\n",
      "[I 2025-06-27 05:26:05,009] Trial 142 finished with value: 0.8764044943820225 and parameters: {'n_estimators': 179, 'max_depth': 8, 'learning_rate': 0.08280136260446583, 'subsample': 0.7344705599553116, 'colsample_bytree': 0.8298766869230326, 'gamma': 4.236191980921801}. Best is trial 134 with value: 0.9.\n",
      "[I 2025-06-27 05:26:06,318] Trial 143 finished with value: 0.8777777777777778 and parameters: {'n_estimators': 175, 'max_depth': 8, 'learning_rate': 0.11059295006929848, 'subsample': 0.7483971653962895, 'colsample_bytree': 0.8591944778600344, 'gamma': 4.577893600468289}. Best is trial 134 with value: 0.9.\n",
      "[I 2025-06-27 05:26:07,769] Trial 144 finished with value: 0.8813559322033898 and parameters: {'n_estimators': 167, 'max_depth': 8, 'learning_rate': 0.0926215016086945, 'subsample': 0.7847875835692789, 'colsample_bytree': 0.89162412667707, 'gamma': 3.913088517610796}. Best is trial 134 with value: 0.9.\n",
      "[I 2025-06-27 05:26:09,378] Trial 145 finished with value: 0.8888888888888888 and parameters: {'n_estimators': 184, 'max_depth': 8, 'learning_rate': 0.10412331003042626, 'subsample': 0.7664532203165899, 'colsample_bytree': 0.8476707698687987, 'gamma': 4.460839805486658}. Best is trial 134 with value: 0.9.\n",
      "[I 2025-06-27 05:26:11,118] Trial 146 finished with value: 0.8839779005524862 and parameters: {'n_estimators': 191, 'max_depth': 8, 'learning_rate': 0.0727084233786412, 'subsample': 0.7959558854481289, 'colsample_bytree': 0.87349131897503, 'gamma': 4.0947449851138975}. Best is trial 134 with value: 0.9.\n",
      "[I 2025-06-27 05:26:12,387] Trial 147 finished with value: 0.8950276243093923 and parameters: {'n_estimators': 172, 'max_depth': 5, 'learning_rate': 0.09815546133058914, 'subsample': 0.7372995973400299, 'colsample_bytree': 0.8333941048668265, 'gamma': 4.751523140014303}. Best is trial 134 with value: 0.9.\n",
      "[I 2025-06-27 05:26:13,592] Trial 148 finished with value: 0.8791208791208791 and parameters: {'n_estimators': 161, 'max_depth': 5, 'learning_rate': 0.09974292021729339, 'subsample': 0.7200205272301407, 'colsample_bytree': 0.8415723653143412, 'gamma': 4.773183355408257}. Best is trial 134 with value: 0.9.\n",
      "[I 2025-06-27 05:26:14,837] Trial 149 finished with value: 0.88268156424581 and parameters: {'n_estimators': 170, 'max_depth': 5, 'learning_rate': 0.11087108425212906, 'subsample': 0.7336681373704251, 'colsample_bytree': 0.8225619928396563, 'gamma': 4.856657857132227}. Best is trial 134 with value: 0.9.\n",
      "[I 2025-06-27 05:26:16,167] Trial 150 finished with value: 0.8777777777777778 and parameters: {'n_estimators': 155, 'max_depth': 10, 'learning_rate': 0.09830193632395601, 'subsample': 0.7160583013490314, 'colsample_bytree': 0.8547255443493104, 'gamma': 4.673692578286665}. Best is trial 134 with value: 0.9.\n",
      "[I 2025-06-27 05:26:17,249] Trial 151 finished with value: 0.8586387434554974 and parameters: {'n_estimators': 177, 'max_depth': 4, 'learning_rate': 0.08154328795975822, 'subsample': 0.7736651691876364, 'colsample_bytree': 0.9704981139153415, 'gamma': 4.556009090559946}. Best is trial 134 with value: 0.9.\n",
      "[I 2025-06-27 05:26:18,545] Trial 152 finished with value: 0.8729281767955801 and parameters: {'n_estimators': 174, 'max_depth': 5, 'learning_rate': 0.09170903895921169, 'subsample': 0.7509037333959044, 'colsample_bytree': 0.8300492778694394, 'gamma': 2.3505091009273045}. Best is trial 134 with value: 0.9.\n",
      "[I 2025-06-27 05:26:19,858] Trial 153 finished with value: 0.8864864864864865 and parameters: {'n_estimators': 184, 'max_depth': 5, 'learning_rate': 0.06300797559370071, 'subsample': 0.7391884508390167, 'colsample_bytree': 0.8367877224843608, 'gamma': 4.3193103309433205}. Best is trial 134 with value: 0.9.\n",
      "[I 2025-06-27 05:26:21,089] Trial 154 finished with value: 0.8888888888888888 and parameters: {'n_estimators': 164, 'max_depth': 8, 'learning_rate': 0.12135264291093553, 'subsample': 0.7547159090588818, 'colsample_bytree': 0.8800697108120372, 'gamma': 4.9147868591083235}. Best is trial 134 with value: 0.9.\n",
      "[I 2025-06-27 05:26:22,544] Trial 155 finished with value: 0.8764044943820225 and parameters: {'n_estimators': 194, 'max_depth': 5, 'learning_rate': 0.11348062852934887, 'subsample': 0.6997013988350733, 'colsample_bytree': 0.8101309269581349, 'gamma': 0.39804212847163845}. Best is trial 134 with value: 0.9.\n",
      "[I 2025-06-27 05:26:23,761] Trial 156 finished with value: 0.8764044943820225 and parameters: {'n_estimators': 171, 'max_depth': 6, 'learning_rate': 0.10564412398265659, 'subsample': 0.8971632472918462, 'colsample_bytree': 0.8569107149605887, 'gamma': 3.8187026084262374}. Best is trial 134 with value: 0.9.\n",
      "[I 2025-06-27 05:26:25,159] Trial 157 finished with value: 0.8715083798882681 and parameters: {'n_estimators': 178, 'max_depth': 9, 'learning_rate': 0.0868793495807829, 'subsample': 0.818074400622946, 'colsample_bytree': 0.8648481420701193, 'gamma': 4.185793415055826}. Best is trial 134 with value: 0.9.\n",
      "[I 2025-06-27 05:26:26,196] Trial 158 finished with value: 0.8393782383419689 and parameters: {'n_estimators': 143, 'max_depth': 5, 'learning_rate': 0.054086454434221554, 'subsample': 0.7900416601632951, 'colsample_bytree': 0.9911450127734465, 'gamma': 4.0173313381498525}. Best is trial 134 with value: 0.9.\n",
      "[I 2025-06-27 05:26:27,798] Trial 159 finished with value: 0.8839779005524862 and parameters: {'n_estimators': 188, 'max_depth': 8, 'learning_rate': 0.0773328073714811, 'subsample': 0.7775970680572701, 'colsample_bytree': 0.84407539356998, 'gamma': 3.7035269052012767}. Best is trial 134 with value: 0.9.\n",
      "[I 2025-06-27 05:26:29,173] Trial 160 finished with value: 0.8888888888888888 and parameters: {'n_estimators': 167, 'max_depth': 6, 'learning_rate': 0.09520128030902492, 'subsample': 0.7655992089729226, 'colsample_bytree': 0.9139159737241291, 'gamma': 4.499972251626003}. Best is trial 134 with value: 0.9.\n",
      "[I 2025-06-27 05:26:30,223] Trial 161 finished with value: 0.88268156424581 and parameters: {'n_estimators': 182, 'max_depth': 6, 'learning_rate': 0.22957350955723757, 'subsample': 0.6736769406409612, 'colsample_bytree': 0.7694740105460424, 'gamma': 4.293033004995419}. Best is trial 134 with value: 0.9.\n",
      "[I 2025-06-27 05:26:31,844] Trial 162 finished with value: 0.88268156424581 and parameters: {'n_estimators': 202, 'max_depth': 6, 'learning_rate': 0.10370532106053561, 'subsample': 0.6957899908293642, 'colsample_bytree': 0.7826362624387802, 'gamma': 4.367495211291307}. Best is trial 134 with value: 0.9.\n",
      "[I 2025-06-27 05:26:32,846] Trial 163 finished with value: 0.8764044943820225 and parameters: {'n_estimators': 174, 'max_depth': 6, 'learning_rate': 0.24035272710703204, 'subsample': 0.7083196236308006, 'colsample_bytree': 0.7599522632542903, 'gamma': 4.185528988025139}. Best is trial 134 with value: 0.9.\n",
      "[I 2025-06-27 05:26:34,274] Trial 164 finished with value: 0.8839779005524862 and parameters: {'n_estimators': 160, 'max_depth': 6, 'learning_rate': 0.06887478351745044, 'subsample': 0.7279077426036628, 'colsample_bytree': 0.7452956088511138, 'gamma': 4.645767970863582}. Best is trial 134 with value: 0.9.\n",
      "[I 2025-06-27 05:26:35,299] Trial 165 finished with value: 0.8888888888888888 and parameters: {'n_estimators': 181, 'max_depth': 7, 'learning_rate': 0.2185219782216088, 'subsample': 0.7384176716186739, 'colsample_bytree': 0.8194787093912614, 'gamma': 4.792347577807249}. Best is trial 134 with value: 0.9.\n",
      "[I 2025-06-27 05:26:36,314] Trial 166 finished with value: 0.8777777777777778 and parameters: {'n_estimators': 189, 'max_depth': 5, 'learning_rate': 0.22500630972410374, 'subsample': 0.8381363340834471, 'colsample_bytree': 0.7969870142798892, 'gamma': 3.8985907985260777}. Best is trial 134 with value: 0.9.\n",
      "[I 2025-06-27 05:26:37,207] Trial 167 finished with value: 0.8901098901098901 and parameters: {'n_estimators': 171, 'max_depth': 8, 'learning_rate': 0.23262609935751924, 'subsample': 0.8628224161542306, 'colsample_bytree': 0.8103189617561638, 'gamma': 4.988171919738853}. Best is trial 134 with value: 0.9.\n",
      "[I 2025-06-27 05:26:38,532] Trial 168 finished with value: 0.8839779005524862 and parameters: {'n_estimators': 166, 'max_depth': 8, 'learning_rate': 0.08436574907064831, 'subsample': 0.8656344095554714, 'colsample_bytree': 0.8268679070222004, 'gamma': 4.928286843799891}. Best is trial 134 with value: 0.9.\n",
      "[I 2025-06-27 05:26:39,459] Trial 169 finished with value: 0.8938547486033519 and parameters: {'n_estimators': 156, 'max_depth': 8, 'learning_rate': 0.2344097769452964, 'subsample': 0.8884874692683716, 'colsample_bytree': 0.8338575007971344, 'gamma': 3.5710594995971165}. Best is trial 134 with value: 0.9.\n",
      "[I 2025-06-27 05:26:40,664] Trial 170 finished with value: 0.8876404494382022 and parameters: {'n_estimators': 150, 'max_depth': 8, 'learning_rate': 0.09371099512753447, 'subsample': 0.8772152817907947, 'colsample_bytree': 0.8361873594194386, 'gamma': 3.587647839213198}. Best is trial 134 with value: 0.9.\n",
      "[I 2025-06-27 05:26:41,518] Trial 171 finished with value: 0.8876404494382022 and parameters: {'n_estimators': 156, 'max_depth': 8, 'learning_rate': 0.2348288152135172, 'subsample': 0.8870597002664361, 'colsample_bytree': 0.8489843485162222, 'gamma': 3.4534834463141753}. Best is trial 134 with value: 0.9.\n",
      "[I 2025-06-27 05:26:42,360] Trial 172 finished with value: 0.8777777777777778 and parameters: {'n_estimators': 173, 'max_depth': 8, 'learning_rate': 0.2498887654334154, 'subsample': 0.9063909167749573, 'colsample_bytree': 0.8175998826730139, 'gamma': 3.7144905217690347}. Best is trial 134 with value: 0.9.\n",
      "[I 2025-06-27 05:26:43,166] Trial 173 finished with value: 0.8791208791208791 and parameters: {'n_estimators': 136, 'max_depth': 8, 'learning_rate': 0.2413541821501421, 'subsample': 0.852820532582072, 'colsample_bytree': 0.8101158098427845, 'gamma': 4.9997836345026}. Best is trial 134 with value: 0.9.\n",
      "[I 2025-06-27 05:26:44,067] Trial 174 finished with value: 0.8839779005524862 and parameters: {'n_estimators': 162, 'max_depth': 8, 'learning_rate': 0.2269020105811173, 'subsample': 0.9158575107082232, 'colsample_bytree': 0.7369486341508193, 'gamma': 3.5148273401856818}. Best is trial 134 with value: 0.9.\n",
      "[I 2025-06-27 05:26:45,199] Trial 175 finished with value: 0.9 and parameters: {'n_estimators': 169, 'max_depth': 8, 'learning_rate': 0.1163795573826688, 'subsample': 0.8613722030006019, 'colsample_bytree': 0.8518413119456117, 'gamma': 4.766802167576063}. Best is trial 134 with value: 0.9.\n",
      "[I 2025-06-27 05:26:46,469] Trial 176 finished with value: 0.875 and parameters: {'n_estimators': 146, 'max_depth': 9, 'learning_rate': 0.1133701313925559, 'subsample': 0.8922574093562522, 'colsample_bytree': 0.8647072194053461, 'gamma': 0.9675084058023187}. Best is trial 134 with value: 0.9.\n",
      "[I 2025-06-27 05:26:47,528] Trial 177 finished with value: 0.8938547486033519 and parameters: {'n_estimators': 156, 'max_depth': 8, 'learning_rate': 0.12424827893715794, 'subsample': 0.881607360202153, 'colsample_bytree': 0.8548665881230931, 'gamma': 4.74790416089329}. Best is trial 134 with value: 0.9.\n",
      "[I 2025-06-27 05:26:48,593] Trial 178 finished with value: 0.9060773480662984 and parameters: {'n_estimators': 152, 'max_depth': 8, 'learning_rate': 0.12489056025053005, 'subsample': 0.8682901249711722, 'colsample_bytree': 0.8497553119188078, 'gamma': 4.627293572292331}. Best is trial 178 with value: 0.9060773480662984.\n",
      "[I 2025-06-27 05:26:49,564] Trial 179 finished with value: 0.8938547486033519 and parameters: {'n_estimators': 154, 'max_depth': 8, 'learning_rate': 0.13030671391043777, 'subsample': 0.932935612699508, 'colsample_bytree': 0.8716716433385874, 'gamma': 4.754167788394047}. Best is trial 178 with value: 0.9060773480662984.\n",
      "[I 2025-06-27 05:26:50,549] Trial 180 finished with value: 0.8813559322033898 and parameters: {'n_estimators': 152, 'max_depth': 8, 'learning_rate': 0.1402521345918064, 'subsample': 0.8991038584859286, 'colsample_bytree': 0.8831526224149523, 'gamma': 4.639318742209499}. Best is trial 178 with value: 0.9060773480662984.\n",
      "[I 2025-06-27 05:26:51,540] Trial 181 finished with value: 0.8876404494382022 and parameters: {'n_estimators': 157, 'max_depth': 8, 'learning_rate': 0.12692140567015162, 'subsample': 0.9392601082831221, 'colsample_bytree': 0.8535698273484301, 'gamma': 4.758593258922879}. Best is trial 178 with value: 0.9060773480662984.\n",
      "[I 2025-06-27 05:26:52,451] Trial 182 finished with value: 0.8764044943820225 and parameters: {'n_estimators': 148, 'max_depth': 8, 'learning_rate': 0.133174038417195, 'subsample': 0.9920453262928781, 'colsample_bytree': 0.8708359866141924, 'gamma': 4.81527036182452}. Best is trial 178 with value: 0.9060773480662984.\n",
      "[I 2025-06-27 05:26:53,458] Trial 183 finished with value: 0.875 and parameters: {'n_estimators': 161, 'max_depth': 8, 'learning_rate': 0.12133621207654696, 'subsample': 0.9774885490145421, 'colsample_bytree': 0.8587659924781094, 'gamma': 4.714831015127093}. Best is trial 178 with value: 0.9060773480662984.\n",
      "[I 2025-06-27 05:26:54,584] Trial 184 finished with value: 0.8876404494382022 and parameters: {'n_estimators': 166, 'max_depth': 8, 'learning_rate': 0.11938797700550273, 'subsample': 0.8854945581280372, 'colsample_bytree': 0.8478780155767784, 'gamma': 4.544594693151374}. Best is trial 178 with value: 0.9060773480662984.\n",
      "[I 2025-06-27 05:26:55,936] Trial 185 finished with value: 0.8950276243093923 and parameters: {'n_estimators': 269, 'max_depth': 8, 'learning_rate': 0.11628046668445752, 'subsample': 0.8696904090052094, 'colsample_bytree': 0.9029084265820425, 'gamma': 4.439833644900806}. Best is trial 178 with value: 0.9060773480662984.\n",
      "[I 2025-06-27 05:26:57,346] Trial 186 finished with value: 0.8876404494382022 and parameters: {'n_estimators': 300, 'max_depth': 8, 'learning_rate': 0.1256271079085116, 'subsample': 0.8798893641892468, 'colsample_bytree': 0.8781475870260829, 'gamma': 4.634449256801496}. Best is trial 178 with value: 0.9060773480662984.\n",
      "[I 2025-06-27 05:26:58,689] Trial 187 finished with value: 0.8764044943820225 and parameters: {'n_estimators': 255, 'max_depth': 8, 'learning_rate': 0.1166326585667894, 'subsample': 0.9303182371480632, 'colsample_bytree': 0.8993067903321793, 'gamma': 4.527017905882572}. Best is trial 178 with value: 0.9060773480662984.\n",
      "[I 2025-06-27 05:26:59,836] Trial 188 finished with value: 0.8888888888888888 and parameters: {'n_estimators': 225, 'max_depth': 8, 'learning_rate': 0.15736563351259722, 'subsample': 0.8719976510922247, 'colsample_bytree': 0.8908453754773531, 'gamma': 4.4277791422511665}. Best is trial 178 with value: 0.9060773480662984.\n",
      "[I 2025-06-27 05:27:01,118] Trial 189 finished with value: 0.9060773480662984 and parameters: {'n_estimators': 247, 'max_depth': 8, 'learning_rate': 0.12994985166993125, 'subsample': 0.8563587249728405, 'colsample_bytree': 0.8713033977373561, 'gamma': 4.750587114873147}. Best is trial 178 with value: 0.9060773480662984.\n",
      "[I 2025-06-27 05:27:02,360] Trial 190 finished with value: 0.8938547486033519 and parameters: {'n_estimators': 250, 'max_depth': 8, 'learning_rate': 0.14313867666761187, 'subsample': 0.8565701570241151, 'colsample_bytree': 0.8677737903972952, 'gamma': 4.841459404719471}. Best is trial 178 with value: 0.9060773480662984.\n",
      "[I 2025-06-27 05:27:03,753] Trial 191 finished with value: 0.8715083798882681 and parameters: {'n_estimators': 283, 'max_depth': 8, 'learning_rate': 0.1463618373042248, 'subsample': 0.8618521186132524, 'colsample_bytree': 0.908775837397306, 'gamma': 4.848617780804541}. Best is trial 178 with value: 0.9060773480662984.\n",
      "[I 2025-06-27 05:27:05,052] Trial 192 finished with value: 0.8938547486033519 and parameters: {'n_estimators': 254, 'max_depth': 8, 'learning_rate': 0.13702119510391317, 'subsample': 0.8554809590682871, 'colsample_bytree': 0.8712873572209106, 'gamma': 4.747610606925156}. Best is trial 178 with value: 0.9060773480662984.\n",
      "[I 2025-06-27 05:27:06,454] Trial 193 finished with value: 0.8888888888888888 and parameters: {'n_estimators': 265, 'max_depth': 8, 'learning_rate': 0.13997709782301299, 'subsample': 0.852957300965373, 'colsample_bytree': 0.870139219884902, 'gamma': 4.713113631128719}. Best is trial 178 with value: 0.9060773480662984.\n",
      "[I 2025-06-27 05:27:07,721] Trial 194 finished with value: 0.8876404494382022 and parameters: {'n_estimators': 250, 'max_depth': 8, 'learning_rate': 0.1330925306887095, 'subsample': 0.8683094677642519, 'colsample_bytree': 0.8866280886779082, 'gamma': 4.839885153492656}. Best is trial 178 with value: 0.9060773480662984.\n",
      "[I 2025-06-27 05:27:09,105] Trial 195 finished with value: 0.8813559322033898 and parameters: {'n_estimators': 266, 'max_depth': 8, 'learning_rate': 0.12809087660552107, 'subsample': 0.9544421637159544, 'colsample_bytree': 0.8710146552629427, 'gamma': 4.765441982884304}. Best is trial 178 with value: 0.9060773480662984.\n",
      "[I 2025-06-27 05:27:10,285] Trial 196 finished with value: 0.8764044943820225 and parameters: {'n_estimators': 241, 'max_depth': 8, 'learning_rate': 0.1529393431133793, 'subsample': 0.8778212021366145, 'colsample_bytree': 0.8795991928265078, 'gamma': 4.630597585274331}. Best is trial 178 with value: 0.9060773480662984.\n",
      "[I 2025-06-27 05:27:11,625] Trial 197 finished with value: 0.8950276243093923 and parameters: {'n_estimators': 272, 'max_depth': 8, 'learning_rate': 0.1440378735724302, 'subsample': 0.8435067418414596, 'colsample_bytree': 0.8587568844422735, 'gamma': 4.9001669834511254}. Best is trial 178 with value: 0.9060773480662984.\n",
      "[I 2025-06-27 05:27:12,983] Trial 198 finished with value: 0.8791208791208791 and parameters: {'n_estimators': 291, 'max_depth': 9, 'learning_rate': 0.14335393799405297, 'subsample': 0.8367429281626203, 'colsample_bytree': 0.8603898232387303, 'gamma': 4.885498733735945}. Best is trial 178 with value: 0.9060773480662984.\n",
      "[I 2025-06-27 05:27:14,275] Trial 199 finished with value: 0.8888888888888888 and parameters: {'n_estimators': 243, 'max_depth': 8, 'learning_rate': 0.13116644761602325, 'subsample': 0.8406819569679199, 'colsample_bytree': 0.8960299883433896, 'gamma': 4.921754195278576}. Best is trial 178 with value: 0.9060773480662984.\n"
     ]
    },
    {
     "name": "stdout",
     "output_type": "stream",
     "text": [
      "Best parameters: {'n_estimators': 152, 'max_depth': 8, 'learning_rate': 0.12489056025053005, 'subsample': 0.8682901249711722, 'colsample_bytree': 0.8497553119188078, 'gamma': 4.627293572292331}\n",
      "Best F1 score: 0.9060773480662984\n"
     ]
    }
   ],
   "source": [
    "import optuna\n",
    "from sklearn.metrics import f1_score  # or accuracy_score\n",
    "\n",
    "\n",
    "def objective(trial):\n",
    "    param = {\n",
    "        'n_estimators': trial.suggest_int('n_estimators', 50, 300),\n",
    "        'max_depth': trial.suggest_int('max_depth', 3, 10),\n",
    "        'learning_rate': trial.suggest_float('learning_rate', 0.01, 0.3),\n",
    "        'scale_pos_weight': ratio_positive,\n",
    "        'subsample': trial.suggest_float('subsample', 0.5, 1.0),\n",
    "        'colsample_bytree': trial.suggest_float('colsample_bytree', 0.5, 1.0),\n",
    "        'gamma': trial.suggest_float('gamma', 0.0, 5.0)\n",
    "        }\n",
    "    \n",
    "    xgb = XGBClassifier(**param)\n",
    "    xgb.fit(X_train, y_train)\n",
    "    \n",
    "    y_scores = xgb.predict_proba(X_test)[:, 1]\n",
    "    y_pred = (y_scores > 0.92).astype(int)\n",
    "    f1 = f1_score(y_test, y_pred)\n",
    "    \n",
    "    return f1\n",
    "\n",
    "\n",
    "optuna_study = optuna.create_study(direction='maximize')\n",
    "optuna_study.optimize(objective, n_trials=200)\n",
    "\n",
    "print(\"Best parameters:\", optuna_study.best_params)\n",
    "print(\"Best F1 score:\", optuna_study.best_value)"
   ]
  },
  {
   "cell_type": "code",
   "execution_count": 97,
   "id": "9704b586",
   "metadata": {},
   "outputs": [
    {
     "name": "stdout",
     "output_type": "stream",
     "text": [
      "[[56863     1]\n",
      " [   16    82]]\n",
      "              precision    recall  f1-score   support\n",
      "\n",
      "           0       1.00      1.00      1.00     56864\n",
      "           1       0.99      0.84      0.91        98\n",
      "\n",
      "    accuracy                           1.00     56962\n",
      "   macro avg       0.99      0.92      0.95     56962\n",
      "weighted avg       1.00      1.00      1.00     56962\n",
      "\n"
     ]
    }
   ],
   "source": [
    "# Train a new model with the best parameters found by Optuna\n",
    "best_params = optuna_study.best_params\n",
    "best_params['scale_pos_weight'] = ratio_positive  # ensure class imbalance param is set\n",
    "\n",
    "xgb_optuna = XGBClassifier(**best_params)\n",
    "xgb_optuna.fit(X_train, y_train)\n",
    "\n",
    "y_scores_optuna = xgb_optuna.predict_proba(X_test)[:, 1]\n",
    "y_pred_optuna = (y_scores_optuna > 0.93).astype(int)\n",
    "print(confusion_matrix(y_test, y_pred_optuna))\n",
    "print(classification_report(y_test, y_pred_optuna))"
   ]
  },
  {
   "cell_type": "code",
   "execution_count": 88,
   "id": "8f8fcf15",
   "metadata": {},
   "outputs": [
    {
     "data": {
      "application/vnd.plotly.v1+json": {
       "config": {
        "plotlyServerURL": "https://plot.ly"
       },
       "data": [
        {
         "mode": "markers",
         "name": "Objective Value",
         "type": "scatter",
         "x": [
          0,
          1,
          2,
          3,
          4,
          5,
          6,
          7,
          8,
          9,
          10,
          11,
          12,
          13,
          14,
          15,
          16,
          17,
          18,
          19,
          20,
          21,
          22,
          23,
          24,
          25,
          26,
          27,
          28,
          29,
          30,
          31,
          32,
          33,
          34,
          35,
          36,
          37,
          38,
          39,
          40,
          41,
          42,
          43,
          44,
          45,
          46,
          47,
          48,
          49,
          50,
          51,
          52,
          53,
          54,
          55,
          56,
          57,
          58,
          59,
          60,
          61,
          62,
          63,
          64,
          65,
          66,
          67,
          68,
          69,
          70,
          71,
          72,
          73,
          74,
          75,
          76,
          77,
          78,
          79,
          80,
          81,
          82,
          83,
          84,
          85,
          86,
          87,
          88,
          89,
          90,
          91,
          92,
          93,
          94,
          95,
          96,
          97,
          98,
          99,
          100,
          101,
          102,
          103,
          104,
          105,
          106,
          107,
          108,
          109,
          110,
          111,
          112,
          113,
          114,
          115,
          116,
          117,
          118,
          119,
          120,
          121,
          122,
          123,
          124,
          125,
          126,
          127,
          128,
          129,
          130,
          131,
          132,
          133,
          134,
          135,
          136,
          137,
          138,
          139,
          140,
          141,
          142,
          143,
          144,
          145,
          146,
          147,
          148,
          149,
          150,
          151,
          152,
          153,
          154,
          155,
          156,
          157,
          158,
          159,
          160,
          161,
          162,
          163,
          164,
          165,
          166,
          167,
          168,
          169,
          170,
          171,
          172,
          173,
          174,
          175,
          176,
          177,
          178,
          179,
          180,
          181,
          182,
          183,
          184,
          185,
          186,
          187,
          188,
          189,
          190,
          191,
          192,
          193,
          194,
          195,
          196,
          197,
          198,
          199
         ],
         "y": [
          0.8556149732620321,
          0.8729281767955801,
          0.8729281767955801,
          0.8839779005524862,
          0.845360824742268,
          0.8497409326424871,
          0.7148936170212766,
          0.8777777777777778,
          0.8813559322033898,
          0.8512820512820513,
          0.8764044943820225,
          0.8950276243093923,
          0.8685714285714285,
          0.875,
          0.8586956521739131,
          0.8764044943820225,
          0.875,
          0.8636363636363636,
          0.8888888888888888,
          0.8777777777777778,
          0.875,
          0.861878453038674,
          0.8764044943820225,
          0.8777777777777778,
          0.88268156424581,
          0.8764044943820225,
          0.8813559322033898,
          0.8777777777777778,
          0.8571428571428571,
          0.8764044943820225,
          0.8715083798882681,
          0.8888888888888888,
          0.8901098901098901,
          0.8888888888888888,
          0.8863636363636364,
          0.8876404494382022,
          0.88268156424581,
          0.88268156424581,
          0.875,
          0.8777777777777778,
          0.8729281767955801,
          0.8764044943820225,
          0.8901098901098901,
          0.8571428571428571,
          0.8663101604278075,
          0.8901098901098901,
          0.8586387434554974,
          0.8426395939086294,
          0.8839779005524862,
          0.8066298342541437,
          0.8235294117647058,
          0.8813559322033898,
          0.8715083798882681,
          0.88268156424581,
          0.88268156424581,
          0.8938547486033519,
          0.88268156424581,
          0.8888888888888888,
          0.8950276243093923,
          0.88268156424581,
          0.8764044943820225,
          0.88268156424581,
          0.8876404494382022,
          0.8791208791208791,
          0.8777777777777778,
          0.8764044943820225,
          0.8813559322033898,
          0.8888888888888888,
          0.8681318681318682,
          0.88268156424581,
          0.8481675392670157,
          0.8777777777777778,
          0.8938547486033519,
          0.8764044943820225,
          0.8764044943820225,
          0.8651685393258427,
          0.8764044943820225,
          0.8888888888888888,
          0.8791208791208791,
          0.8938547486033519,
          0.8764044943820225,
          0.8813559322033898,
          0.875,
          0.8715083798882681,
          0.8715083798882681,
          0.8888888888888888,
          0.8777777777777778,
          0.8839779005524862,
          0.875,
          0.8526315789473684,
          0.8764044943820225,
          0.8813559322033898,
          0.8938547486033519,
          0.8715083798882681,
          0.8876404494382022,
          0.88268156424581,
          0.8813559322033898,
          0.8764044943820225,
          0.8700564971751412,
          0.8571428571428571,
          0.8715083798882681,
          0.88268156424581,
          0.8938547486033519,
          0.8764044943820225,
          0.8813559322033898,
          0.8777777777777778,
          0.875,
          0.8764044943820225,
          0.8777777777777778,
          0.861878453038674,
          0.8764044943820225,
          0.8813559322033898,
          0.8764044943820225,
          0.8764044943820225,
          0.88268156424581,
          0.875,
          0.8813559322033898,
          0.8677248677248677,
          0.8876404494382022,
          0.8743169398907104,
          0.8876404494382022,
          0.88268156424581,
          0.8888888888888888,
          0.88268156424581,
          0.8888888888888888,
          0.8541666666666666,
          0.8764044943820225,
          0.8839779005524862,
          0.88268156424581,
          0.8938547486033519,
          0.8888888888888888,
          0.8901098901098901,
          0.8791208791208791,
          0.8888888888888888,
          0.9,
          0.8770053475935828,
          0.8888888888888888,
          0.8913043478260869,
          0.8864864864864865,
          0.8677248677248677,
          0.8497409326424871,
          0.898876404494382,
          0.8764044943820225,
          0.8777777777777778,
          0.8813559322033898,
          0.8888888888888888,
          0.8839779005524862,
          0.8950276243093923,
          0.8791208791208791,
          0.88268156424581,
          0.8777777777777778,
          0.8586387434554974,
          0.8729281767955801,
          0.8864864864864865,
          0.8888888888888888,
          0.8764044943820225,
          0.8764044943820225,
          0.8715083798882681,
          0.8393782383419689,
          0.8839779005524862,
          0.8888888888888888,
          0.88268156424581,
          0.88268156424581,
          0.8764044943820225,
          0.8839779005524862,
          0.8888888888888888,
          0.8777777777777778,
          0.8901098901098901,
          0.8839779005524862,
          0.8938547486033519,
          0.8876404494382022,
          0.8876404494382022,
          0.8777777777777778,
          0.8791208791208791,
          0.8839779005524862,
          0.9,
          0.875,
          0.8938547486033519,
          0.9060773480662984,
          0.8938547486033519,
          0.8813559322033898,
          0.8876404494382022,
          0.8764044943820225,
          0.875,
          0.8876404494382022,
          0.8950276243093923,
          0.8876404494382022,
          0.8764044943820225,
          0.8888888888888888,
          0.9060773480662984,
          0.8938547486033519,
          0.8715083798882681,
          0.8938547486033519,
          0.8888888888888888,
          0.8876404494382022,
          0.8813559322033898,
          0.8764044943820225,
          0.8950276243093923,
          0.8791208791208791,
          0.8888888888888888
         ]
        },
        {
         "mode": "lines",
         "name": "Best Value",
         "type": "scatter",
         "x": [
          0,
          1,
          2,
          3,
          4,
          5,
          6,
          7,
          8,
          9,
          10,
          11,
          12,
          13,
          14,
          15,
          16,
          17,
          18,
          19,
          20,
          21,
          22,
          23,
          24,
          25,
          26,
          27,
          28,
          29,
          30,
          31,
          32,
          33,
          34,
          35,
          36,
          37,
          38,
          39,
          40,
          41,
          42,
          43,
          44,
          45,
          46,
          47,
          48,
          49,
          50,
          51,
          52,
          53,
          54,
          55,
          56,
          57,
          58,
          59,
          60,
          61,
          62,
          63,
          64,
          65,
          66,
          67,
          68,
          69,
          70,
          71,
          72,
          73,
          74,
          75,
          76,
          77,
          78,
          79,
          80,
          81,
          82,
          83,
          84,
          85,
          86,
          87,
          88,
          89,
          90,
          91,
          92,
          93,
          94,
          95,
          96,
          97,
          98,
          99,
          100,
          101,
          102,
          103,
          104,
          105,
          106,
          107,
          108,
          109,
          110,
          111,
          112,
          113,
          114,
          115,
          116,
          117,
          118,
          119,
          120,
          121,
          122,
          123,
          124,
          125,
          126,
          127,
          128,
          129,
          130,
          131,
          132,
          133,
          134,
          135,
          136,
          137,
          138,
          139,
          140,
          141,
          142,
          143,
          144,
          145,
          146,
          147,
          148,
          149,
          150,
          151,
          152,
          153,
          154,
          155,
          156,
          157,
          158,
          159,
          160,
          161,
          162,
          163,
          164,
          165,
          166,
          167,
          168,
          169,
          170,
          171,
          172,
          173,
          174,
          175,
          176,
          177,
          178,
          179,
          180,
          181,
          182,
          183,
          184,
          185,
          186,
          187,
          188,
          189,
          190,
          191,
          192,
          193,
          194,
          195,
          196,
          197,
          198,
          199
         ],
         "y": [
          0.8556149732620321,
          0.8729281767955801,
          0.8729281767955801,
          0.8839779005524862,
          0.8839779005524862,
          0.8839779005524862,
          0.8839779005524862,
          0.8839779005524862,
          0.8839779005524862,
          0.8839779005524862,
          0.8839779005524862,
          0.8950276243093923,
          0.8950276243093923,
          0.8950276243093923,
          0.8950276243093923,
          0.8950276243093923,
          0.8950276243093923,
          0.8950276243093923,
          0.8950276243093923,
          0.8950276243093923,
          0.8950276243093923,
          0.8950276243093923,
          0.8950276243093923,
          0.8950276243093923,
          0.8950276243093923,
          0.8950276243093923,
          0.8950276243093923,
          0.8950276243093923,
          0.8950276243093923,
          0.8950276243093923,
          0.8950276243093923,
          0.8950276243093923,
          0.8950276243093923,
          0.8950276243093923,
          0.8950276243093923,
          0.8950276243093923,
          0.8950276243093923,
          0.8950276243093923,
          0.8950276243093923,
          0.8950276243093923,
          0.8950276243093923,
          0.8950276243093923,
          0.8950276243093923,
          0.8950276243093923,
          0.8950276243093923,
          0.8950276243093923,
          0.8950276243093923,
          0.8950276243093923,
          0.8950276243093923,
          0.8950276243093923,
          0.8950276243093923,
          0.8950276243093923,
          0.8950276243093923,
          0.8950276243093923,
          0.8950276243093923,
          0.8950276243093923,
          0.8950276243093923,
          0.8950276243093923,
          0.8950276243093923,
          0.8950276243093923,
          0.8950276243093923,
          0.8950276243093923,
          0.8950276243093923,
          0.8950276243093923,
          0.8950276243093923,
          0.8950276243093923,
          0.8950276243093923,
          0.8950276243093923,
          0.8950276243093923,
          0.8950276243093923,
          0.8950276243093923,
          0.8950276243093923,
          0.8950276243093923,
          0.8950276243093923,
          0.8950276243093923,
          0.8950276243093923,
          0.8950276243093923,
          0.8950276243093923,
          0.8950276243093923,
          0.8950276243093923,
          0.8950276243093923,
          0.8950276243093923,
          0.8950276243093923,
          0.8950276243093923,
          0.8950276243093923,
          0.8950276243093923,
          0.8950276243093923,
          0.8950276243093923,
          0.8950276243093923,
          0.8950276243093923,
          0.8950276243093923,
          0.8950276243093923,
          0.8950276243093923,
          0.8950276243093923,
          0.8950276243093923,
          0.8950276243093923,
          0.8950276243093923,
          0.8950276243093923,
          0.8950276243093923,
          0.8950276243093923,
          0.8950276243093923,
          0.8950276243093923,
          0.8950276243093923,
          0.8950276243093923,
          0.8950276243093923,
          0.8950276243093923,
          0.8950276243093923,
          0.8950276243093923,
          0.8950276243093923,
          0.8950276243093923,
          0.8950276243093923,
          0.8950276243093923,
          0.8950276243093923,
          0.8950276243093923,
          0.8950276243093923,
          0.8950276243093923,
          0.8950276243093923,
          0.8950276243093923,
          0.8950276243093923,
          0.8950276243093923,
          0.8950276243093923,
          0.8950276243093923,
          0.8950276243093923,
          0.8950276243093923,
          0.8950276243093923,
          0.8950276243093923,
          0.8950276243093923,
          0.8950276243093923,
          0.8950276243093923,
          0.8950276243093923,
          0.8950276243093923,
          0.8950276243093923,
          0.8950276243093923,
          0.8950276243093923,
          0.9,
          0.9,
          0.9,
          0.9,
          0.9,
          0.9,
          0.9,
          0.9,
          0.9,
          0.9,
          0.9,
          0.9,
          0.9,
          0.9,
          0.9,
          0.9,
          0.9,
          0.9,
          0.9,
          0.9,
          0.9,
          0.9,
          0.9,
          0.9,
          0.9,
          0.9,
          0.9,
          0.9,
          0.9,
          0.9,
          0.9,
          0.9,
          0.9,
          0.9,
          0.9,
          0.9,
          0.9,
          0.9,
          0.9,
          0.9,
          0.9,
          0.9,
          0.9,
          0.9,
          0.9060773480662984,
          0.9060773480662984,
          0.9060773480662984,
          0.9060773480662984,
          0.9060773480662984,
          0.9060773480662984,
          0.9060773480662984,
          0.9060773480662984,
          0.9060773480662984,
          0.9060773480662984,
          0.9060773480662984,
          0.9060773480662984,
          0.9060773480662984,
          0.9060773480662984,
          0.9060773480662984,
          0.9060773480662984,
          0.9060773480662984,
          0.9060773480662984,
          0.9060773480662984,
          0.9060773480662984,
          0.9060773480662984,
          0.9060773480662984
         ]
        },
        {
         "marker": {
          "color": "#cccccc"
         },
         "mode": "markers",
         "name": "Infeasible Trial",
         "showlegend": false,
         "type": "scatter",
         "x": [],
         "y": []
        }
       ],
       "layout": {
        "template": {
         "data": {
          "bar": [
           {
            "error_x": {
             "color": "#2a3f5f"
            },
            "error_y": {
             "color": "#2a3f5f"
            },
            "marker": {
             "line": {
              "color": "#E5ECF6",
              "width": 0.5
             },
             "pattern": {
              "fillmode": "overlay",
              "size": 10,
              "solidity": 0.2
             }
            },
            "type": "bar"
           }
          ],
          "barpolar": [
           {
            "marker": {
             "line": {
              "color": "#E5ECF6",
              "width": 0.5
             },
             "pattern": {
              "fillmode": "overlay",
              "size": 10,
              "solidity": 0.2
             }
            },
            "type": "barpolar"
           }
          ],
          "carpet": [
           {
            "aaxis": {
             "endlinecolor": "#2a3f5f",
             "gridcolor": "white",
             "linecolor": "white",
             "minorgridcolor": "white",
             "startlinecolor": "#2a3f5f"
            },
            "baxis": {
             "endlinecolor": "#2a3f5f",
             "gridcolor": "white",
             "linecolor": "white",
             "minorgridcolor": "white",
             "startlinecolor": "#2a3f5f"
            },
            "type": "carpet"
           }
          ],
          "choropleth": [
           {
            "colorbar": {
             "outlinewidth": 0,
             "ticks": ""
            },
            "type": "choropleth"
           }
          ],
          "contour": [
           {
            "colorbar": {
             "outlinewidth": 0,
             "ticks": ""
            },
            "colorscale": [
             [
              0,
              "#0d0887"
             ],
             [
              0.1111111111111111,
              "#46039f"
             ],
             [
              0.2222222222222222,
              "#7201a8"
             ],
             [
              0.3333333333333333,
              "#9c179e"
             ],
             [
              0.4444444444444444,
              "#bd3786"
             ],
             [
              0.5555555555555556,
              "#d8576b"
             ],
             [
              0.6666666666666666,
              "#ed7953"
             ],
             [
              0.7777777777777778,
              "#fb9f3a"
             ],
             [
              0.8888888888888888,
              "#fdca26"
             ],
             [
              1,
              "#f0f921"
             ]
            ],
            "type": "contour"
           }
          ],
          "contourcarpet": [
           {
            "colorbar": {
             "outlinewidth": 0,
             "ticks": ""
            },
            "type": "contourcarpet"
           }
          ],
          "heatmap": [
           {
            "colorbar": {
             "outlinewidth": 0,
             "ticks": ""
            },
            "colorscale": [
             [
              0,
              "#0d0887"
             ],
             [
              0.1111111111111111,
              "#46039f"
             ],
             [
              0.2222222222222222,
              "#7201a8"
             ],
             [
              0.3333333333333333,
              "#9c179e"
             ],
             [
              0.4444444444444444,
              "#bd3786"
             ],
             [
              0.5555555555555556,
              "#d8576b"
             ],
             [
              0.6666666666666666,
              "#ed7953"
             ],
             [
              0.7777777777777778,
              "#fb9f3a"
             ],
             [
              0.8888888888888888,
              "#fdca26"
             ],
             [
              1,
              "#f0f921"
             ]
            ],
            "type": "heatmap"
           }
          ],
          "heatmapgl": [
           {
            "colorbar": {
             "outlinewidth": 0,
             "ticks": ""
            },
            "colorscale": [
             [
              0,
              "#0d0887"
             ],
             [
              0.1111111111111111,
              "#46039f"
             ],
             [
              0.2222222222222222,
              "#7201a8"
             ],
             [
              0.3333333333333333,
              "#9c179e"
             ],
             [
              0.4444444444444444,
              "#bd3786"
             ],
             [
              0.5555555555555556,
              "#d8576b"
             ],
             [
              0.6666666666666666,
              "#ed7953"
             ],
             [
              0.7777777777777778,
              "#fb9f3a"
             ],
             [
              0.8888888888888888,
              "#fdca26"
             ],
             [
              1,
              "#f0f921"
             ]
            ],
            "type": "heatmapgl"
           }
          ],
          "histogram": [
           {
            "marker": {
             "pattern": {
              "fillmode": "overlay",
              "size": 10,
              "solidity": 0.2
             }
            },
            "type": "histogram"
           }
          ],
          "histogram2d": [
           {
            "colorbar": {
             "outlinewidth": 0,
             "ticks": ""
            },
            "colorscale": [
             [
              0,
              "#0d0887"
             ],
             [
              0.1111111111111111,
              "#46039f"
             ],
             [
              0.2222222222222222,
              "#7201a8"
             ],
             [
              0.3333333333333333,
              "#9c179e"
             ],
             [
              0.4444444444444444,
              "#bd3786"
             ],
             [
              0.5555555555555556,
              "#d8576b"
             ],
             [
              0.6666666666666666,
              "#ed7953"
             ],
             [
              0.7777777777777778,
              "#fb9f3a"
             ],
             [
              0.8888888888888888,
              "#fdca26"
             ],
             [
              1,
              "#f0f921"
             ]
            ],
            "type": "histogram2d"
           }
          ],
          "histogram2dcontour": [
           {
            "colorbar": {
             "outlinewidth": 0,
             "ticks": ""
            },
            "colorscale": [
             [
              0,
              "#0d0887"
             ],
             [
              0.1111111111111111,
              "#46039f"
             ],
             [
              0.2222222222222222,
              "#7201a8"
             ],
             [
              0.3333333333333333,
              "#9c179e"
             ],
             [
              0.4444444444444444,
              "#bd3786"
             ],
             [
              0.5555555555555556,
              "#d8576b"
             ],
             [
              0.6666666666666666,
              "#ed7953"
             ],
             [
              0.7777777777777778,
              "#fb9f3a"
             ],
             [
              0.8888888888888888,
              "#fdca26"
             ],
             [
              1,
              "#f0f921"
             ]
            ],
            "type": "histogram2dcontour"
           }
          ],
          "mesh3d": [
           {
            "colorbar": {
             "outlinewidth": 0,
             "ticks": ""
            },
            "type": "mesh3d"
           }
          ],
          "parcoords": [
           {
            "line": {
             "colorbar": {
              "outlinewidth": 0,
              "ticks": ""
             }
            },
            "type": "parcoords"
           }
          ],
          "pie": [
           {
            "automargin": true,
            "type": "pie"
           }
          ],
          "scatter": [
           {
            "fillpattern": {
             "fillmode": "overlay",
             "size": 10,
             "solidity": 0.2
            },
            "type": "scatter"
           }
          ],
          "scatter3d": [
           {
            "line": {
             "colorbar": {
              "outlinewidth": 0,
              "ticks": ""
             }
            },
            "marker": {
             "colorbar": {
              "outlinewidth": 0,
              "ticks": ""
             }
            },
            "type": "scatter3d"
           }
          ],
          "scattercarpet": [
           {
            "marker": {
             "colorbar": {
              "outlinewidth": 0,
              "ticks": ""
             }
            },
            "type": "scattercarpet"
           }
          ],
          "scattergeo": [
           {
            "marker": {
             "colorbar": {
              "outlinewidth": 0,
              "ticks": ""
             }
            },
            "type": "scattergeo"
           }
          ],
          "scattergl": [
           {
            "marker": {
             "colorbar": {
              "outlinewidth": 0,
              "ticks": ""
             }
            },
            "type": "scattergl"
           }
          ],
          "scattermapbox": [
           {
            "marker": {
             "colorbar": {
              "outlinewidth": 0,
              "ticks": ""
             }
            },
            "type": "scattermapbox"
           }
          ],
          "scatterpolar": [
           {
            "marker": {
             "colorbar": {
              "outlinewidth": 0,
              "ticks": ""
             }
            },
            "type": "scatterpolar"
           }
          ],
          "scatterpolargl": [
           {
            "marker": {
             "colorbar": {
              "outlinewidth": 0,
              "ticks": ""
             }
            },
            "type": "scatterpolargl"
           }
          ],
          "scatterternary": [
           {
            "marker": {
             "colorbar": {
              "outlinewidth": 0,
              "ticks": ""
             }
            },
            "type": "scatterternary"
           }
          ],
          "surface": [
           {
            "colorbar": {
             "outlinewidth": 0,
             "ticks": ""
            },
            "colorscale": [
             [
              0,
              "#0d0887"
             ],
             [
              0.1111111111111111,
              "#46039f"
             ],
             [
              0.2222222222222222,
              "#7201a8"
             ],
             [
              0.3333333333333333,
              "#9c179e"
             ],
             [
              0.4444444444444444,
              "#bd3786"
             ],
             [
              0.5555555555555556,
              "#d8576b"
             ],
             [
              0.6666666666666666,
              "#ed7953"
             ],
             [
              0.7777777777777778,
              "#fb9f3a"
             ],
             [
              0.8888888888888888,
              "#fdca26"
             ],
             [
              1,
              "#f0f921"
             ]
            ],
            "type": "surface"
           }
          ],
          "table": [
           {
            "cells": {
             "fill": {
              "color": "#EBF0F8"
             },
             "line": {
              "color": "white"
             }
            },
            "header": {
             "fill": {
              "color": "#C8D4E3"
             },
             "line": {
              "color": "white"
             }
            },
            "type": "table"
           }
          ]
         },
         "layout": {
          "annotationdefaults": {
           "arrowcolor": "#2a3f5f",
           "arrowhead": 0,
           "arrowwidth": 1
          },
          "autotypenumbers": "strict",
          "coloraxis": {
           "colorbar": {
            "outlinewidth": 0,
            "ticks": ""
           }
          },
          "colorscale": {
           "diverging": [
            [
             0,
             "#8e0152"
            ],
            [
             0.1,
             "#c51b7d"
            ],
            [
             0.2,
             "#de77ae"
            ],
            [
             0.3,
             "#f1b6da"
            ],
            [
             0.4,
             "#fde0ef"
            ],
            [
             0.5,
             "#f7f7f7"
            ],
            [
             0.6,
             "#e6f5d0"
            ],
            [
             0.7,
             "#b8e186"
            ],
            [
             0.8,
             "#7fbc41"
            ],
            [
             0.9,
             "#4d9221"
            ],
            [
             1,
             "#276419"
            ]
           ],
           "sequential": [
            [
             0,
             "#0d0887"
            ],
            [
             0.1111111111111111,
             "#46039f"
            ],
            [
             0.2222222222222222,
             "#7201a8"
            ],
            [
             0.3333333333333333,
             "#9c179e"
            ],
            [
             0.4444444444444444,
             "#bd3786"
            ],
            [
             0.5555555555555556,
             "#d8576b"
            ],
            [
             0.6666666666666666,
             "#ed7953"
            ],
            [
             0.7777777777777778,
             "#fb9f3a"
            ],
            [
             0.8888888888888888,
             "#fdca26"
            ],
            [
             1,
             "#f0f921"
            ]
           ],
           "sequentialminus": [
            [
             0,
             "#0d0887"
            ],
            [
             0.1111111111111111,
             "#46039f"
            ],
            [
             0.2222222222222222,
             "#7201a8"
            ],
            [
             0.3333333333333333,
             "#9c179e"
            ],
            [
             0.4444444444444444,
             "#bd3786"
            ],
            [
             0.5555555555555556,
             "#d8576b"
            ],
            [
             0.6666666666666666,
             "#ed7953"
            ],
            [
             0.7777777777777778,
             "#fb9f3a"
            ],
            [
             0.8888888888888888,
             "#fdca26"
            ],
            [
             1,
             "#f0f921"
            ]
           ]
          },
          "colorway": [
           "#636efa",
           "#EF553B",
           "#00cc96",
           "#ab63fa",
           "#FFA15A",
           "#19d3f3",
           "#FF6692",
           "#B6E880",
           "#FF97FF",
           "#FECB52"
          ],
          "font": {
           "color": "#2a3f5f"
          },
          "geo": {
           "bgcolor": "white",
           "lakecolor": "white",
           "landcolor": "#E5ECF6",
           "showlakes": true,
           "showland": true,
           "subunitcolor": "white"
          },
          "hoverlabel": {
           "align": "left"
          },
          "hovermode": "closest",
          "mapbox": {
           "style": "light"
          },
          "paper_bgcolor": "white",
          "plot_bgcolor": "#E5ECF6",
          "polar": {
           "angularaxis": {
            "gridcolor": "white",
            "linecolor": "white",
            "ticks": ""
           },
           "bgcolor": "#E5ECF6",
           "radialaxis": {
            "gridcolor": "white",
            "linecolor": "white",
            "ticks": ""
           }
          },
          "scene": {
           "xaxis": {
            "backgroundcolor": "#E5ECF6",
            "gridcolor": "white",
            "gridwidth": 2,
            "linecolor": "white",
            "showbackground": true,
            "ticks": "",
            "zerolinecolor": "white"
           },
           "yaxis": {
            "backgroundcolor": "#E5ECF6",
            "gridcolor": "white",
            "gridwidth": 2,
            "linecolor": "white",
            "showbackground": true,
            "ticks": "",
            "zerolinecolor": "white"
           },
           "zaxis": {
            "backgroundcolor": "#E5ECF6",
            "gridcolor": "white",
            "gridwidth": 2,
            "linecolor": "white",
            "showbackground": true,
            "ticks": "",
            "zerolinecolor": "white"
           }
          },
          "shapedefaults": {
           "line": {
            "color": "#2a3f5f"
           }
          },
          "ternary": {
           "aaxis": {
            "gridcolor": "white",
            "linecolor": "white",
            "ticks": ""
           },
           "baxis": {
            "gridcolor": "white",
            "linecolor": "white",
            "ticks": ""
           },
           "bgcolor": "#E5ECF6",
           "caxis": {
            "gridcolor": "white",
            "linecolor": "white",
            "ticks": ""
           }
          },
          "title": {
           "x": 0.05
          },
          "xaxis": {
           "automargin": true,
           "gridcolor": "white",
           "linecolor": "white",
           "ticks": "",
           "title": {
            "standoff": 15
           },
           "zerolinecolor": "white",
           "zerolinewidth": 2
          },
          "yaxis": {
           "automargin": true,
           "gridcolor": "white",
           "linecolor": "white",
           "ticks": "",
           "title": {
            "standoff": 15
           },
           "zerolinecolor": "white",
           "zerolinewidth": 2
          }
         }
        },
        "title": {
         "text": "Optimization History Plot"
        },
        "xaxis": {
         "title": {
          "text": "Trial"
         }
        },
        "yaxis": {
         "title": {
          "text": "Objective Value"
         }
        }
       }
      }
     },
     "metadata": {},
     "output_type": "display_data"
    },
    {
     "data": {
      "application/vnd.plotly.v1+json": {
       "config": {
        "plotlyServerURL": "https://plot.ly"
       },
       "data": [
        {
         "cliponaxis": false,
         "hovertemplate": [
          "colsample_bytree (FloatDistribution): 0.01334916861863657<extra></extra>",
          "subsample (FloatDistribution): 0.017863277720762884<extra></extra>",
          "gamma (FloatDistribution): 0.02443484367415418<extra></extra>",
          "n_estimators (IntDistribution): 0.07135757014163462<extra></extra>",
          "max_depth (IntDistribution): 0.2275405404549283<extra></extra>",
          "learning_rate (FloatDistribution): 0.6454545993898835<extra></extra>"
         ],
         "name": "Objective Value",
         "orientation": "h",
         "text": [
          "0.01",
          "0.02",
          "0.02",
          "0.07",
          "0.23",
          "0.65"
         ],
         "textposition": "outside",
         "type": "bar",
         "x": [
          0.01334916861863657,
          0.017863277720762884,
          0.02443484367415418,
          0.07135757014163462,
          0.2275405404549283,
          0.6454545993898835
         ],
         "y": [
          "colsample_bytree",
          "subsample",
          "gamma",
          "n_estimators",
          "max_depth",
          "learning_rate"
         ]
        }
       ],
       "layout": {
        "template": {
         "data": {
          "bar": [
           {
            "error_x": {
             "color": "#2a3f5f"
            },
            "error_y": {
             "color": "#2a3f5f"
            },
            "marker": {
             "line": {
              "color": "#E5ECF6",
              "width": 0.5
             },
             "pattern": {
              "fillmode": "overlay",
              "size": 10,
              "solidity": 0.2
             }
            },
            "type": "bar"
           }
          ],
          "barpolar": [
           {
            "marker": {
             "line": {
              "color": "#E5ECF6",
              "width": 0.5
             },
             "pattern": {
              "fillmode": "overlay",
              "size": 10,
              "solidity": 0.2
             }
            },
            "type": "barpolar"
           }
          ],
          "carpet": [
           {
            "aaxis": {
             "endlinecolor": "#2a3f5f",
             "gridcolor": "white",
             "linecolor": "white",
             "minorgridcolor": "white",
             "startlinecolor": "#2a3f5f"
            },
            "baxis": {
             "endlinecolor": "#2a3f5f",
             "gridcolor": "white",
             "linecolor": "white",
             "minorgridcolor": "white",
             "startlinecolor": "#2a3f5f"
            },
            "type": "carpet"
           }
          ],
          "choropleth": [
           {
            "colorbar": {
             "outlinewidth": 0,
             "ticks": ""
            },
            "type": "choropleth"
           }
          ],
          "contour": [
           {
            "colorbar": {
             "outlinewidth": 0,
             "ticks": ""
            },
            "colorscale": [
             [
              0,
              "#0d0887"
             ],
             [
              0.1111111111111111,
              "#46039f"
             ],
             [
              0.2222222222222222,
              "#7201a8"
             ],
             [
              0.3333333333333333,
              "#9c179e"
             ],
             [
              0.4444444444444444,
              "#bd3786"
             ],
             [
              0.5555555555555556,
              "#d8576b"
             ],
             [
              0.6666666666666666,
              "#ed7953"
             ],
             [
              0.7777777777777778,
              "#fb9f3a"
             ],
             [
              0.8888888888888888,
              "#fdca26"
             ],
             [
              1,
              "#f0f921"
             ]
            ],
            "type": "contour"
           }
          ],
          "contourcarpet": [
           {
            "colorbar": {
             "outlinewidth": 0,
             "ticks": ""
            },
            "type": "contourcarpet"
           }
          ],
          "heatmap": [
           {
            "colorbar": {
             "outlinewidth": 0,
             "ticks": ""
            },
            "colorscale": [
             [
              0,
              "#0d0887"
             ],
             [
              0.1111111111111111,
              "#46039f"
             ],
             [
              0.2222222222222222,
              "#7201a8"
             ],
             [
              0.3333333333333333,
              "#9c179e"
             ],
             [
              0.4444444444444444,
              "#bd3786"
             ],
             [
              0.5555555555555556,
              "#d8576b"
             ],
             [
              0.6666666666666666,
              "#ed7953"
             ],
             [
              0.7777777777777778,
              "#fb9f3a"
             ],
             [
              0.8888888888888888,
              "#fdca26"
             ],
             [
              1,
              "#f0f921"
             ]
            ],
            "type": "heatmap"
           }
          ],
          "heatmapgl": [
           {
            "colorbar": {
             "outlinewidth": 0,
             "ticks": ""
            },
            "colorscale": [
             [
              0,
              "#0d0887"
             ],
             [
              0.1111111111111111,
              "#46039f"
             ],
             [
              0.2222222222222222,
              "#7201a8"
             ],
             [
              0.3333333333333333,
              "#9c179e"
             ],
             [
              0.4444444444444444,
              "#bd3786"
             ],
             [
              0.5555555555555556,
              "#d8576b"
             ],
             [
              0.6666666666666666,
              "#ed7953"
             ],
             [
              0.7777777777777778,
              "#fb9f3a"
             ],
             [
              0.8888888888888888,
              "#fdca26"
             ],
             [
              1,
              "#f0f921"
             ]
            ],
            "type": "heatmapgl"
           }
          ],
          "histogram": [
           {
            "marker": {
             "pattern": {
              "fillmode": "overlay",
              "size": 10,
              "solidity": 0.2
             }
            },
            "type": "histogram"
           }
          ],
          "histogram2d": [
           {
            "colorbar": {
             "outlinewidth": 0,
             "ticks": ""
            },
            "colorscale": [
             [
              0,
              "#0d0887"
             ],
             [
              0.1111111111111111,
              "#46039f"
             ],
             [
              0.2222222222222222,
              "#7201a8"
             ],
             [
              0.3333333333333333,
              "#9c179e"
             ],
             [
              0.4444444444444444,
              "#bd3786"
             ],
             [
              0.5555555555555556,
              "#d8576b"
             ],
             [
              0.6666666666666666,
              "#ed7953"
             ],
             [
              0.7777777777777778,
              "#fb9f3a"
             ],
             [
              0.8888888888888888,
              "#fdca26"
             ],
             [
              1,
              "#f0f921"
             ]
            ],
            "type": "histogram2d"
           }
          ],
          "histogram2dcontour": [
           {
            "colorbar": {
             "outlinewidth": 0,
             "ticks": ""
            },
            "colorscale": [
             [
              0,
              "#0d0887"
             ],
             [
              0.1111111111111111,
              "#46039f"
             ],
             [
              0.2222222222222222,
              "#7201a8"
             ],
             [
              0.3333333333333333,
              "#9c179e"
             ],
             [
              0.4444444444444444,
              "#bd3786"
             ],
             [
              0.5555555555555556,
              "#d8576b"
             ],
             [
              0.6666666666666666,
              "#ed7953"
             ],
             [
              0.7777777777777778,
              "#fb9f3a"
             ],
             [
              0.8888888888888888,
              "#fdca26"
             ],
             [
              1,
              "#f0f921"
             ]
            ],
            "type": "histogram2dcontour"
           }
          ],
          "mesh3d": [
           {
            "colorbar": {
             "outlinewidth": 0,
             "ticks": ""
            },
            "type": "mesh3d"
           }
          ],
          "parcoords": [
           {
            "line": {
             "colorbar": {
              "outlinewidth": 0,
              "ticks": ""
             }
            },
            "type": "parcoords"
           }
          ],
          "pie": [
           {
            "automargin": true,
            "type": "pie"
           }
          ],
          "scatter": [
           {
            "fillpattern": {
             "fillmode": "overlay",
             "size": 10,
             "solidity": 0.2
            },
            "type": "scatter"
           }
          ],
          "scatter3d": [
           {
            "line": {
             "colorbar": {
              "outlinewidth": 0,
              "ticks": ""
             }
            },
            "marker": {
             "colorbar": {
              "outlinewidth": 0,
              "ticks": ""
             }
            },
            "type": "scatter3d"
           }
          ],
          "scattercarpet": [
           {
            "marker": {
             "colorbar": {
              "outlinewidth": 0,
              "ticks": ""
             }
            },
            "type": "scattercarpet"
           }
          ],
          "scattergeo": [
           {
            "marker": {
             "colorbar": {
              "outlinewidth": 0,
              "ticks": ""
             }
            },
            "type": "scattergeo"
           }
          ],
          "scattergl": [
           {
            "marker": {
             "colorbar": {
              "outlinewidth": 0,
              "ticks": ""
             }
            },
            "type": "scattergl"
           }
          ],
          "scattermapbox": [
           {
            "marker": {
             "colorbar": {
              "outlinewidth": 0,
              "ticks": ""
             }
            },
            "type": "scattermapbox"
           }
          ],
          "scatterpolar": [
           {
            "marker": {
             "colorbar": {
              "outlinewidth": 0,
              "ticks": ""
             }
            },
            "type": "scatterpolar"
           }
          ],
          "scatterpolargl": [
           {
            "marker": {
             "colorbar": {
              "outlinewidth": 0,
              "ticks": ""
             }
            },
            "type": "scatterpolargl"
           }
          ],
          "scatterternary": [
           {
            "marker": {
             "colorbar": {
              "outlinewidth": 0,
              "ticks": ""
             }
            },
            "type": "scatterternary"
           }
          ],
          "surface": [
           {
            "colorbar": {
             "outlinewidth": 0,
             "ticks": ""
            },
            "colorscale": [
             [
              0,
              "#0d0887"
             ],
             [
              0.1111111111111111,
              "#46039f"
             ],
             [
              0.2222222222222222,
              "#7201a8"
             ],
             [
              0.3333333333333333,
              "#9c179e"
             ],
             [
              0.4444444444444444,
              "#bd3786"
             ],
             [
              0.5555555555555556,
              "#d8576b"
             ],
             [
              0.6666666666666666,
              "#ed7953"
             ],
             [
              0.7777777777777778,
              "#fb9f3a"
             ],
             [
              0.8888888888888888,
              "#fdca26"
             ],
             [
              1,
              "#f0f921"
             ]
            ],
            "type": "surface"
           }
          ],
          "table": [
           {
            "cells": {
             "fill": {
              "color": "#EBF0F8"
             },
             "line": {
              "color": "white"
             }
            },
            "header": {
             "fill": {
              "color": "#C8D4E3"
             },
             "line": {
              "color": "white"
             }
            },
            "type": "table"
           }
          ]
         },
         "layout": {
          "annotationdefaults": {
           "arrowcolor": "#2a3f5f",
           "arrowhead": 0,
           "arrowwidth": 1
          },
          "autotypenumbers": "strict",
          "coloraxis": {
           "colorbar": {
            "outlinewidth": 0,
            "ticks": ""
           }
          },
          "colorscale": {
           "diverging": [
            [
             0,
             "#8e0152"
            ],
            [
             0.1,
             "#c51b7d"
            ],
            [
             0.2,
             "#de77ae"
            ],
            [
             0.3,
             "#f1b6da"
            ],
            [
             0.4,
             "#fde0ef"
            ],
            [
             0.5,
             "#f7f7f7"
            ],
            [
             0.6,
             "#e6f5d0"
            ],
            [
             0.7,
             "#b8e186"
            ],
            [
             0.8,
             "#7fbc41"
            ],
            [
             0.9,
             "#4d9221"
            ],
            [
             1,
             "#276419"
            ]
           ],
           "sequential": [
            [
             0,
             "#0d0887"
            ],
            [
             0.1111111111111111,
             "#46039f"
            ],
            [
             0.2222222222222222,
             "#7201a8"
            ],
            [
             0.3333333333333333,
             "#9c179e"
            ],
            [
             0.4444444444444444,
             "#bd3786"
            ],
            [
             0.5555555555555556,
             "#d8576b"
            ],
            [
             0.6666666666666666,
             "#ed7953"
            ],
            [
             0.7777777777777778,
             "#fb9f3a"
            ],
            [
             0.8888888888888888,
             "#fdca26"
            ],
            [
             1,
             "#f0f921"
            ]
           ],
           "sequentialminus": [
            [
             0,
             "#0d0887"
            ],
            [
             0.1111111111111111,
             "#46039f"
            ],
            [
             0.2222222222222222,
             "#7201a8"
            ],
            [
             0.3333333333333333,
             "#9c179e"
            ],
            [
             0.4444444444444444,
             "#bd3786"
            ],
            [
             0.5555555555555556,
             "#d8576b"
            ],
            [
             0.6666666666666666,
             "#ed7953"
            ],
            [
             0.7777777777777778,
             "#fb9f3a"
            ],
            [
             0.8888888888888888,
             "#fdca26"
            ],
            [
             1,
             "#f0f921"
            ]
           ]
          },
          "colorway": [
           "#636efa",
           "#EF553B",
           "#00cc96",
           "#ab63fa",
           "#FFA15A",
           "#19d3f3",
           "#FF6692",
           "#B6E880",
           "#FF97FF",
           "#FECB52"
          ],
          "font": {
           "color": "#2a3f5f"
          },
          "geo": {
           "bgcolor": "white",
           "lakecolor": "white",
           "landcolor": "#E5ECF6",
           "showlakes": true,
           "showland": true,
           "subunitcolor": "white"
          },
          "hoverlabel": {
           "align": "left"
          },
          "hovermode": "closest",
          "mapbox": {
           "style": "light"
          },
          "paper_bgcolor": "white",
          "plot_bgcolor": "#E5ECF6",
          "polar": {
           "angularaxis": {
            "gridcolor": "white",
            "linecolor": "white",
            "ticks": ""
           },
           "bgcolor": "#E5ECF6",
           "radialaxis": {
            "gridcolor": "white",
            "linecolor": "white",
            "ticks": ""
           }
          },
          "scene": {
           "xaxis": {
            "backgroundcolor": "#E5ECF6",
            "gridcolor": "white",
            "gridwidth": 2,
            "linecolor": "white",
            "showbackground": true,
            "ticks": "",
            "zerolinecolor": "white"
           },
           "yaxis": {
            "backgroundcolor": "#E5ECF6",
            "gridcolor": "white",
            "gridwidth": 2,
            "linecolor": "white",
            "showbackground": true,
            "ticks": "",
            "zerolinecolor": "white"
           },
           "zaxis": {
            "backgroundcolor": "#E5ECF6",
            "gridcolor": "white",
            "gridwidth": 2,
            "linecolor": "white",
            "showbackground": true,
            "ticks": "",
            "zerolinecolor": "white"
           }
          },
          "shapedefaults": {
           "line": {
            "color": "#2a3f5f"
           }
          },
          "ternary": {
           "aaxis": {
            "gridcolor": "white",
            "linecolor": "white",
            "ticks": ""
           },
           "baxis": {
            "gridcolor": "white",
            "linecolor": "white",
            "ticks": ""
           },
           "bgcolor": "#E5ECF6",
           "caxis": {
            "gridcolor": "white",
            "linecolor": "white",
            "ticks": ""
           }
          },
          "title": {
           "x": 0.05
          },
          "xaxis": {
           "automargin": true,
           "gridcolor": "white",
           "linecolor": "white",
           "ticks": "",
           "title": {
            "standoff": 15
           },
           "zerolinecolor": "white",
           "zerolinewidth": 2
          },
          "yaxis": {
           "automargin": true,
           "gridcolor": "white",
           "linecolor": "white",
           "ticks": "",
           "title": {
            "standoff": 15
           },
           "zerolinecolor": "white",
           "zerolinewidth": 2
          }
         }
        },
        "title": {
         "text": "Hyperparameter Importances"
        },
        "xaxis": {
         "title": {
          "text": "Hyperparameter Importance"
         }
        },
        "yaxis": {
         "title": {
          "text": "Hyperparameter"
         }
        }
       }
      }
     },
     "metadata": {},
     "output_type": "display_data"
    }
   ],
   "source": [
    "import optuna.visualization as vis\n",
    "\n",
    "vis.plot_optimization_history(optuna_study).show()\n",
    "vis.plot_param_importances(optuna_study).show()"
   ]
  },
  {
   "cell_type": "code",
   "execution_count": 105,
   "id": "c01378b5",
   "metadata": {},
   "outputs": [
    {
     "data": {
      "text/plain": [
       "['models/xgbclassifier.joblib']"
      ]
     },
     "execution_count": 105,
     "metadata": {},
     "output_type": "execute_result"
    }
   ],
   "source": [
    "import os\n",
    "import joblib\n",
    "\n",
    "os.makedirs('models', exist_ok=True)\n",
    "joblib.dump(xgb_optuna, 'models/xgbclassifier.joblib')"
   ]
  },
  {
   "cell_type": "code",
   "execution_count": 92,
   "id": "0340c366",
   "metadata": {},
   "outputs": [
    {
     "data": {
      "text/html": [
       "<style>#sk-container-id-3 {\n",
       "  /* Definition of color scheme common for light and dark mode */\n",
       "  --sklearn-color-text: #000;\n",
       "  --sklearn-color-text-muted: #666;\n",
       "  --sklearn-color-line: gray;\n",
       "  /* Definition of color scheme for unfitted estimators */\n",
       "  --sklearn-color-unfitted-level-0: #fff5e6;\n",
       "  --sklearn-color-unfitted-level-1: #f6e4d2;\n",
       "  --sklearn-color-unfitted-level-2: #ffe0b3;\n",
       "  --sklearn-color-unfitted-level-3: chocolate;\n",
       "  /* Definition of color scheme for fitted estimators */\n",
       "  --sklearn-color-fitted-level-0: #f0f8ff;\n",
       "  --sklearn-color-fitted-level-1: #d4ebff;\n",
       "  --sklearn-color-fitted-level-2: #b3dbfd;\n",
       "  --sklearn-color-fitted-level-3: cornflowerblue;\n",
       "\n",
       "  /* Specific color for light theme */\n",
       "  --sklearn-color-text-on-default-background: var(--sg-text-color, var(--theme-code-foreground, var(--jp-content-font-color1, black)));\n",
       "  --sklearn-color-background: var(--sg-background-color, var(--theme-background, var(--jp-layout-color0, white)));\n",
       "  --sklearn-color-border-box: var(--sg-text-color, var(--theme-code-foreground, var(--jp-content-font-color1, black)));\n",
       "  --sklearn-color-icon: #696969;\n",
       "\n",
       "  @media (prefers-color-scheme: dark) {\n",
       "    /* Redefinition of color scheme for dark theme */\n",
       "    --sklearn-color-text-on-default-background: var(--sg-text-color, var(--theme-code-foreground, var(--jp-content-font-color1, white)));\n",
       "    --sklearn-color-background: var(--sg-background-color, var(--theme-background, var(--jp-layout-color0, #111)));\n",
       "    --sklearn-color-border-box: var(--sg-text-color, var(--theme-code-foreground, var(--jp-content-font-color1, white)));\n",
       "    --sklearn-color-icon: #878787;\n",
       "  }\n",
       "}\n",
       "\n",
       "#sk-container-id-3 {\n",
       "  color: var(--sklearn-color-text);\n",
       "}\n",
       "\n",
       "#sk-container-id-3 pre {\n",
       "  padding: 0;\n",
       "}\n",
       "\n",
       "#sk-container-id-3 input.sk-hidden--visually {\n",
       "  border: 0;\n",
       "  clip: rect(1px 1px 1px 1px);\n",
       "  clip: rect(1px, 1px, 1px, 1px);\n",
       "  height: 1px;\n",
       "  margin: -1px;\n",
       "  overflow: hidden;\n",
       "  padding: 0;\n",
       "  position: absolute;\n",
       "  width: 1px;\n",
       "}\n",
       "\n",
       "#sk-container-id-3 div.sk-dashed-wrapped {\n",
       "  border: 1px dashed var(--sklearn-color-line);\n",
       "  margin: 0 0.4em 0.5em 0.4em;\n",
       "  box-sizing: border-box;\n",
       "  padding-bottom: 0.4em;\n",
       "  background-color: var(--sklearn-color-background);\n",
       "}\n",
       "\n",
       "#sk-container-id-3 div.sk-container {\n",
       "  /* jupyter's `normalize.less` sets `[hidden] { display: none; }`\n",
       "     but bootstrap.min.css set `[hidden] { display: none !important; }`\n",
       "     so we also need the `!important` here to be able to override the\n",
       "     default hidden behavior on the sphinx rendered scikit-learn.org.\n",
       "     See: https://github.com/scikit-learn/scikit-learn/issues/21755 */\n",
       "  display: inline-block !important;\n",
       "  position: relative;\n",
       "}\n",
       "\n",
       "#sk-container-id-3 div.sk-text-repr-fallback {\n",
       "  display: none;\n",
       "}\n",
       "\n",
       "div.sk-parallel-item,\n",
       "div.sk-serial,\n",
       "div.sk-item {\n",
       "  /* draw centered vertical line to link estimators */\n",
       "  background-image: linear-gradient(var(--sklearn-color-text-on-default-background), var(--sklearn-color-text-on-default-background));\n",
       "  background-size: 2px 100%;\n",
       "  background-repeat: no-repeat;\n",
       "  background-position: center center;\n",
       "}\n",
       "\n",
       "/* Parallel-specific style estimator block */\n",
       "\n",
       "#sk-container-id-3 div.sk-parallel-item::after {\n",
       "  content: \"\";\n",
       "  width: 100%;\n",
       "  border-bottom: 2px solid var(--sklearn-color-text-on-default-background);\n",
       "  flex-grow: 1;\n",
       "}\n",
       "\n",
       "#sk-container-id-3 div.sk-parallel {\n",
       "  display: flex;\n",
       "  align-items: stretch;\n",
       "  justify-content: center;\n",
       "  background-color: var(--sklearn-color-background);\n",
       "  position: relative;\n",
       "}\n",
       "\n",
       "#sk-container-id-3 div.sk-parallel-item {\n",
       "  display: flex;\n",
       "  flex-direction: column;\n",
       "}\n",
       "\n",
       "#sk-container-id-3 div.sk-parallel-item:first-child::after {\n",
       "  align-self: flex-end;\n",
       "  width: 50%;\n",
       "}\n",
       "\n",
       "#sk-container-id-3 div.sk-parallel-item:last-child::after {\n",
       "  align-self: flex-start;\n",
       "  width: 50%;\n",
       "}\n",
       "\n",
       "#sk-container-id-3 div.sk-parallel-item:only-child::after {\n",
       "  width: 0;\n",
       "}\n",
       "\n",
       "/* Serial-specific style estimator block */\n",
       "\n",
       "#sk-container-id-3 div.sk-serial {\n",
       "  display: flex;\n",
       "  flex-direction: column;\n",
       "  align-items: center;\n",
       "  background-color: var(--sklearn-color-background);\n",
       "  padding-right: 1em;\n",
       "  padding-left: 1em;\n",
       "}\n",
       "\n",
       "\n",
       "/* Toggleable style: style used for estimator/Pipeline/ColumnTransformer box that is\n",
       "clickable and can be expanded/collapsed.\n",
       "- Pipeline and ColumnTransformer use this feature and define the default style\n",
       "- Estimators will overwrite some part of the style using the `sk-estimator` class\n",
       "*/\n",
       "\n",
       "/* Pipeline and ColumnTransformer style (default) */\n",
       "\n",
       "#sk-container-id-3 div.sk-toggleable {\n",
       "  /* Default theme specific background. It is overwritten whether we have a\n",
       "  specific estimator or a Pipeline/ColumnTransformer */\n",
       "  background-color: var(--sklearn-color-background);\n",
       "}\n",
       "\n",
       "/* Toggleable label */\n",
       "#sk-container-id-3 label.sk-toggleable__label {\n",
       "  cursor: pointer;\n",
       "  display: flex;\n",
       "  width: 100%;\n",
       "  margin-bottom: 0;\n",
       "  padding: 0.5em;\n",
       "  box-sizing: border-box;\n",
       "  text-align: center;\n",
       "  align-items: start;\n",
       "  justify-content: space-between;\n",
       "  gap: 0.5em;\n",
       "}\n",
       "\n",
       "#sk-container-id-3 label.sk-toggleable__label .caption {\n",
       "  font-size: 0.6rem;\n",
       "  font-weight: lighter;\n",
       "  color: var(--sklearn-color-text-muted);\n",
       "}\n",
       "\n",
       "#sk-container-id-3 label.sk-toggleable__label-arrow:before {\n",
       "  /* Arrow on the left of the label */\n",
       "  content: \"▸\";\n",
       "  float: left;\n",
       "  margin-right: 0.25em;\n",
       "  color: var(--sklearn-color-icon);\n",
       "}\n",
       "\n",
       "#sk-container-id-3 label.sk-toggleable__label-arrow:hover:before {\n",
       "  color: var(--sklearn-color-text);\n",
       "}\n",
       "\n",
       "/* Toggleable content - dropdown */\n",
       "\n",
       "#sk-container-id-3 div.sk-toggleable__content {\n",
       "  max-height: 0;\n",
       "  max-width: 0;\n",
       "  overflow: hidden;\n",
       "  text-align: left;\n",
       "  /* unfitted */\n",
       "  background-color: var(--sklearn-color-unfitted-level-0);\n",
       "}\n",
       "\n",
       "#sk-container-id-3 div.sk-toggleable__content.fitted {\n",
       "  /* fitted */\n",
       "  background-color: var(--sklearn-color-fitted-level-0);\n",
       "}\n",
       "\n",
       "#sk-container-id-3 div.sk-toggleable__content pre {\n",
       "  margin: 0.2em;\n",
       "  border-radius: 0.25em;\n",
       "  color: var(--sklearn-color-text);\n",
       "  /* unfitted */\n",
       "  background-color: var(--sklearn-color-unfitted-level-0);\n",
       "}\n",
       "\n",
       "#sk-container-id-3 div.sk-toggleable__content.fitted pre {\n",
       "  /* unfitted */\n",
       "  background-color: var(--sklearn-color-fitted-level-0);\n",
       "}\n",
       "\n",
       "#sk-container-id-3 input.sk-toggleable__control:checked~div.sk-toggleable__content {\n",
       "  /* Expand drop-down */\n",
       "  max-height: 200px;\n",
       "  max-width: 100%;\n",
       "  overflow: auto;\n",
       "}\n",
       "\n",
       "#sk-container-id-3 input.sk-toggleable__control:checked~label.sk-toggleable__label-arrow:before {\n",
       "  content: \"▾\";\n",
       "}\n",
       "\n",
       "/* Pipeline/ColumnTransformer-specific style */\n",
       "\n",
       "#sk-container-id-3 div.sk-label input.sk-toggleable__control:checked~label.sk-toggleable__label {\n",
       "  color: var(--sklearn-color-text);\n",
       "  background-color: var(--sklearn-color-unfitted-level-2);\n",
       "}\n",
       "\n",
       "#sk-container-id-3 div.sk-label.fitted input.sk-toggleable__control:checked~label.sk-toggleable__label {\n",
       "  background-color: var(--sklearn-color-fitted-level-2);\n",
       "}\n",
       "\n",
       "/* Estimator-specific style */\n",
       "\n",
       "/* Colorize estimator box */\n",
       "#sk-container-id-3 div.sk-estimator input.sk-toggleable__control:checked~label.sk-toggleable__label {\n",
       "  /* unfitted */\n",
       "  background-color: var(--sklearn-color-unfitted-level-2);\n",
       "}\n",
       "\n",
       "#sk-container-id-3 div.sk-estimator.fitted input.sk-toggleable__control:checked~label.sk-toggleable__label {\n",
       "  /* fitted */\n",
       "  background-color: var(--sklearn-color-fitted-level-2);\n",
       "}\n",
       "\n",
       "#sk-container-id-3 div.sk-label label.sk-toggleable__label,\n",
       "#sk-container-id-3 div.sk-label label {\n",
       "  /* The background is the default theme color */\n",
       "  color: var(--sklearn-color-text-on-default-background);\n",
       "}\n",
       "\n",
       "/* On hover, darken the color of the background */\n",
       "#sk-container-id-3 div.sk-label:hover label.sk-toggleable__label {\n",
       "  color: var(--sklearn-color-text);\n",
       "  background-color: var(--sklearn-color-unfitted-level-2);\n",
       "}\n",
       "\n",
       "/* Label box, darken color on hover, fitted */\n",
       "#sk-container-id-3 div.sk-label.fitted:hover label.sk-toggleable__label.fitted {\n",
       "  color: var(--sklearn-color-text);\n",
       "  background-color: var(--sklearn-color-fitted-level-2);\n",
       "}\n",
       "\n",
       "/* Estimator label */\n",
       "\n",
       "#sk-container-id-3 div.sk-label label {\n",
       "  font-family: monospace;\n",
       "  font-weight: bold;\n",
       "  display: inline-block;\n",
       "  line-height: 1.2em;\n",
       "}\n",
       "\n",
       "#sk-container-id-3 div.sk-label-container {\n",
       "  text-align: center;\n",
       "}\n",
       "\n",
       "/* Estimator-specific */\n",
       "#sk-container-id-3 div.sk-estimator {\n",
       "  font-family: monospace;\n",
       "  border: 1px dotted var(--sklearn-color-border-box);\n",
       "  border-radius: 0.25em;\n",
       "  box-sizing: border-box;\n",
       "  margin-bottom: 0.5em;\n",
       "  /* unfitted */\n",
       "  background-color: var(--sklearn-color-unfitted-level-0);\n",
       "}\n",
       "\n",
       "#sk-container-id-3 div.sk-estimator.fitted {\n",
       "  /* fitted */\n",
       "  background-color: var(--sklearn-color-fitted-level-0);\n",
       "}\n",
       "\n",
       "/* on hover */\n",
       "#sk-container-id-3 div.sk-estimator:hover {\n",
       "  /* unfitted */\n",
       "  background-color: var(--sklearn-color-unfitted-level-2);\n",
       "}\n",
       "\n",
       "#sk-container-id-3 div.sk-estimator.fitted:hover {\n",
       "  /* fitted */\n",
       "  background-color: var(--sklearn-color-fitted-level-2);\n",
       "}\n",
       "\n",
       "/* Specification for estimator info (e.g. \"i\" and \"?\") */\n",
       "\n",
       "/* Common style for \"i\" and \"?\" */\n",
       "\n",
       ".sk-estimator-doc-link,\n",
       "a:link.sk-estimator-doc-link,\n",
       "a:visited.sk-estimator-doc-link {\n",
       "  float: right;\n",
       "  font-size: smaller;\n",
       "  line-height: 1em;\n",
       "  font-family: monospace;\n",
       "  background-color: var(--sklearn-color-background);\n",
       "  border-radius: 1em;\n",
       "  height: 1em;\n",
       "  width: 1em;\n",
       "  text-decoration: none !important;\n",
       "  margin-left: 0.5em;\n",
       "  text-align: center;\n",
       "  /* unfitted */\n",
       "  border: var(--sklearn-color-unfitted-level-1) 1pt solid;\n",
       "  color: var(--sklearn-color-unfitted-level-1);\n",
       "}\n",
       "\n",
       ".sk-estimator-doc-link.fitted,\n",
       "a:link.sk-estimator-doc-link.fitted,\n",
       "a:visited.sk-estimator-doc-link.fitted {\n",
       "  /* fitted */\n",
       "  border: var(--sklearn-color-fitted-level-1) 1pt solid;\n",
       "  color: var(--sklearn-color-fitted-level-1);\n",
       "}\n",
       "\n",
       "/* On hover */\n",
       "div.sk-estimator:hover .sk-estimator-doc-link:hover,\n",
       ".sk-estimator-doc-link:hover,\n",
       "div.sk-label-container:hover .sk-estimator-doc-link:hover,\n",
       ".sk-estimator-doc-link:hover {\n",
       "  /* unfitted */\n",
       "  background-color: var(--sklearn-color-unfitted-level-3);\n",
       "  color: var(--sklearn-color-background);\n",
       "  text-decoration: none;\n",
       "}\n",
       "\n",
       "div.sk-estimator.fitted:hover .sk-estimator-doc-link.fitted:hover,\n",
       ".sk-estimator-doc-link.fitted:hover,\n",
       "div.sk-label-container:hover .sk-estimator-doc-link.fitted:hover,\n",
       ".sk-estimator-doc-link.fitted:hover {\n",
       "  /* fitted */\n",
       "  background-color: var(--sklearn-color-fitted-level-3);\n",
       "  color: var(--sklearn-color-background);\n",
       "  text-decoration: none;\n",
       "}\n",
       "\n",
       "/* Span, style for the box shown on hovering the info icon */\n",
       ".sk-estimator-doc-link span {\n",
       "  display: none;\n",
       "  z-index: 9999;\n",
       "  position: relative;\n",
       "  font-weight: normal;\n",
       "  right: .2ex;\n",
       "  padding: .5ex;\n",
       "  margin: .5ex;\n",
       "  width: min-content;\n",
       "  min-width: 20ex;\n",
       "  max-width: 50ex;\n",
       "  color: var(--sklearn-color-text);\n",
       "  box-shadow: 2pt 2pt 4pt #999;\n",
       "  /* unfitted */\n",
       "  background: var(--sklearn-color-unfitted-level-0);\n",
       "  border: .5pt solid var(--sklearn-color-unfitted-level-3);\n",
       "}\n",
       "\n",
       ".sk-estimator-doc-link.fitted span {\n",
       "  /* fitted */\n",
       "  background: var(--sklearn-color-fitted-level-0);\n",
       "  border: var(--sklearn-color-fitted-level-3);\n",
       "}\n",
       "\n",
       ".sk-estimator-doc-link:hover span {\n",
       "  display: block;\n",
       "}\n",
       "\n",
       "/* \"?\"-specific style due to the `<a>` HTML tag */\n",
       "\n",
       "#sk-container-id-3 a.estimator_doc_link {\n",
       "  float: right;\n",
       "  font-size: 1rem;\n",
       "  line-height: 1em;\n",
       "  font-family: monospace;\n",
       "  background-color: var(--sklearn-color-background);\n",
       "  border-radius: 1rem;\n",
       "  height: 1rem;\n",
       "  width: 1rem;\n",
       "  text-decoration: none;\n",
       "  /* unfitted */\n",
       "  color: var(--sklearn-color-unfitted-level-1);\n",
       "  border: var(--sklearn-color-unfitted-level-1) 1pt solid;\n",
       "}\n",
       "\n",
       "#sk-container-id-3 a.estimator_doc_link.fitted {\n",
       "  /* fitted */\n",
       "  border: var(--sklearn-color-fitted-level-1) 1pt solid;\n",
       "  color: var(--sklearn-color-fitted-level-1);\n",
       "}\n",
       "\n",
       "/* On hover */\n",
       "#sk-container-id-3 a.estimator_doc_link:hover {\n",
       "  /* unfitted */\n",
       "  background-color: var(--sklearn-color-unfitted-level-3);\n",
       "  color: var(--sklearn-color-background);\n",
       "  text-decoration: none;\n",
       "}\n",
       "\n",
       "#sk-container-id-3 a.estimator_doc_link.fitted:hover {\n",
       "  /* fitted */\n",
       "  background-color: var(--sklearn-color-fitted-level-3);\n",
       "}\n",
       "</style><div id=\"sk-container-id-3\" class=\"sk-top-container\"><div class=\"sk-text-repr-fallback\"><pre>XGBClassifier(base_score=None, booster=None, callbacks=None,\n",
       "              colsample_bylevel=None, colsample_bynode=None,\n",
       "              colsample_bytree=0.8497553119188078, device=None,\n",
       "              early_stopping_rounds=None, enable_categorical=False,\n",
       "              eval_metric=None, feature_types=None, feature_weights=None,\n",
       "              gamma=4.627293572292331, grow_policy=None, importance_type=None,\n",
       "              interaction_constraints=None, learning_rate=0.12489056025053005,\n",
       "              max_bin=None, max_cat_threshold=None, max_cat_to_onehot=None,\n",
       "              max_delta_step=None, max_depth=8, max_leaves=None,\n",
       "              min_child_weight=None, missing=nan, monotone_constraints=None,\n",
       "              multi_strategy=None, n_estimators=152, n_jobs=None,\n",
       "              num_parallel_tree=None, ...)</pre><b>In a Jupyter environment, please rerun this cell to show the HTML representation or trust the notebook. <br />On GitHub, the HTML representation is unable to render, please try loading this page with nbviewer.org.</b></div><div class=\"sk-container\" hidden><div class=\"sk-item\"><div class=\"sk-estimator fitted sk-toggleable\"><input class=\"sk-toggleable__control sk-hidden--visually\" id=\"sk-estimator-id-7\" type=\"checkbox\" checked><label for=\"sk-estimator-id-7\" class=\"sk-toggleable__label fitted sk-toggleable__label-arrow\"><div><div>XGBClassifier</div></div><div><a class=\"sk-estimator-doc-link fitted\" rel=\"noreferrer\" target=\"_blank\" href=\"https://xgboost.readthedocs.io/en/release_3.0.0/python/python_api.html#xgboost.XGBClassifier\">?<span>Documentation for XGBClassifier</span></a><span class=\"sk-estimator-doc-link fitted\">i<span>Fitted</span></span></div></label><div class=\"sk-toggleable__content fitted\"><pre>XGBClassifier(base_score=None, booster=None, callbacks=None,\n",
       "              colsample_bylevel=None, colsample_bynode=None,\n",
       "              colsample_bytree=0.8497553119188078, device=None,\n",
       "              early_stopping_rounds=None, enable_categorical=False,\n",
       "              eval_metric=None, feature_types=None, feature_weights=None,\n",
       "              gamma=4.627293572292331, grow_policy=None, importance_type=None,\n",
       "              interaction_constraints=None, learning_rate=0.12489056025053005,\n",
       "              max_bin=None, max_cat_threshold=None, max_cat_to_onehot=None,\n",
       "              max_delta_step=None, max_depth=8, max_leaves=None,\n",
       "              min_child_weight=None, missing=nan, monotone_constraints=None,\n",
       "              multi_strategy=None, n_estimators=152, n_jobs=None,\n",
       "              num_parallel_tree=None, ...)</pre></div> </div></div></div></div>"
      ],
      "text/plain": [
       "XGBClassifier(base_score=None, booster=None, callbacks=None,\n",
       "              colsample_bylevel=None, colsample_bynode=None,\n",
       "              colsample_bytree=0.8497553119188078, device=None,\n",
       "              early_stopping_rounds=None, enable_categorical=False,\n",
       "              eval_metric=None, feature_types=None, feature_weights=None,\n",
       "              gamma=4.627293572292331, grow_policy=None, importance_type=None,\n",
       "              interaction_constraints=None, learning_rate=0.12489056025053005,\n",
       "              max_bin=None, max_cat_threshold=None, max_cat_to_onehot=None,\n",
       "              max_delta_step=None, max_depth=8, max_leaves=None,\n",
       "              min_child_weight=None, missing=nan, monotone_constraints=None,\n",
       "              multi_strategy=None, n_estimators=152, n_jobs=None,\n",
       "              num_parallel_tree=None, ...)"
      ]
     },
     "execution_count": 92,
     "metadata": {},
     "output_type": "execute_result"
    }
   ],
   "source": [
    "model = joblib.load('xgbclassifier.joblib')\n",
    "model"
   ]
  },
  {
   "cell_type": "code",
   "execution_count": 106,
   "id": "9cecca11",
   "metadata": {},
   "outputs": [
    {
     "data": {
      "text/plain": [
       "array([0])"
      ]
     },
     "execution_count": 106,
     "metadata": {},
     "output_type": "execute_result"
    }
   ],
   "source": [
    "sample = np.random.rand(1, 30)  # shape: (1, 30)\n",
    "prediction = model.predict(sample)\n",
    "prediction"
   ]
  }
 ],
 "metadata": {
  "kernelspec": {
   "display_name": "base",
   "language": "python",
   "name": "python3"
  },
  "language_info": {
   "codemirror_mode": {
    "name": "ipython",
    "version": 3
   },
   "file_extension": ".py",
   "mimetype": "text/x-python",
   "name": "python",
   "nbconvert_exporter": "python",
   "pygments_lexer": "ipython3",
   "version": "3.12.7"
  }
 },
 "nbformat": 4,
 "nbformat_minor": 5
}
