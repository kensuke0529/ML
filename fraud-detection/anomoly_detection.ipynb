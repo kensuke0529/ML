{
 "cells": [
  {
   "cell_type": "code",
   "execution_count": 3,
   "id": "473618a9",
   "metadata": {},
   "outputs": [],
   "source": [
    "import pandas as pd\n",
    "import matplotlib.pyplot as plt\n",
    "import seaborn as sns\n",
    "from pathlib import Path\n",
    "\n",
    "base = Path().resolve().parent\n",
    "file_path = f'{base}/data/creditcard.parquet'\n",
    "df = pd.read_parquet(file_path)"
   ]
  },
  {
   "cell_type": "markdown",
   "id": "8b589771",
   "metadata": {},
   "source": [
    "#### IsolationForest"
   ]
  },
  {
   "cell_type": "code",
   "execution_count": 4,
   "id": "cbccfcdc",
   "metadata": {},
   "outputs": [
    {
     "name": "stdout",
     "output_type": "stream",
     "text": [
      "Confusion Matrix:\n",
      "[[54843  2021]\n",
      " [   17    81]]\n",
      "\n",
      "Classification Report:\n",
      "              precision    recall  f1-score   support\n",
      "\n",
      "           0     0.9997    0.9645    0.9818     56864\n",
      "           1     0.0385    0.8265    0.0736        98\n",
      "\n",
      "    accuracy                         0.9642     56962\n",
      "   macro avg     0.5191    0.8955    0.5277     56962\n",
      "weighted avg     0.9980    0.9642    0.9802     56962\n",
      "\n",
      "ROC-AUC Score: 0.8954948362293706\n"
     ]
    }
   ],
   "source": [
    "from sklearn.ensemble import IsolationForest\n",
    "from sklearn.metrics import classification_report, confusion_matrix, roc_auc_score\n",
    "import numpy as np\n",
    "from sklearn.model_selection import train_test_split\n",
    "from sklearn.preprocessing import StandardScaler\n",
    "\n",
    "scaler = StandardScaler()\n",
    "df[['scaled_amount', 'scaled_time']] = scaler.fit_transform(df[['Amount', 'Time']])\n",
    "df = df.drop(['Amount', 'Time'], axis=1)\n",
    "\n",
    "\n",
    "X = df.drop(columns=['Class'], axis=1)\n",
    "y = df['Class']\n",
    "\n",
    "X_train, X_test, y_train, y_test = train_test_split(X, y, test_size=0.2, random_state=42)\n",
    "\n",
    "clf = IsolationForest(n_estimators=100, random_state=42)\n",
    "clf.fit(X_train)\n",
    "y_pred = clf.predict(X_test)\n",
    "\n",
    "# Convert: 1 -> 0 (normal), -1 -> 1 (anomaly)\n",
    "y_pred = np.where(y_pred == 1, 0, 1)\n",
    "\n",
    "print(\"Confusion Matrix:\")\n",
    "print(confusion_matrix(y_test, y_pred))\n",
    "\n",
    "print(\"\\nClassification Report:\")\n",
    "print(classification_report(y_test, y_pred, digits=4))\n",
    "\n",
    "print(\"ROC-AUC Score:\", roc_auc_score(y_test, y_pred))"
   ]
  },
  {
   "cell_type": "markdown",
   "id": "c00c566c",
   "metadata": {},
   "source": [
    "#### One-Class-SVM"
   ]
  },
  {
   "cell_type": "code",
   "execution_count": 9,
   "id": "d5efef3a",
   "metadata": {},
   "outputs": [],
   "source": [
    "df_sampled = df.sample(frac=0.05, random_state=42)  \n",
    "\n",
    "X_svm = df_sampled.drop(columns=['Class'], axis=1)\n",
    "y_svm = df_sampled['Class']\n",
    "\n",
    "X_train_svm, X_test_svm, y_train_svm, y_test_svm = train_test_split(\n",
    "    X_svm, y_svm, test_size=0.2, random_state=42)"
   ]
  },
  {
   "cell_type": "code",
   "execution_count": 11,
   "id": "cc6217f3",
   "metadata": {},
   "outputs": [
    {
     "name": "stdout",
     "output_type": "stream",
     "text": [
      "Confusion Matrix:\n",
      "[[1367 1477]\n",
      " [   0    4]]\n",
      "\n",
      "Classification Report:\n",
      "              precision    recall  f1-score   support\n",
      "\n",
      "           0     1.0000    0.4807    0.6493      2844\n",
      "           1     0.0027    1.0000    0.0054         4\n",
      "\n",
      "    accuracy                         0.4814      2848\n",
      "   macro avg     0.5014    0.7403    0.3273      2848\n",
      "weighted avg     0.9986    0.4814    0.6483      2848\n",
      "\n",
      "ROC-AUC Score: 0.7403305203938115\n"
     ]
    }
   ],
   "source": [
    "from sklearn.svm import OneClassSVM\n",
    "\n",
    "svm = OneClassSVM()\n",
    "svm.fit(X_train_svm)\n",
    "y_pred_svm = svm.predict(X_test_svm)\n",
    "y_pred_svm = np.where(y_pred_svm == 1, 0, 1)\n",
    "\n",
    "print(\"Confusion Matrix:\")\n",
    "print(confusion_matrix(y_test_svm, y_pred_svm))\n",
    "\n",
    "print(\"\\nClassification Report:\")\n",
    "print(classification_report(y_test_svm, y_pred_svm, digits=4))\n",
    "\n",
    "print(\"ROC-AUC Score:\", roc_auc_score(y_test_svm, y_pred_svm))"
   ]
  }
 ],
 "metadata": {
  "kernelspec": {
   "display_name": "base",
   "language": "python",
   "name": "python3"
  },
  "language_info": {
   "codemirror_mode": {
    "name": "ipython",
    "version": 3
   },
   "file_extension": ".py",
   "mimetype": "text/x-python",
   "name": "python",
   "nbconvert_exporter": "python",
   "pygments_lexer": "ipython3",
   "version": "3.12.7"
  }
 },
 "nbformat": 4,
 "nbformat_minor": 5
}
